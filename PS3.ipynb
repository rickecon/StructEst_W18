{
 "cells": [
  {
   "cell_type": "markdown",
   "metadata": {},
   "source": [
    "# MACS 40200\n",
    "# Problem Set 3\n",
    "## Yuyao Wu"
   ]
  },
  {
   "cell_type": "code",
   "execution_count": 219,
   "metadata": {
    "collapsed": true
   },
   "outputs": [],
   "source": [
    "import numpy as np\n",
    "import scipy.stats as sts\n",
    "import scipy.special as spec\n",
    "import matplotlib.pyplot as plt\n",
    "import scipy.optimize as opt\n",
    "import scipy.integrate as integral\n",
    "\n",
    "cons, totsav, wage, intrate = np.loadtxt('MacroSeries.txt', delimiter=',', unpack=True)"
   ]
  },
  {
   "cell_type": "markdown",
   "metadata": {},
   "source": [
    "# (a)."
   ]
  },
  {
   "cell_type": "code",
   "execution_count": 220,
   "metadata": {},
   "outputs": [
    {
     "name": "stdout",
     "output_type": "stream",
     "text": [
      "alpha = 0.702042616675 rho = 0.479861663257 mu = 6.2546870096 sigma = 0.0920456697135\n",
      "The value of the maximized log likelihood function is 96.6537374993\n",
      "The corresponding Hessian Matrix is:\n",
      "[[  1.50959352e+02  -2.01510158e+02  -1.85322793e+03  -7.20174412e-01]\n",
      " [ -2.01510158e+02   2.72608474e+02   2.47345635e+03   1.04279147e+00]\n",
      " [ -1.85322793e+03   2.47345635e+03   2.27508858e+04   8.83316995e+00]\n",
      " [ -7.20174412e-01   1.04279147e+00   8.83316995e+00   5.32494489e-03]]\n"
     ]
    }
   ],
   "source": [
    "#Firstly, use w, k, alpha, and equation (3) to express z.\n",
    "def get_z(k, w, alpha):\n",
    "    z = np.log(w) - np.log(1-alpha) - alpha*np.log(k)\n",
    "    \n",
    "    return z\n",
    "\n",
    "#Then use equation 5 to get error\n",
    "def get_epsilon(z, rho, mu):\n",
    "    N = len(cons)\n",
    "    epsilon = np.zeros(N)\n",
    "    epsilon[0] = z[0] - mu\n",
    "    for i in range(N-1):\n",
    "        epsilon[i+1] = z[i+1] - rho * z[i] - (1-rho)*mu\n",
    "        \n",
    "    return epsilon\n",
    "\n",
    "\n",
    "def norm_pdf(k, w, alpha, rho, mu, sigma):\n",
    "    z = get_z(k, w, alpha)\n",
    "    eps = get_epsilon(z, rho, mu)\n",
    "    pdf_vals = np.maximum((1/np.sqrt(2*np.pi*(sigma**2))) * np.exp(-(eps**2)/(2*(sigma**2))), 1e-20)\n",
    "    \n",
    "    return pdf_vals\n",
    "\n",
    "def log_lik_norm(k, w, alpha, rho, mu, sigma):\n",
    "    pdf_vals = norm_pdf(k, w, alpha, rho, mu, sigma)\n",
    "    ln_pdf_vals = np.log(pdf_vals)\n",
    "    log_lik_val = ln_pdf_vals.sum()\n",
    "    \n",
    "    return log_lik_val\n",
    "\n",
    "def crit(params, *args):\n",
    "    alpha, rho, mu, sigma = params\n",
    "    k, w = args\n",
    "    log_lik_val = log_lik_norm(k, w, alpha, rho, mu, sigma)\n",
    "    neg_log_lik_val = -log_lik_val\n",
    "    \n",
    "    return neg_log_lik_val\n",
    "\n",
    "alpha_init = 0.4\n",
    "rho_init = -0.5\n",
    "mu_init = 4\n",
    "sigma_init = 1.5\n",
    "params_init = np.array([alpha_init, rho_init, mu_init, sigma_init])\n",
    "mle_args = (totsav, wage)\n",
    "results = opt.minimize(crit, params_init, args=(mle_args), method='L-BFGS-B', bounds=((1e-10, 1-1e-10), (-1+1e-10, 1-1e-10), (1e-10, None), (1e-10, None)))\n",
    "alpha_mle, rho_mle, mu_mle, sigma_mle = results.x\n",
    "HessianInv = results.hess_inv.todense()\n",
    "print ('alpha =', alpha_mle, 'rho =', rho_mle, 'mu =', mu_mle, 'sigma =', sigma_mle)\n",
    "print ('The value of the maximized log likelihood function is', log_lik_norm(totsav, wage, alpha_mle, rho_mle, mu_mle, sigma_mle))\n",
    "print ('The corresponding Hessian Matrix is:')\n",
    "print (HessianInv)"
   ]
  },
  {
   "cell_type": "markdown",
   "metadata": {
    "collapsed": true
   },
   "source": [
    "# (b)."
   ]
  },
  {
   "cell_type": "code",
   "execution_count": 221,
   "metadata": {},
   "outputs": [
    {
     "name": "stdout",
     "output_type": "stream",
     "text": [
      "alpha = 0.701847854588 rho = 0.480092809516 mu = 5.07822562669 sigma = 0.0920463476278\n",
      "The value of the maximized log likelihood function is 96.6537367138\n",
      "The corresponding Hessian Matrix is:\n",
      "[[  5.27573532e+01  -4.24996263e+01  -9.17899890e+02   1.20590631e+01]\n",
      " [ -4.24996263e+01   3.42680304e+01   7.39444467e+02  -9.73737986e+00]\n",
      " [ -9.17899890e+02   7.39444467e+02   1.59701119e+04  -2.09827527e+02]\n",
      " [  1.20590631e+01  -9.73737987e+00  -2.09827527e+02   2.78383955e+00]]\n"
     ]
    }
   ],
   "source": [
    "#Firstly, use equation (4) to get z\n",
    "def get_zb(k, r, alpha):\n",
    "    z = np.log(r) - np.log(alpha) - (alpha - 1)*np.log(k)\n",
    "    \n",
    "    return z\n",
    "\n",
    "#Then use equation 5 to get error\n",
    "def get_epsilonb(z, rho, mu):\n",
    "    N = len(cons)\n",
    "    epsilon = np.zeros(N)\n",
    "    epsilon[0] = z[0] - mu\n",
    "    for i in range(N-1):\n",
    "        epsilon[i+1] = z[i+1] - rho * z[i] - (1-rho)*mu\n",
    "        \n",
    "    return epsilon\n",
    "\n",
    "\n",
    "def norm_pdfb(k, r, alpha, rho, mu, sigma):\n",
    "    z = get_zb(k, r, alpha)\n",
    "    eps = get_epsilonb(z, rho, mu)\n",
    "    pdf_vals = np.maximum((1/np.sqrt(2*np.pi*(sigma**2))) * np.exp(-(eps**2)/(2*(sigma**2))), 1e-20)\n",
    "    \n",
    "    return pdf_vals\n",
    "\n",
    "def log_lik_normb(k, r, alpha, rho, mu, sigma):\n",
    "    pdf_vals = norm_pdfb(k, r, alpha, rho, mu, sigma)\n",
    "    ln_pdf_vals = np.log(pdf_vals)\n",
    "    log_lik_val = ln_pdf_vals.sum()\n",
    "    \n",
    "    return log_lik_val\n",
    "\n",
    "def critb(params, *args):\n",
    "    alpha, rho, mu, sigma = params\n",
    "    k, r = args\n",
    "    log_lik_val = log_lik_normb(k, r, alpha, rho, mu, sigma)\n",
    "    neg_log_lik_val = -log_lik_val\n",
    "    \n",
    "    return neg_log_lik_val\n",
    "\n",
    "alpha_init = 0.3\n",
    "rho_init = -0.9\n",
    "mu_init = 2\n",
    "sigma_init = 4\n",
    "params_init = np.array([alpha_init, rho_init, mu_init, sigma_init])\n",
    "mle_args = (totsav, intrate)\n",
    "results = opt.minimize(critb, params_init, args=(mle_args), method='L-BFGS-B', bounds=((1e-10, 1-1e-10), (-1+1e-10, 1-1e-10), (1e-10, None), (1e-10, None)))\n",
    "alpha_mleb, rho_mleb, mu_mleb, sigma_mleb = results.x\n",
    "HessianInvb = results.hess_inv.todense()\n",
    "print ('alpha =', alpha_mleb, 'rho =', rho_mleb, 'mu =', mu_mleb, 'sigma =', sigma_mleb)\n",
    "print ('The value of the maximized log likelihood function is', log_lik_normb(totsav, intrate, alpha_mleb, rho_mleb, mu_mleb, sigma_mleb))\n",
    "print ('The corresponding Hessian Matrix is:')\n",
    "print (HessianInvb)"
   ]
  },
  {
   "cell_type": "markdown",
   "metadata": {},
   "source": [
    "# (c)."
   ]
  },
  {
   "cell_type": "markdown",
   "metadata": {},
   "source": [
    "We want to solve for $P(r_{t}>1 |\\hat{\\theta},k_{t},z_{t-1})$\n",
    "\n",
    "According to equation (4), this is equivalent to solve for $P(\\alpha e^{z_{t}}k_{t}^{\\alpha - 1}>1 |\\hat{\\theta},k_{t},z_{t-1})$\n",
    "\n",
    "Then we have: $P(r_{t}>1 |\\hat{\\theta},k_{t},z_{t-1})$ = $P(\\alpha e^{z_{t}}k_{t}^{\\alpha - 1}>1 |\\hat{\\theta},k_{t},z_{t-1})$ = $P(e^{z_{t}}>\\frac{1}{\\alpha k_{t}^{\\alpha - 1}} |\\hat{\\theta},k_{t},z_{t-1})$\n",
    "\n",
    "So, $P(r_{t}>1 |\\hat{\\theta},k_{t},z_{t-1})$ = $P(z_{t}>\\log{\\frac{1}{\\alpha k_{t}^{\\alpha - 1}}} |\\hat{\\theta},k_{t},z_{t-1})$\n",
    "\n",
    "$P(r_{t}>1 |\\hat{\\theta},k_{t},z_{t-1})$ = $P(z_{t}>-\\log{\\alpha} + (1-\\alpha)\\log{k_{t}} |\\hat{\\theta},k_{t},z_{t-1})$\n",
    "\n",
    "According to equation (5), we have $P(r_{t}>1 |\\hat{\\theta},k_{t},z_{t-1})$ = $P(\\rho z_{t-1} + (1-\\rho)\\mu + \\epsilon_{t}>-\\log{\\alpha} + (1-\\alpha)\\log{k_{t}} |\\hat{\\theta},k_{t},z_{t-1})$\n",
    "\n",
    "So, $P(r_{t}>1 |\\hat{\\theta},k_{t},z_{t-1})$ = $P(\\epsilon_{t}>-(1-\\rho)\\mu -\\rho z_{t-1} -\\log{\\alpha} + (1-\\alpha)\\log{k_{t}} |\\hat{\\theta},k_{t},z_{t-1})$\n",
    "\n",
    "$P(r_{t}>1 |\\hat{\\theta},k_{t},z_{t-1})$ = $P(\\epsilon_{t}>(1-\\alpha)\\log{k_{t}}+(\\rho - 1)\\mu -\\rho z_{t-1} -\\log{\\alpha}|\\hat{\\theta},k_{t},z_{t-1})$\n",
    "\n",
    "$P(r_{t}>1 |\\hat{\\theta},k_{t},z_{t-1})$ = $P(\\epsilon_{t}>(1-\\hat{\\alpha})\\log{k_{t}}+(\\hat{\\rho} - 1)\\hat{\\mu} -\\hat{\\rho} z_{t-1} -\\log{\\hat{\\alpha}})$\n",
    "\n",
    "$P(r_{t}>1 |\\hat{\\theta},k_{t},z_{t-1})$ =1 - $P(\\epsilon_{t}\\leq(1-\\hat{\\alpha})\\log{k_{t}}+(\\hat{\\rho} - 1)\\hat{\\mu} -\\hat{\\rho} z_{t-1} -\\log{\\hat{\\alpha}})$\n",
    "\n",
    "Since $\\epsilon_{t}$~$N(0,\\hat{\\sigma}^{2})$ and we know the values of $k_{t}$, $z_{t-1}$, $\\hat{\\alpha}$, $\\hat{\\rho}$, $\\hat{\\mu}$, and $\\hat{\\sigma}$, then we can use stats.norm.cdf to compute the probability."
   ]
  },
  {
   "cell_type": "code",
   "execution_count": 222,
   "metadata": {},
   "outputs": [
    {
     "name": "stdout",
     "output_type": "stream",
     "text": [
      "1.0\n"
     ]
    }
   ],
   "source": [
    "k_current = 7500000\n",
    "epsilon_t = (1 - alpha_mle) * np.log(k_current) - np.log(alpha_mle) + (rho_mle - 1) * mu_mle - 10 * rho_mle\n",
    "prob = 1 - sts.norm.cdf(epsilon_t, loc=0, scale=sigma_mle)\n",
    "print (prob)"
   ]
  },
  {
   "cell_type": "code",
   "execution_count": null,
   "metadata": {
    "collapsed": true
   },
   "outputs": [],
   "source": []
  }
 ],
 "metadata": {
  "kernelspec": {
   "display_name": "Python 3",
   "language": "python",
   "name": "python3"
  },
  "language_info": {
   "codemirror_mode": {
    "name": "ipython",
    "version": 3
   },
   "file_extension": ".py",
   "mimetype": "text/x-python",
   "name": "python",
   "nbconvert_exporter": "python",
   "pygments_lexer": "ipython3",
   "version": "3.6.3"
  }
 },
 "nbformat": 4,
 "nbformat_minor": 2
}
