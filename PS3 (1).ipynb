{
 "cells": [
  {
   "cell_type": "code",
   "execution_count": 133,
   "metadata": {
    "collapsed": true
   },
   "outputs": [],
   "source": [
    "#import modules\n",
    "import numpy as np\n",
    "import scipy.stats as sts\n",
    "import scipy.optimize as opt\n",
    "import scipy.special as spc\n",
    "import scipy.integrate as integrate\n",
    "import pandas as pd"
   ]
  },
  {
   "cell_type": "code",
   "execution_count": 134,
   "metadata": {
    "collapsed": true
   },
   "outputs": [],
   "source": [
    "data = pd.read_csv('MacroSeries.txt',sep=',',header=None,names=['c_t','k_t','w_t','r_t'])"
   ]
  },
  {
   "cell_type": "code",
   "execution_count": 135,
   "metadata": {
    "collapsed": true
   },
   "outputs": [],
   "source": [
    "#part a\n",
    "#from equation 3,\n",
    "def z_t(w_t,k_t,alpha):\n",
    "    return np.log(w_t/((1-alpha) * k_t ** alpha))    \n",
    "\n",
    "\n",
    "#from equation 5\n",
    "def eps_t(z_t, rho, mu):\n",
    "    z_t_1=np.append(mu, z_t[:-1])\n",
    "    return z_t - rho * z_t_1 - (1-rho) * mu\n",
    "\n",
    "\n",
    "# Define normal distribution and the likelihood function\n",
    "def norm_pdf(w_t, k_t, alpha, rho, mu, sigma):\n",
    "    eps_vals = eps_t(z_t(w_t,k_t,alpha), rho, mu)\n",
    "    pdf_vals    = np.maximum((1/np.sqrt(2 * np.pi * sigma**2)) * np.exp( - (eps_vals)**2 / (2 * sigma**2)), 1e-20)\n",
    "    return pdf_vals\n",
    "                    \n",
    "def log_lik_normal(w_t, k_t, alpha, rho, mu, sigma):\n",
    "    pdf_vals = norm_pdf(w_t, k_t, alpha, rho, mu, sigma)\n",
    "    ln_pdf_vals = np.log(pdf_vals)\n",
    "    log_lik_val = ln_pdf_vals.sum()\n",
    "    return log_lik_val\n",
    "\n",
    "\n",
    "# Define Objective Function\n",
    "def normcrit(params, w_t, k_t):\n",
    "    alpha, rho, mu, sigma = params\n",
    "    log_lik_val = log_lik_normal(w_t,k_t, alpha, rho, mu, sigma)\n",
    "    return -log_lik_val"
   ]
  },
  {
   "cell_type": "code",
   "execution_count": 136,
   "metadata": {},
   "outputs": [
    {
     "name": "stdout",
     "output_type": "stream",
     "text": [
      "alpha_MLE= 0.457518425402  rho_MLE= 0.720486871779 mu_MLE= 9.52269036866  sigma_MLE= 0.0919962297507\n",
      "log likelikehood= 96.70690807310774\n"
     ]
    }
   ],
   "source": [
    "#optimize the result\n",
    "#randomly guess for initial values\n",
    "alpha_0, rho_0, mu_0, sigma_0 = 0.4, 0.7, 10, 1\n",
    "params_init = np.array([alpha_0, rho_0, mu_0, sigma_0])\n",
    "mle1_args = (data [\"w_t\"], data[\"k_t\"])\n",
    "results1 = opt.minimize(normcrit, params_init, args=(mle1_args), method='L-BFGS-B',bounds = ((1e-8, 1-1e-8), (-1+1e-8, 1-1e-8), (1e-8, None), (1e-8, None)))\n",
    "alpha_MLE, rho_MLE, mu_MLE, sigma_MLE = results1.x\n",
    "hessinv1 = results1.hess_inv\n",
    "\n",
    "#get MLE results\n",
    "print('alpha_MLE=', alpha_MLE, ' rho_MLE=', rho_MLE, 'mu_MLE=', mu_MLE, ' sigma_MLE=', sigma_MLE)\n",
    "print(\"log likelikehood=\", -results1.fun)\n"
   ]
  },
  {
   "cell_type": "code",
   "execution_count": 137,
   "metadata": {},
   "outputs": [
    {
     "name": "stdout",
     "output_type": "stream",
     "text": [
      "VCV(MLE) =  [[  2.59146358e+02  -9.88010739e+01  -3.62342544e+03   1.25824998e+01]\n",
      " [ -9.88010739e+01   4.32793330e+01   1.38268318e+03  -5.18531620e+00]\n",
      " [ -3.62342544e+03   1.38268318e+03   5.06635800e+04  -1.76015963e+02]\n",
      " [  1.25824998e+01  -5.18531620e+00  -1.76015963e+02   6.38087660e-01]]\n"
     ]
    }
   ],
   "source": [
    "#get variance covariance matrix\n",
    "vcv_mle1 = results1.hess_inv.todense()\n",
    "print('VCV(MLE) = ', vcv_mle1)"
   ]
  },
  {
   "cell_type": "code",
   "execution_count": 138,
   "metadata": {
    "collapsed": true
   },
   "outputs": [],
   "source": [
    "#part b\n",
    "#from equation 4,\n",
    "def z_tt(r_t,k_t,alpha):\n",
    "    return np.log(r_t/((alpha) * k_t ** (alpha-1)))    \n",
    "\n",
    "\n",
    "#from equation 5\n",
    "def eps_t(z_tt, rho, mu):\n",
    "    z_tt_1=np.append(mu, z_tt[:-1])\n",
    "\n",
    "    return z_tt - rho * z_tt_1 - (1-rho) * mu\n",
    "\n",
    "# Define normal distribution and the likelihood function\n",
    "def norm_pdf(r_t, k_t, alpha, rho, mu, sigma):\n",
    "    eps_vals = eps_t(z_tt(r_t,k_t,alpha), rho, mu)\n",
    "    pdf_vals    = np.maximum((1/np.sqrt(2 * np.pi * sigma**2)) * np.exp( - (eps_vals)**2 / (2 * sigma**2)), 1e-20)\n",
    "    return pdf_vals\n",
    "                    \n",
    "def log_lik_normal(r_t, k_t, alpha, rho, mu, sigma):\n",
    "    epsvals = eps_t(z_tt(r_t,k_t,alpha), rho, mu)\n",
    "    pdf_vals = norm_pdf(r_t, k_t, alpha, rho, mu, sigma)\n",
    "    ln_pdf_vals = np.log(pdf_vals)\n",
    "    log_lik_val = ln_pdf_vals.sum()\n",
    "\n",
    "    return log_lik_val\n",
    "\n",
    "\n",
    "# Define Objective Function\n",
    "def normcrit(params, r_t, k_t):\n",
    "    alpha, rho, mu, sigma = params\n",
    "    log_lik_val = log_lik_normal(r_t, k_t, alpha, rho, mu, sigma)\n",
    "    return -log_lik_val\n"
   ]
  },
  {
   "cell_type": "code",
   "execution_count": 139,
   "metadata": {},
   "outputs": [
    {
     "name": "stdout",
     "output_type": "stream",
     "text": [
      "alpha_MLE= 0.457477871182  rho_MLE= 0.720517319091 mu_MLE= 9.37098406761  sigma_MLE= 0.0919962149614\n",
      "log likelikehood= 96.70690802228295\n"
     ]
    }
   ],
   "source": [
    "#optimize the result\n",
    "#randomly guess for initial values\n",
    "alpha_0, rho_0, mu_0, sigma_0 = 0.4, 0.7, 10, 1\n",
    "params_init = np.array([alpha_0, rho_0, mu_0, sigma_0])\n",
    "mle1_args = (data [\"r_t\"], data[\"k_t\"])\n",
    "results2 = opt.minimize(normcrit, params_init, args=(mle1_args), method='L-BFGS-B',bounds = ((1e-8, 1-1e-8), (-1+1e-8, 1-1e-8), (1e-8, None), (1e-8, None)))\n",
    "alpha_MLE, rho_MLE, mu_MLE, sigma_MLE = results2.x\n",
    "hessinv1 = results2.hess_inv\n",
    "\n",
    "#get MLE results\n",
    "print('alpha_MLE=', alpha_MLE, ' rho_MLE=', rho_MLE, 'mu_MLE=', mu_MLE, ' sigma_MLE=', sigma_MLE)\n",
    "print(\"log likelikehood=\", -results2.fun)"
   ]
  },
  {
   "cell_type": "code",
   "execution_count": 140,
   "metadata": {},
   "outputs": [
    {
     "name": "stdout",
     "output_type": "stream",
     "text": [
      "VCV(MLE) =  [[  2.53128754e+01   1.70127003e+01  -4.47213824e+02  -1.01760191e+00]\n",
      " [  1.70127003e+01   1.51015454e+01  -3.01117296e+02  -2.14062313e-01]\n",
      " [ -4.47213824e+02  -3.01117296e+02   7.90122283e+03   1.79028815e+01]\n",
      " [ -1.01760191e+00  -2.14062313e-01   1.79028815e+01   1.03233016e-01]]\n"
     ]
    }
   ],
   "source": [
    "#get variance covariance matrix\n",
    "vcv_mle2 = results2.hess_inv.todense()\n",
    "print('VCV(MLE) = ', vcv_mle2)"
   ]
  },
  {
   "cell_type": "code",
   "execution_count": 141,
   "metadata": {},
   "outputs": [
    {
     "name": "stdout",
     "output_type": "stream",
     "text": [
      "zcrit = 9.37037643911\n",
      "Probability that the interest rate at t will be greater than 1: 0.9999995952808879\n"
     ]
    }
   ],
   "source": [
    "#part c\n",
    "z_crit = np.log(1)-np.log(alpha_MLE)+(1-alpha_MLE)*np.log(7500000)\n",
    "print ('zcrit =', z_crit)\n",
    "\n",
    "def norm_pdf_z_crit(z_t, rho, sigma, mu):\n",
    "    pdf_vals    = np.maximum((1/np.sqrt(2 * np.pi * sigma**2)) * np.exp( - (z_t-rho*10-(1-rho)*mu)**2 / (2 * sigma**2)), 1e-20)\n",
    "    return pdf_vals\n",
    "\n",
    "probability_r_1 = 1 - integrate.quad(lambda x: norm_pdf_z_crit(x, rho_MLE, sigma_MLE, mu_MLE), 0, z_crit)[0]\n",
    "print('Probability that the interest rate at t will be greater than 1:', probability_r_1)"
   ]
  },
  {
   "cell_type": "code",
   "execution_count": null,
   "metadata": {
    "collapsed": true
   },
   "outputs": [],
   "source": []
  }
 ],
 "metadata": {
  "kernelspec": {
   "display_name": "Python 3",
   "language": "python",
   "name": "python3"
  },
  "language_info": {
   "codemirror_mode": {
    "name": "ipython",
    "version": 3
   },
   "file_extension": ".py",
   "mimetype": "text/x-python",
   "name": "python",
   "nbconvert_exporter": "python",
   "pygments_lexer": "ipython3",
   "version": "3.6.3"
  }
 },
 "nbformat": 4,
 "nbformat_minor": 2
}
