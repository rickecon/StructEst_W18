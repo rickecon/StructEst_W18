{
 "cells": [
  {
   "cell_type": "code",
   "execution_count": 3,
   "metadata": {
    "collapsed": true
   },
   "outputs": [],
   "source": [
    "import pandas as pd\n",
    "import numpy as np\n",
    "import scipy.stats as sts\n",
    "import scipy.special as ssp\n",
    "import scipy.integrate as intg\n",
    "import scipy.optimize as opt\n",
    "\n",
    "ms = pd.read_csv('MacroSeries.txt',sep=',',header=None,names=['ct','kt','wt','rt'])\n",
    "ct = ms['ct']\n",
    "kt = ms['kt']\n",
    "wt = ms['wt']\n",
    "rt = ms['rt']\n",
    "\n",
    "beta = 0.99"
   ]
  },
  {
   "cell_type": "markdown",
   "metadata": {},
   "source": [
    "(a)"
   ]
  },
  {
   "cell_type": "code",
   "execution_count": 4,
   "metadata": {
    "collapsed": true
   },
   "outputs": [],
   "source": [
    "def eq3(wt, kt, alpha):\n",
    "\n",
    "    zt = np.log(wt)-np.log(1-alpha)-alpha*np.log(kt)\n",
    "    \n",
    "    return zt"
   ]
  },
  {
   "cell_type": "code",
   "execution_count": 5,
   "metadata": {
    "collapsed": true
   },
   "outputs": [],
   "source": [
    "def norm_pdf(zt, rho, sigma, mu):\n",
    "    zt_1 = np.append(mu, zt[:-1])\n",
    "\n",
    "    eps = zt - rho * zt_1 - (1 - rho) * mu\n",
    "    pdf_vals = np.maximum(sts.norm.pdf(eps, 0, sigma), 1e-10)\n",
    "    \n",
    "    return pdf_vals\n"
   ]
  },
  {
   "cell_type": "code",
   "execution_count": 6,
   "metadata": {
    "collapsed": true
   },
   "outputs": [],
   "source": [
    "def log_lik_norm(zt, rho, sigma, mu):\n",
    "    \n",
    "    pdf_vals = norm_pdf(zt, rho, sigma, mu)\n",
    "    ln_pdf_vals = np.log(pdf_vals)\n",
    "    log_lik_val = ln_pdf_vals.sum()\n",
    "    \n",
    "    return log_lik_val"
   ]
  },
  {
   "cell_type": "code",
   "execution_count": 7,
   "metadata": {
    "collapsed": true
   },
   "outputs": [],
   "source": [
    "def crit(params, *args):\n",
    "    alpha, rho, sigma, mu = params\n",
    "    wt, kt = args\n",
    "    zt = eq3(wt, kt, alpha)\n",
    "    log_lik_val = log_lik_norm(zt, rho, sigma, mu)\n",
    "    neg_log_lik_val = -log_lik_val\n",
    "    \n",
    "    return neg_log_lik_val"
   ]
  },
  {
   "cell_type": "code",
   "execution_count": 8,
   "metadata": {
    "collapsed": true
   },
   "outputs": [],
   "source": [
    "alpha_init = 0.3\n",
    "rho_init = 0\n",
    "sigma_init = 0.3\n",
    "mu_init = 10"
   ]
  },
  {
   "cell_type": "code",
   "execution_count": 9,
   "metadata": {},
   "outputs": [
    {
     "name": "stdout",
     "output_type": "stream",
     "text": [
      "alpha_MLE= 0.467852628313  rho_MLE= 0.712800779102 sigma_MLE= 0.0919967242399 mu_MLE 9.37837412289\n",
      "Inverse Hessian= [[  1.93309199e-01   3.29806799e+00  -6.79490185e-02  -3.14215517e+00]\n",
      " [  3.29806799e+00   5.95375163e+01  -1.22518190e+00  -5.40355673e+01]\n",
      " [ -6.79490185e-02  -1.22518190e+00   2.54921923e-02   1.11345205e+00]\n",
      " [ -3.14215517e+00  -5.40355673e+01   1.11345205e+00   5.11312250e+01]]\n"
     ]
    }
   ],
   "source": [
    "mle_args = (wt, kt)\n",
    "params_init = np.array([alpha_init,rho_init,sigma_init,mu_init])\n",
    "results = opt.minimize(crit, params_init, args=(mle_args), bounds = ((1e-10, 1-1e-10), (-1+1e-10, 1-1e-10), (1e-10, None), (1e-10, None)), method = 'L-BFGS-B')\n",
    "\n",
    "alpha_MLE, rho_MLE, sigma_MLE, mu_MLE = results.x\n",
    "inv_hess = results.hess_inv*np.identity(4) \n",
    "max_log_lik = log_lik_norm(eq3(wt, kt, alpha_MLE),rho_MLE,sigma_MLE,mu_MLE)\n",
    "print('alpha_MLE=', alpha_MLE, ' rho_MLE=', rho_MLE, 'sigma_MLE=', sigma_MLE, 'mu_MLE', mu_MLE)\n",
    "print('Inverse Hessian=', inv_hess)"
   ]
  },
  {
   "cell_type": "markdown",
   "metadata": {},
   "source": [
    "(b)"
   ]
  },
  {
   "cell_type": "code",
   "execution_count": 10,
   "metadata": {
    "collapsed": true
   },
   "outputs": [],
   "source": [
    "def eq4(rt, kt, alpha):\n",
    "    zt = np.log(rt)-np.log(alpha)+(1-alpha)*np.log(kt)\n",
    "    return zt"
   ]
  },
  {
   "cell_type": "code",
   "execution_count": 11,
   "metadata": {
    "collapsed": true
   },
   "outputs": [],
   "source": [
    "\n",
    "def norm_pdf(zt, rho, sigma, mu):\n",
    "    zt_1 = np.append(mu, zt[:-1])\n",
    "    eps = zt - rho * zt_1 - (1 - rho) * mu\n",
    "    pdf_vals = np.maximum(sts.norm.pdf(eps, 0, sigma), 1e-10)\n",
    "\n",
    "    return pdf_vals\n"
   ]
  },
  {
   "cell_type": "code",
   "execution_count": 12,
   "metadata": {
    "collapsed": true
   },
   "outputs": [],
   "source": [
    "def log_lik_norm(zt, rho, sigma, mu):\n",
    "    \n",
    "    pdf_vals = norm_pdf(zt, rho, sigma, mu)\n",
    "    ln_pdf_vals = np.log(pdf_vals)\n",
    "    log_lik_val = ln_pdf_vals.sum()\n",
    "    \n",
    "    return log_lik_val"
   ]
  },
  {
   "cell_type": "code",
   "execution_count": 13,
   "metadata": {
    "collapsed": true
   },
   "outputs": [],
   "source": [
    "def crit2(params, *args):\n",
    "    alpha, rho, sigma, mu = params\n",
    "    rt, kt = args\n",
    "    zt = eq4(rt, kt, alpha)\n",
    "    log_lik_val = log_lik_norm(zt, rho, sigma, mu)\n",
    "    neg_log_lik_val = -log_lik_val\n",
    "    \n",
    "    return neg_log_lik_val"
   ]
  },
  {
   "cell_type": "code",
   "execution_count": 14,
   "metadata": {
    "collapsed": true
   },
   "outputs": [],
   "source": [
    "alpha_init2 = 0.3\n",
    "rho_init2 = 0\n",
    "sigma_init2 = 0.3\n",
    "mu_init2 = 10"
   ]
  },
  {
   "cell_type": "code",
   "execution_count": 15,
   "metadata": {},
   "outputs": [
    {
     "name": "stdout",
     "output_type": "stream",
     "text": [
      "alpha_MLE= 0.457490101596  rho_MLE= 0.720510862973 sigma_MLE= 0.0919957014553 mu_MLE 9.37076459845\n",
      "Inverse Hessian= [[  1.06453369e+02  -8.42562749e+01   2.04669283e-01  -1.91354804e+03]\n",
      " [ -8.42562749e+01   6.66929316e+01  -1.62559859e-01   1.51454508e+03]\n",
      " [  2.04669283e-01  -1.62559859e-01   2.42961250e-03  -3.67902704e+00]\n",
      " [ -1.91354804e+03   1.51454508e+03  -3.67902704e+00   3.43969028e+04]]\n"
     ]
    }
   ],
   "source": [
    "mle_args2 = (rt, kt)\n",
    "params_init2 = np.array([alpha_init2, rho_init2, sigma_init2, mu_init2])\n",
    "results2 = opt.minimize(crit2, params_init2, args=(mle_args2), bounds = ((1e-10, 1-1e-10), (-1+1e-10, 1-1e-10), (1e-10, None), (1e-10, None)), method = 'L-BFGS-B', options ={'ftol': 1e-10})\n",
    "\n",
    "alpha_MLE2, rho_MLE2, sigma_MLE2, mu_MLE2 = results2.x\n",
    "inv_hess2 = results2.hess_inv*np.identity(4) \n",
    "max_log_lik2 = log_lik_norm(eq4(rt, kt, alpha_MLE2), rho_MLE2, sigma_MLE2, mu_MLE2)\n",
    "print('alpha_MLE=', alpha_MLE2, ' rho_MLE=', rho_MLE2, 'sigma_MLE=', sigma_MLE2, 'mu_MLE', mu_MLE2)\n",
    "print('Inverse Hessian=', inv_hess2)"
   ]
  },
  {
   "cell_type": "markdown",
   "metadata": {},
   "source": [
    "(c)"
   ]
  },
  {
   "cell_type": "code",
   "execution_count": 16,
   "metadata": {},
   "outputs": [
    {
     "name": "stdout",
     "output_type": "stream",
     "text": [
      "zstar = 9.18371490795\n"
     ]
    }
   ],
   "source": [
    "zstar = np.log(1)-np.log(alpha_MLE)+(1-alpha_MLE)*np.log(7500000)\n",
    "print ('zstar =', zstar)"
   ]
  },
  {
   "cell_type": "code",
   "execution_count": 17,
   "metadata": {},
   "outputs": [
    {
     "name": "stdout",
     "output_type": "stream",
     "text": [
      "(0.999999999997931, 3.086662255654368e-11)\n",
      "Pr(rt > 1) = 0.999999999997931\n"
     ]
    }
   ],
   "source": [
    "def c_pdf(x, rho_MLE, sigma_MLE, mu_MLE):\n",
    "\n",
    "    pdf_vals    = (1/(sigma_MLE * np.sqrt(2 * np.pi)) *\n",
    "                    np.exp( - (x - rho_MLE*10 - (1-rho_MLE)*mu_MLE)**2 / (2 * sigma_MLE**2)))\n",
    "    \n",
    "    return pdf_vals\n",
    "def fit(x):\n",
    "    return c_pdf(x,rho_MLE, sigma_MLE, mu_MLE)\n",
    "pr_c = intg.quad(fit, zstar, np.inf)\n",
    "\n",
    "# Alternative way:\n",
    "# a = (1-alpha_MLE)*np.log(7500000)-np.log(alpha_MLE)+(rho_MLE-1)*mu_MLE-10*rho_MLE\n",
    "# prc = 1-sts.norm.cdf(a, loc=0, scale= sigma_MLE)\n",
    "\n",
    "print (pr_c)\n",
    "print ('Pr(rt > 1) =', pr_c[0])"
   ]
  }
 ],
 "metadata": {
  "kernelspec": {
   "display_name": "Python 3",
   "language": "python",
   "name": "python3"
  },
  "language_info": {
   "codemirror_mode": {
    "name": "ipython",
    "version": 3
   },
   "file_extension": ".py",
   "mimetype": "text/x-python",
   "name": "python",
   "nbconvert_exporter": "python",
   "pygments_lexer": "ipython3",
   "version": "3.6.3"
  }
 },
 "nbformat": 4,
 "nbformat_minor": 2
}
