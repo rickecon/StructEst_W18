{
 "cells": [
  {
   "cell_type": "code",
   "execution_count": 1,
   "metadata": {
    "collapsed": true
   },
   "outputs": [],
   "source": [
    "import numpy as np\n",
    "import pandas as pd\n",
    "from pandas import Series,DataFrame\n",
    "import seaborn as sns\n",
    "import matplotlib.pyplot as plt\n",
    "macro=np.loadtxt('C:\\\\Users\\\\Takan\\\\Desktop\\\\Chicago_MAPSS\\\\Core Study\\\\Quarter2\\\\Structural Estimation\\\\PS3\\\\MacroSeries.txt',delimiter=',')"
   ]
  },
  {
   "cell_type": "code",
   "execution_count": 2,
   "metadata": {
    "collapsed": true
   },
   "outputs": [],
   "source": [
    "#macro=pd.DataFrame(macro,index=index,columns=['c','k','w','r'])\n",
    "macro=pd.DataFrame(macro,columns=['c','k','w','r'])\n"
   ]
  },
  {
   "cell_type": "code",
   "execution_count": 3,
   "metadata": {
    "collapsed": true
   },
   "outputs": [],
   "source": [
    "w=macro.loc[:,'w']\n",
    "k=macro.loc[:,'k']\n",
    "w=macro.loc[:,'w']\n",
    "r=macro.loc[:,'r']"
   ]
  },
  {
   "cell_type": "code",
   "execution_count": 4,
   "metadata": {
    "collapsed": true
   },
   "outputs": [],
   "source": [
    "#Define Normal Distribution\n",
    "import numpy as np\n",
    "import scipy as sp\n",
    "def normal_pdf(xvals,alpha,mu,rho,sigma):\n",
    "    pdf_vals=(np.exp(-(xvals-(rho*xvals.shift(1)+(1-rho)*mu))**2/(2*sigma**2)))/(2*np.pi*sigma**2)**0.5\n",
    "    vals=pdf_vals[1:]\n",
    "    return vals\n"
   ]
  },
  {
   "cell_type": "code",
   "execution_count": 5,
   "metadata": {
    "collapsed": true
   },
   "outputs": [],
   "source": [
    "#Define Log Likelihood for Normal Dist\n",
    "def log_lik_normal(xvals,alpha,mu,rho,sigma):\n",
    "    pdf_vals=normal_pdf(xvals,alpha,mu,rho,sigma)\n",
    "    ln_pdf_vals=np.maximum(np.log(pdf_vals),np.log(1e-10))\n",
    "    log_lik_val=ln_pdf_vals.sum()\n",
    "    return log_lik_val"
   ]
  },
  {
   "cell_type": "code",
   "execution_count": 6,
   "metadata": {
    "collapsed": true
   },
   "outputs": [],
   "source": [
    "def crit(params):\n",
    "    alpha,mu,rho,sigma=params\n",
    "    z=np.log(w/((1-alpha)*k**alpha))\n",
    "    log_lik_val=log_lik_normal(z,alpha,mu,rho,sigma)\n",
    "    neg_lok_lik_val=-log_lik_val\n",
    "    return neg_lok_lik_val\n"
   ]
  },
  {
   "cell_type": "code",
   "execution_count": 7,
   "metadata": {
    "collapsed": true
   },
   "outputs": [],
   "source": [
    "# Guesses for a,ρ,σ \n",
    "alpha_init_1=0.5\n",
    "mu_init_1=2.0\n",
    "rho_init_1=0.5\n",
    "sigma_init_1=2.0"
   ]
  },
  {
   "cell_type": "code",
   "execution_count": 30,
   "metadata": {},
   "outputs": [
    {
     "name": "stdout",
     "output_type": "stream",
     "text": [
      "alpha_MLE= 0.462560409983  mu_MLE= 9.45352090826 rho_MLE= 0.716891495746 sigma_MLE= 0.0924532980388\n"
     ]
    },
    {
     "name": "stderr",
     "output_type": "stream",
     "text": [
      "C:\\Users\\Takan\\Anaconda3\\lib\\site-packages\\ipykernel_launcher.py:4: RuntimeWarning: divide by zero encountered in log\n",
      "  after removing the cwd from sys.path.\n"
     ]
    }
   ],
   "source": [
    "import scipy.optimize as opt\n",
    "from scipy.optimize import minimize\n",
    "bounds=((1e-10,0.99999),(1e-10,None),(-0.9999,0.9999),(1e-10,None))# I have to put bounds for the alpha and beta since they must remain positive\n",
    "params_init_1= np.array([alpha_init_1,mu_init_1,rho_init_1,sigma_init_1]) #initial Parameters\n",
    "\n",
    "\n",
    "results=opt.minimize(crit, params_init_1,bounds=bounds)\n",
    "alpha_MLE,mu_MLE,rho_MLE,sigma_MLE = results.x\n",
    "zbest=np.log(w/((1-alpha_MLE)*k**alpha_MLE)) #calculate the Zs using the optimized parameters\n",
    "loglikelihoodnormal=log_lik_normal(zbest,alpha_MLE,mu_MLE,rho_MLE,sigma_MLE) #calculate the log likelihood of those Zs\n",
    "print('alpha_MLE=', alpha_MLE, ' mu_MLE=', mu_MLE,'rho_MLE=',rho_MLE,'sigma_MLE=',sigma_MLE)"
   ]
  },
  {
   "cell_type": "code",
   "execution_count": 31,
   "metadata": {
    "scrolled": true
   },
   "outputs": [
    {
     "data": {
      "text/plain": [
       "      fun: -95.24893982367408\n",
       " hess_inv: <4x4 LbfgsInvHessProduct with dtype=float64>\n",
       "      jac: array([-0.0081414 , -0.00057412, -0.00017764, -0.00548113])\n",
       "  message: b'CONVERGENCE: REL_REDUCTION_OF_F_<=_FACTR*EPSMCH'\n",
       "     nfev: 405\n",
       "      nit: 39\n",
       "   status: 0\n",
       "  success: True\n",
       "        x: array([ 0.46256041,  9.45352091,  0.7168915 ,  0.0924533 ])"
      ]
     },
     "execution_count": 31,
     "metadata": {},
     "output_type": "execute_result"
    }
   ],
   "source": [
    "results"
   ]
  },
  {
   "cell_type": "code",
   "execution_count": 32,
   "metadata": {},
   "outputs": [
    {
     "data": {
      "text/plain": [
       "array([[  4.49706907e+01,  -6.38781535e+02,  -4.47314620e+01,\n",
       "         -4.09227889e+00],\n",
       "       [ -6.38781535e+02,   9.07351249e+03,   6.35383077e+02,\n",
       "          5.81296767e+01],\n",
       "       [ -4.47314620e+01,   6.35383077e+02,   4.45024694e+01,\n",
       "          4.07137215e+00],\n",
       "       [ -4.09227889e+00,   5.81296767e+01,   4.07137215e+00,\n",
       "          3.73086364e-01]])"
      ]
     },
     "execution_count": 32,
     "metadata": {},
     "output_type": "execute_result"
    }
   ],
   "source": [
    "invhess=results.hess_inv.todense()\n",
    "invhess"
   ]
  },
  {
   "cell_type": "code",
   "execution_count": 33,
   "metadata": {},
   "outputs": [
    {
     "data": {
      "text/plain": [
       "array([[  4.49706907e+01,   6.38781535e+02,   4.47314620e+01,\n",
       "          4.09227889e+00],\n",
       "       [  6.38781535e+02,   9.07351249e+03,  -6.35383077e+02,\n",
       "         -5.81296767e+01],\n",
       "       [  4.47314620e+01,  -6.35383077e+02,   4.45024694e+01,\n",
       "         -4.07137215e+00],\n",
       "       [  4.09227889e+00,  -5.81296767e+01,  -4.07137215e+00,\n",
       "          3.73086364e-01]])"
      ]
     },
     "execution_count": 33,
     "metadata": {},
     "output_type": "execute_result"
    }
   ],
   "source": [
    "results\n",
    "OffDiagNeg = np.array([[1, -1,-1,-1],[-1, 1,-1,-1],[-1,-1,1,-1],[-1,-1,-1, 1]])\n",
    "vcv_mle = invhess*OffDiagNeg\n",
    "vcv_mle"
   ]
  },
  {
   "cell_type": "code",
   "execution_count": 34,
   "metadata": {},
   "outputs": [
    {
     "name": "stdout",
     "output_type": "stream",
     "text": [
      "VCV(MLE) =  [[  4.49706907e+01   6.38781535e+02   4.47314620e+01   4.09227889e+00]\n",
      " [  6.38781535e+02   9.07351249e+03  -6.35383077e+02  -5.81296767e+01]\n",
      " [  4.47314620e+01  -6.35383077e+02   4.45024694e+01  -4.07137215e+00]\n",
      " [  4.09227889e+00  -5.81296767e+01  -4.07137215e+00   3.73086364e-01]]\n",
      "Standard error for alpha estimate =  6.70601899012\n",
      "Standard error for mu estimate =  95.2549866674\n",
      "Standard error for rho estimate =  6.67101711928\n",
      "Standard error for sigma estimate =  0.610807959779\n"
     ]
    }
   ],
   "source": [
    "stderr_alpha_mle = np.sqrt(vcv_mle[0,0])\n",
    "stderr_mu_mle = np.sqrt(vcv_mle[1,1])\n",
    "stderr_rho_mle = np.sqrt(vcv_mle[2,2])\n",
    "stderr_sigma_mle = np.sqrt(vcv_mle[3,3])\n",
    "print('VCV(MLE) = ', vcv_mle)\n",
    "print('Standard error for alpha estimate = ', stderr_alpha_mle)\n",
    "print('Standard error for mu estimate = ', stderr_mu_mle)\n",
    "print('Standard error for rho estimate = ', stderr_rho_mle)\n",
    "print('Standard error for sigma estimate = ', stderr_sigma_mle)"
   ]
  },
  {
   "cell_type": "code",
   "execution_count": 35,
   "metadata": {
    "collapsed": true
   },
   "outputs": [],
   "source": [
    "#########   QUESTION B ######################"
   ]
  },
  {
   "cell_type": "code",
   "execution_count": 36,
   "metadata": {
    "collapsed": true
   },
   "outputs": [],
   "source": [
    "def crit_2(params):\n",
    "    alpha,mu,rho,sigma=params\n",
    "    z=np.log(r/(alpha*k**(alpha-1)))\n",
    "    log_lik_val=log_lik_normal(z,alpha,mu,rho,sigma)\n",
    "    neg_lok_lik_val=-log_lik_val\n",
    "    return neg_lok_lik_val"
   ]
  },
  {
   "cell_type": "code",
   "execution_count": 37,
   "metadata": {
    "collapsed": true
   },
   "outputs": [],
   "source": [
    "# Guesses for a,ρ,σ \n",
    "alpha_init_2=0.5\n",
    "mu_init_2=2.0\n",
    "rho_init_2=0.5\n",
    "sigma_init_2=2.0"
   ]
  },
  {
   "cell_type": "code",
   "execution_count": 38,
   "metadata": {},
   "outputs": [
    {
     "name": "stderr",
     "output_type": "stream",
     "text": [
      "C:\\Users\\Takan\\Anaconda3\\lib\\site-packages\\ipykernel_launcher.py:4: RuntimeWarning: divide by zero encountered in log\n",
      "  after removing the cwd from sys.path.\n"
     ]
    },
    {
     "name": "stdout",
     "output_type": "stream",
     "text": [
      "alpha_MLE_2= 0.462560409983  mu_MLE_2= 9.45352090826 rho_MLE_2= 0.716891495746 sigma_MLE_2= 0.0924532980388\n"
     ]
    }
   ],
   "source": [
    "import scipy.optimize as opt\n",
    "from scipy.optimize import minimize\n",
    "bounds=((1e-10,0.99999),(1e-10,None),(-0.9999,0.9999),(1e-10,None))# I have to put bounds for the alpha and beta since they must remain positive\n",
    "params_init_2= np.array([alpha_init_2,mu_init_2,rho_init_2,sigma_init_2]) #initial Parameters\n",
    "\n",
    "results_2=opt.minimize(crit_2, params_init_2,bounds=bounds)\n",
    "alpha_MLE_2,mu_MLE_2,rho_MLE_2,sigma_MLE_2 = results.x\n",
    "zbest_2=np.log(r/(alpha_MLE_2*k**(alpha_MLE_2-1)))\n",
    "loglikelihoodnormal_2=log_lik_normal(zbest_2,alpha_MLE_2,mu_MLE_2,rho_MLE_2,sigma_MLE_2)\n",
    "print('alpha_MLE_2=', alpha_MLE_2, ' mu_MLE_2=', mu_MLE_2,'rho_MLE_2=',rho_MLE_2,'sigma_MLE_2=',sigma_MLE_2)"
   ]
  },
  {
   "cell_type": "code",
   "execution_count": 39,
   "metadata": {},
   "outputs": [
    {
     "data": {
      "text/plain": [
       "      fun: -95.24893945236481\n",
       " hess_inv: <4x4 LbfgsInvHessProduct with dtype=float64>\n",
       "      jac: array([  2.06341610e-03,   1.19371180e-04,  -2.41584530e-05,\n",
       "         2.65742983e-04])\n",
       "  message: b'CONVERGENCE: REL_REDUCTION_OF_F_<=_FACTR*EPSMCH'\n",
       "     nfev: 250\n",
       "      nit: 31\n",
       "   status: 0\n",
       "  success: True\n",
       "        x: array([ 0.71668497,  4.82387524,  0.4628098 ,  0.09245355])"
      ]
     },
     "execution_count": 39,
     "metadata": {},
     "output_type": "execute_result"
    }
   ],
   "source": [
    "results_2"
   ]
  },
  {
   "cell_type": "code",
   "execution_count": 40,
   "metadata": {
    "collapsed": true
   },
   "outputs": [],
   "source": [
    "#Comment : We have to note that our results are VERY sensitive to our initial guesses. We also note that the estimated parameters\n",
    "#differ when we use different equations"
   ]
  },
  {
   "cell_type": "code",
   "execution_count": 41,
   "metadata": {},
   "outputs": [
    {
     "data": {
      "text/plain": [
       "array([[  2.09521297e+01,  -3.55901947e+02,  -5.33033993e+01,\n",
       "         -1.03587842e+00],\n",
       "       [ -3.55901947e+02,   6.04550528e+03,   9.05432787e+02,\n",
       "          1.75957272e+01],\n",
       "       [ -5.33033993e+01,   9.05432787e+02,   1.35647956e+02,\n",
       "          2.63625185e+00],\n",
       "       [ -1.03587842e+00,   1.75957272e+01,   2.63625185e+00,\n",
       "          5.13362262e-02]])"
      ]
     },
     "execution_count": 41,
     "metadata": {},
     "output_type": "execute_result"
    }
   ],
   "source": [
    "invhess_2=results_2.hess_inv.todense()\n",
    "invhess_2"
   ]
  },
  {
   "cell_type": "code",
   "execution_count": 42,
   "metadata": {},
   "outputs": [
    {
     "data": {
      "text/plain": [
       "array([[  2.09521297e+01,   3.55901947e+02,   5.33033993e+01,\n",
       "          1.03587842e+00],\n",
       "       [  3.55901947e+02,   6.04550528e+03,  -9.05432787e+02,\n",
       "         -1.75957272e+01],\n",
       "       [  5.33033993e+01,  -9.05432787e+02,   1.35647956e+02,\n",
       "         -2.63625185e+00],\n",
       "       [  1.03587842e+00,  -1.75957272e+01,  -2.63625185e+00,\n",
       "          5.13362262e-02]])"
      ]
     },
     "execution_count": 42,
     "metadata": {},
     "output_type": "execute_result"
    }
   ],
   "source": [
    "results_2\n",
    "OffDiagNeg = np.array([[1, -1,-1,-1],[-1, 1,-1,-1],[-1,-1,1,-1],[-1,-1,-1, 1]])\n",
    "vcv_mle_2= invhess_2*OffDiagNeg\n",
    "vcv_mle_2"
   ]
  },
  {
   "cell_type": "code",
   "execution_count": 43,
   "metadata": {},
   "outputs": [
    {
     "name": "stdout",
     "output_type": "stream",
     "text": [
      "VCV(MLE)_2 =  [[  2.09521297e+01   3.55901947e+02   5.33033993e+01   1.03587842e+00]\n",
      " [  3.55901947e+02   6.04550528e+03  -9.05432787e+02  -1.75957272e+01]\n",
      " [  5.33033993e+01  -9.05432787e+02   1.35647956e+02  -2.63625185e+00]\n",
      " [  1.03587842e+00  -1.75957272e+01  -2.63625185e+00   5.13362262e-02]]\n",
      "Standard error for alpha estimate =  4.57734963243\n",
      "Standard error for mu estimate =  77.7528474054\n",
      "Standard error for rho estimate =  11.6468002583\n",
      "Standard error for sigma estimate =  0.226574990339\n"
     ]
    }
   ],
   "source": [
    "stderr_alpha_mle_2 = np.sqrt(vcv_mle_2[0,0])\n",
    "stderr_mu_mle_2 = np.sqrt(vcv_mle_2[1,1])\n",
    "stderr_rho_mle_2 = np.sqrt(vcv_mle_2[2,2])\n",
    "stderr_sigma_mle_2 = np.sqrt(vcv_mle_2[3,3])\n",
    "print('VCV(MLE)_2 = ', vcv_mle_2)\n",
    "print('Standard error for alpha estimate = ', stderr_alpha_mle_2)\n",
    "print('Standard error for mu estimate = ', stderr_mu_mle_2)\n",
    "print('Standard error for rho estimate = ', stderr_rho_mle_2)\n",
    "print('Standard error for sigma estimate = ', stderr_sigma_mle_2)"
   ]
  },
  {
   "cell_type": "code",
   "execution_count": 44,
   "metadata": {},
   "outputs": [
    {
     "data": {
      "text/plain": [
       "9.2788690978187631"
      ]
     },
     "execution_count": 44,
     "metadata": {},
     "output_type": "execute_result"
    }
   ],
   "source": [
    "#Question C.\n",
    "zstar= z=np.log(1/(alpha_MLE*7500000**(alpha_MLE-1))) #Calculate Zstar that makes r=1\n",
    "zstar\n",
    "#we know that z is N(rho...etc) so we have zt-1 and we will use norm dist, the cumulative."
   ]
  },
  {
   "cell_type": "code",
   "execution_count": 45,
   "metadata": {},
   "outputs": [
    {
     "name": "stdout",
     "output_type": "stream",
     "text": [
      "9.84528712173\n",
      "0.0924532980388\n"
     ]
    }
   ],
   "source": [
    "#So Zt follows N(rho*Zt-1 +(1-rho)*mu,sigma**2)\n",
    "#We know Zt-1 and we will also use the estimates that we obtained from Question 1\n",
    "mean=rho_MLE*10+(1-rho_MLE)*mu_MLE\n",
    "stdev=sigma_MLE\n",
    "print(mean)\n",
    "print(stdev)\n"
   ]
  },
  {
   "cell_type": "code",
   "execution_count": 46,
   "metadata": {},
   "outputs": [
    {
     "data": {
      "text/plain": [
       "0.99999999955092223"
      ]
     },
     "execution_count": 46,
     "metadata": {},
     "output_type": "execute_result"
    }
   ],
   "source": [
    "from scipy.stats import norm\n",
    "prob=1-norm.cdf(zstar,mean,stdev)\n",
    "prob"
   ]
  },
  {
   "cell_type": "code",
   "execution_count": null,
   "metadata": {
    "collapsed": true
   },
   "outputs": [],
   "source": []
  }
 ],
 "metadata": {
  "kernelspec": {
   "display_name": "Python 3",
   "language": "python",
   "name": "python3"
  },
  "language_info": {
   "codemirror_mode": {
    "name": "ipython",
    "version": 3
   },
   "file_extension": ".py",
   "mimetype": "text/x-python",
   "name": "python",
   "nbconvert_exporter": "python",
   "pygments_lexer": "ipython3",
   "version": "3.6.3"
  }
 },
 "nbformat": 4,
 "nbformat_minor": 2
}
