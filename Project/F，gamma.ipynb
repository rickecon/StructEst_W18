{
 "cells": [
  {
   "cell_type": "code",
   "execution_count": 1,
   "metadata": {
    "collapsed": true
   },
   "outputs": [],
   "source": [
    "# Import program libraries\n",
    "import numpy as np\n",
    "import scipy.stats as sts\n",
    "import matplotlib.pyplot as plt\n",
    "import scipy.optimize as opt\n",
    "from quantecon.markov.approximation import rouwenhorst"
   ]
  },
  {
   "cell_type": "code",
   "execution_count": 2,
   "metadata": {
    "collapsed": true
   },
   "outputs": [],
   "source": [
    "A_size = 5\n",
    "A_bar = 0\n",
    "A_sigma = ((1-0.885*0.885)*(0.64**2))**(1/2)\n",
    "A_rho = 0.95\n",
    "MrkChain = rouwenhorst(A_size, (1- A_rho) * A_bar, A_sigma, A_rho)\n",
    "TransMat = MrkChain.P\n",
    "A_sup = MrkChain.state_values\n",
    "# print(A_sup)\n",
    "# print(TransMat)\n",
    "# print(TransMat.sum(axis=1))\n",
    "P =1"
   ]
  },
  {
   "cell_type": "code",
   "execution_count": 3,
   "metadata": {
    "collapsed": true
   },
   "outputs": [],
   "source": [
    "K_size = 200\n",
    "K_min = 0.01\n",
    "K_max = 20\n",
    "K_vec = np.linspace(K_min, K_max, K_size)\n",
    "A_vec = np.exp(A_sup)\n",
    "\n",
    "beta = 0.95\n",
    "#gamma = 1.0\n",
    "delta = 0.069\n",
    "theta = 0.592\n",
    "#P = 1\n",
    "\n",
    "Vtp1 = np.zeros((K_size, A_size))\n",
    "maxiter = 1000\n",
    "tol_VFI = 1e-12\n",
    "iter_VFI = 0\n",
    "dist = 10\n",
    "\n",
    "A_0_ind = 2\n",
    "A_0 = A_vec[A_0_ind]\n",
    "T = 500\n",
    "S = 100\n",
    "A_series = np.zeros((T,S))\n",
    "unif_series = sts.uniform.rvs(size=(T,S))\n",
    "K_0 = 15\n",
    "\n",
    "def value_fcn(Vtp1, iter_VFI, dist, gamma, F, P):\n",
    "    \n",
    "    while (iter_VFI < maxiter) and (dist >= tol_VFI):\n",
    "        iter_VFI += 1\n",
    "    \n",
    "    # Step 1: take expectation of tomorrow's value function\n",
    "        Vtp1_flat = Vtp1.T.reshape((1, A_size, K_size))\n",
    "        Vtp1_big = np.tile(Vtp1_flat, (A_size, 1, 1))\n",
    "        TransMat_big = np.repeat(TransMat[:, :, np.newaxis], K_size, axis=2)\n",
    "        EVtp1_a = (TransMat_big * Vtp1_big).sum(axis=1)\n",
    "        EVtp1_flip = EVtp1_a.reshape((1, A_size, K_size))\n",
    "        EVtp1 = np.tile(EVtp1_flip, (K_size, 1, 1))\n",
    "    \n",
    "    # Step 2: Get all other objects on the right-hand-side of Bellman equation\n",
    "    # into the shape (K_size, A_size, K_size)\n",
    "        K_arr = np.tile(K_vec.reshape((K_size, 1, 1)),\n",
    "                    (1, A_size, K_size))\n",
    "        Kpr_arr = np.tile(K_vec.reshape((1, 1, K_size)),\n",
    "                      (K_size, A_size, 1))\n",
    "        ConvCost = ((gamma / 2) *\n",
    "                ((((Kpr_arr - (1 - delta) * K_arr) / K_arr)) ** 2) *\n",
    "                K_arr)\n",
    "    \n",
    "        A_arr = np.tile(A_vec.reshape((1, A_size, 1)),\n",
    "                    (K_size, 1, K_size))\n",
    "        \n",
    "        Profits = A_arr * (K_arr ** theta)\n",
    "        \n",
    "        InvCost = P* (Kpr_arr - (1 - delta) * K_arr)\n",
    "        \n",
    "        LevCost = F * K_arr\n",
    "    \n",
    "        V_KAKpr = Profits - ConvCost - InvCost - LevCost + beta * EVtp1\n",
    "    \n",
    "    # Step 3: Solve for the K'=psi(K,A) that maximizes using np.argmax\n",
    "        Psi_ind = V_KAKpr.argmax(axis=2)\n",
    "        Psi = K_vec[Psi_ind]\n",
    "    \n",
    "    # Step 4: Solve for V(K,A)\n",
    "        V_KA = np.zeros((K_size, A_size))\n",
    "        for K_ind in range(K_size):\n",
    "            for A_ind in range(A_size):\n",
    "                V_KA[K_ind, A_ind] = V_KAKpr[K_ind, A_ind,\n",
    "                                         Psi_ind[K_ind, A_ind]]\n",
    "\n",
    "    # Step 5: Check how close V(K,A) is to V'(K,A)\n",
    "        dist = ((Vtp1 - V_KA).flatten() ** 2).sum()\n",
    "    #print('Iter=', iter_VFI, ', Dist=', dist)\n",
    "    \n",
    "        Vtp1 = V_KA.copy()\n",
    "    \n",
    "    V_KA = Vtp1.copy\n",
    "    \n",
    "    #for t_ind in range(T):\n",
    "        #for s_ind in range(S):\n",
    "            #prob_dist = TransMat[A_0_ind, :]\n",
    "            #cum_dist = prob_dist.cumsum()\n",
    "            #unif = unif_series[t_ind, s_ind]\n",
    "            #A_series[t_ind, s_ind] = A_vec[(unif < cum_dist).argmax()]\n",
    "            \n",
    "    #K_series = np.zeros_like(A_series)\n",
    "    #K_series[0,:] = K_0\n",
    "    #Psi = value_fcn(gamma, P)\n",
    "    #for t_ind in range(1, len(K_series)):\n",
    "        #for s_ind in range(S):\n",
    "            #A_val = A_series[t_ind - 1, s_ind]\n",
    "            #A_ind = np.argmin((A_val - A_vec) ** 2)\n",
    "            #K_val = K_series[t_ind - 1, s_ind]\n",
    "            #K_ind = np.argmin((K_val - K_vec) ** 2)\n",
    "            #K_series[t_ind, s_ind] = Psi[K_ind, A_ind]\n",
    "    \n",
    "    return Psi"
   ]
  },
  {
   "cell_type": "code",
   "execution_count": 4,
   "metadata": {
    "collapsed": true
   },
   "outputs": [],
   "source": [
    "A_0_ind = 2\n",
    "A_0 = A_vec[A_0_ind]\n",
    "T = 500\n",
    "S = 5\n",
    "A_series = np.zeros((T,S))\n",
    "unif_series = sts.uniform.rvs(size=(T,S))\n",
    "for t_ind in range(T):\n",
    "    for s_ind in range(S):\n",
    "        prob_dist = TransMat[A_0_ind, :]\n",
    "        cum_dist = prob_dist.cumsum()\n",
    "        unif = unif_series[t_ind, s_ind]\n",
    "        A_series[t_ind, s_ind] = A_vec[(unif < cum_dist).argmax()]\n",
    "\n",
    "#A_series\n",
    "#plt.plot(np.arange(1, T + 1), A_series)\n",
    "#plt.show()"
   ]
  },
  {
   "cell_type": "code",
   "execution_count": 5,
   "metadata": {
    "collapsed": true
   },
   "outputs": [],
   "source": [
    "K_0 = 15\n",
    "def psi(Vtp1, iter_VFI, dist, unif_series, gamma,F,P):\n",
    "    K_series = np.zeros_like(A_series)\n",
    "    K_series[0,:] = K_0\n",
    "    Psi = value_fcn(Vtp1, iter_VFI, dist, gamma,F,P)\n",
    "    for t_ind in range(1, len(K_series)):\n",
    "        for s_ind in range(S):\n",
    "            A_val = A_series[t_ind - 1, s_ind]\n",
    "            A_ind = np.argmin((A_val - A_vec) ** 2)\n",
    "            K_val = K_series[t_ind - 1, s_ind]\n",
    "            K_ind = np.argmin((K_val - K_vec) ** 2)\n",
    "            K_series[t_ind, s_ind] = Psi[K_ind, A_ind]\n",
    "            \n",
    "    return K_series\n",
    "        \n",
    "#print(K_series.shape)\n",
    "#plt.plot(K_series[:,0])\n",
    "#plt.show()"
   ]
  },
  {
   "cell_type": "code",
   "execution_count": 6,
   "metadata": {
    "collapsed": true
   },
   "outputs": [],
   "source": [
    "data_mom1 = 0.058\n",
    "data_mom2 = 0.143\n",
    "data_mom3 = 0.186\n",
    "data_mom4 = 0.018\n",
    "moms_data = np.array([data_mom1, data_mom2, data_mom3, data_mom4])\n",
    "#K = K_series[0:499,:]\n",
    "#Kpr = K_series[1:500,:]\n",
    "#I = Kpr - (1-delta) * K\n",
    "#i = I / K\n",
    "#print(i.shape)\n",
    "\n",
    "#mom3 = (i >= 0.2).sum(axis=0) / i.shape[0]\n",
    "#print(mom3.shape)\n",
    "\n",
    "def sim_moments(Vtp1, iter_VFI, dist, unif_series, gamma,F,P):\n",
    "    K_series = psi(Vtp1, iter_VFI, dist, unif_series, gamma,F,P)\n",
    "    K = K_series[0:499,:]\n",
    "    Kpr = K_series[1:500,:]\n",
    "    I = Kpr - (1-delta) * K\n",
    "    i = I / K\n",
    "    a = np.log(A_series)\n",
    "#bbb = i[0:498,1]\n",
    "#ccc = i[1:499,1]\n",
    "#print('bbbshape=', bbb.shape)\n",
    "#print('cccshape=', ccc.shape)\n",
    "#print(I.shape)\n",
    "#print('ishape=', i.shape)\n",
    "\n",
    "    mom1 = np.zeros((1,S))\n",
    "\n",
    "#print(mom1.shape)\n",
    "#cov1 = np.corrcoef(i[0:498,1], i[1:499,1])\n",
    "#print(cov1.shape)\n",
    "    mom2 = np.zeros((1,S))\n",
    "#mom3 = np.zeros((1,S))\n",
    "#mom4 = np.zeros((1,S))\n",
    "    for s in range(S):\n",
    "        cov1 = np.corrcoef(i[0:498,s], i[1:499,s])\n",
    "        cov2 = np.corrcoef(i[0:499,s], a[0:499,s])\n",
    "        mom1[:,s] = cov1[0,1]\n",
    "        mom2[:,s] = cov2[0,1]\n",
    "    #mom3[s] = i[(i >= 0.2), s].shape[0] / i[:,s].shape[0]\n",
    "    #mom4[s] = i[(i <= -0.2), s].shape[0] / i[:,s].shape[0]\n",
    "    mom3 = (i >= 0.2).sum(axis=0) / i.shape[0]\n",
    "    mom4 = (i <= -0.2).sum(axis=0) / i.shape[0]\n",
    "    return mom1, mom2, mom3, mom4\n",
    "    #mom1, mom2, mom3, mom4 = sim_moments(unif_series)\n",
    "#print(I.shape)\n",
    "#bpct_4_dat = xvals[xvals >= 430].shape[0] / xvals.shape[0]\n",
    "#mom3 = (i <= -0.2).sum() / i.shape[0]\n",
    "#print(mom3)"
   ]
  },
  {
   "cell_type": "code",
   "execution_count": 7,
   "metadata": {
    "collapsed": true
   },
   "outputs": [],
   "source": [
    "# Create the error vector\n",
    "def err_vec(Vtp1, iter_VFI, dist, unif_series, gamma, F,P):\n",
    "    sim_mom1, sim_mom2, sim_mom3, sim_mom4 = sim_moments(Vtp1, iter_VFI, dist, \n",
    "                                                         unif_series, gamma, F,P)\n",
    "    mod_mom1 = sim_mom1.mean()\n",
    "    mod_mom2 = sim_mom2.mean()\n",
    "    mod_mom3 = sim_mom3.mean()\n",
    "    mod_mom4 = sim_mom4.mean()\n",
    "    moms_model = np.array([mod_mom1, mod_mom2, mod_mom3, mod_mom4])\n",
    "    err_vec = (moms_model - moms_data)/moms_data\n",
    "    return err_vec\n",
    "\n",
    "# Create the ctiterion function\n",
    "def crit(params, *args):\n",
    "    gamma,F = params\n",
    "    unif_series, W = args\n",
    "    err = err_vec(Vtp1, iter_VFI, dist, unif_series, gamma, F,P)\n",
    "    crit_val = err @ W @ err.T\n",
    "    return crit_val"
   ]
  },
  {
   "cell_type": "code",
   "execution_count": 13,
   "metadata": {
    "scrolled": true
   },
   "outputs": [
    {
     "name": "stdout",
     "output_type": "stream",
     "text": [
      "      fun: 23.719648720644773\n",
      " hess_inv: <2x2 LbfgsInvHessProduct with dtype=float64>\n",
      "      jac: array([ 5.61581502, 27.76121682])\n",
      "  message: b'ABNORMAL_TERMINATION_IN_LNSRCH'\n",
      "     nfev: 78\n",
      "      nit: 1\n",
      "   status: 2\n",
      "  success: False\n",
      "        x: array([0.35276252, 0.04783348])\n"
     ]
    }
   ],
   "source": [
    "# Set the initial values and bounds of the parameters and the weighted matrix\n",
    "gamma_init = 0.275\n",
    "F_init = 0.1\n",
    "#P_init = 1\n",
    "params_init = np.array([gamma_init, F_init])\n",
    "bounds = ((1e-10, 10),(1e-10, 1))\n",
    "W = np.eye(4)\n",
    "\n",
    "# Conduct SMM\n",
    "smm_arg = (unif_series, W)\n",
    "result = opt.minimize(crit, params_init, args=(smm_arg), bounds = bounds, options={'eps': 1.0})\n",
    "gamma_smm1, F_smm1= result.x\n",
    "print(result)\n",
    "#err = err_vec(Vtp1, iter_VFI, dist, unif_series, gamma_smm1, P_smm1)\n",
    "#print(err)"
   ]
  },
  {
   "cell_type": "code",
   "execution_count": 10,
   "metadata": {},
   "outputs": [
    {
     "name": "stdout",
     "output_type": "stream",
     "text": [
      "[-0.13779309  0.58479411  0.09258517  0.04809619]\n"
     ]
    }
   ],
   "source": [
    "err = err_vec(Vtp1, iter_VFI, dist, unif_series, gamma_smm1, F_smm1, P)\n",
    "print(err*moms_data+moms_data)"
   ]
  },
  {
   "cell_type": "code",
   "execution_count": null,
   "metadata": {
    "collapsed": true
   },
   "outputs": [],
   "source": []
  },
  {
   "cell_type": "code",
   "execution_count": 19,
   "metadata": {},
   "outputs": [
    {
     "data": {
      "image/png": "[encoded data removed]",
      "text/plain": [
       "<matplotlib.figure.Figure at 0xc918a20>"
      ]
     },
     "metadata": {},
     "output_type": "display_data"
    }
   ],
   "source": [
    "K_series = psi(Vtp1, iter_VFI, dist, unif_series, gamma_smm1,F_smm1,P)\n",
    "K = K_series[0:499,:]\n",
    "Kpr = K_series[1:500,:]\n",
    "I = Kpr - (1-delta) * K\n",
    "i = I / K\n",
    "count, bins, ignored = plt.hist(i[:,:], 10, edgecolor='blue', normed=True)\n",
    "plt.title('Investment Rate Distribution', fontsize=10)\n",
    "plt.xlabel('Investment Rate')\n",
    "plt.ylabel('percent')\n",
    "plt.show()"
   ]
  },
  {
   "cell_type": "code",
   "execution_count": null,
   "metadata": {
    "collapsed": true
   },
   "outputs": [],
   "source": []
  },
  {
   "cell_type": "code",
   "execution_count": null,
   "metadata": {
    "collapsed": true
   },
   "outputs": [],
   "source": [
    "# Compute the two-step estimator.\n",
    "err = err_vec(Vtp1, iter_VFI, dist, unif_series, gamma_smm1, P_smm1)\n",
    "err_1 = err.reshape(1,4)\n",
    "#print(err_1)\n",
    "\n",
    "omega = (err_1.T @ err_1) \n",
    "#/ moms_data.shape[0]\n",
    "#print(omega)\n",
    "W_2_step = np.linalg.pinv(omega)\n",
    "#print(W_2_step)\n"
   ]
  },
  {
   "cell_type": "code",
   "execution_count": null,
   "metadata": {
    "collapsed": true
   },
   "outputs": [],
   "source": [
    "# Estimate the parameters using the two-step estimator.\n",
    "params_init = np.array([gamma_smm1, P_smm1])\n",
    "result = opt.minimize(crit, params_init, args = (unif_series, W_2_step), bounds = bounds, options={'eps': 1.0})\n",
    "gamma_smm2, P_smm2 = result.x\n",
    "print(result)"
   ]
  },
  {
   "cell_type": "code",
   "execution_count": null,
   "metadata": {
    "collapsed": true
   },
   "outputs": [],
   "source": [
    "xx = np.array([1,3,5,7,9])\n",
    "yy = xx[[1,2]]\n",
    "print(yy)"
   ]
  },
  {
   "cell_type": "code",
   "execution_count": null,
   "metadata": {
    "collapsed": true,
    "scrolled": true
   },
   "outputs": [],
   "source": [
    "print(Psi.shape)\n",
    "print(Psi)"
   ]
  },
  {
   "cell_type": "code",
   "execution_count": null,
   "metadata": {
    "collapsed": true
   },
   "outputs": [],
   "source": [
    "print(A_series.shape)\n",
    "print(unif_series.shape)\n",
    "print(A_vec.shape)\n",
    "print(A_vec.T)"
   ]
  },
  {
   "cell_type": "code",
   "execution_count": null,
   "metadata": {
    "collapsed": true
   },
   "outputs": [],
   "source": [
    "print(Psi_ind)"
   ]
  },
  {
   "cell_type": "code",
   "execution_count": null,
   "metadata": {
    "collapsed": true
   },
   "outputs": [],
   "source": [
    "print(prob_dist)"
   ]
  },
  {
   "cell_type": "code",
   "execution_count": null,
   "metadata": {
    "collapsed": true
   },
   "outputs": [],
   "source": [
    "# Compute the two-step estimator.\n",
    "#omega = (err.T @ err) / data1.shape[0] #data1=number of observations(simulations) or =1? since we only have\n",
    "#data moments\n",
    "W_2_step = np.linalg.pinv(omega)\n",
    "\n",
    "# Estimate the parameters using the two-step estimator.\n",
    "params_init = np.array([gamma_smm1, P_smm1])\n",
    "result = opt.minimize(crit, params_init, args = (unif_series, W_2_step), bounds = bounds)\n",
    "gamma_smm2, P_smm2 = result.x\n",
    "print(result)"
   ]
  }
 ],
 "metadata": {
  "kernelspec": {
   "display_name": "Python 3",
   "language": "python",
   "name": "python3"
  },
  "language_info": {
   "codemirror_mode": {
    "name": "ipython",
    "version": 3
   },
   "file_extension": ".py",
   "mimetype": "text/x-python",
   "name": "python",
   "nbconvert_exporter": "python",
   "pygments_lexer": "ipython3",
   "version": "3.6.3"
  }
 },
 "nbformat": 4,
 "nbformat_minor": 2
}
