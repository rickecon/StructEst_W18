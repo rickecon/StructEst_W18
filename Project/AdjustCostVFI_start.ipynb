{
 "cells": [
  {
   "cell_type": "markdown",
   "metadata": {},
   "source": [
    "Assume an AR(1) process.\n",
    "\n",
    "$$ z_t = \\rho  z_{t-1} + (1 - \\rho) \\bar{z} + \\epsilon_t \\quad\\text{where}\\quad \\epsilon_i\\sim N(0,\\sigma^2) $$\n",
    "\n",
    "Then I can approximate that process with a discrete Markov chain using the `rouwenhorst` function from QuantEcon.py."
   ]
  },
  {
   "cell_type": "code",
   "execution_count": 3,
   "metadata": {},
   "outputs": [
    {
     "name": "stdout",
     "output_type": "stream",
     "text": [
      "[-0.45883147 -0.22941573  0.          0.22941573  0.45883147]\n",
      "[[8.1450625e-01 1.7147500e-01 1.3537500e-02 4.7500000e-04 6.2500000e-06]\n",
      " [4.2868750e-02 8.2127500e-01 1.2896250e-01 6.7750000e-03 1.1875000e-04]\n",
      " [2.2562500e-03 8.5975000e-02 8.2353750e-01 8.5975000e-02 2.2562500e-03]\n",
      " [1.1875000e-04 6.7750000e-03 1.2896250e-01 8.2127500e-01 4.2868750e-02]\n",
      " [6.2500000e-06 4.7500000e-04 1.3537500e-02 1.7147500e-01 8.1450625e-01]]\n",
      "[1. 1. 1. 1. 1.]\n"
     ]
    }
   ],
   "source": [
    "import numpy as np\n",
    "# Install quantecon.py using conda install -c conda-forge quantecon\n",
    "from quantecon.markov.approximation import rouwenhorst\n",
    "\n",
    "z_size = 5\n",
    "z_bar = 0.0\n",
    "rho = 0.9\n",
    "sigma = 0.1\n",
    "MrkChain = rouwenhorst(z_size, (1 - rho) * z_bar, sigma, rho)\n",
    "TransMat = MrkChain.P\n",
    "z_vec = MrkChain.state_values\n",
    "\n",
    "print(z_vec)\n",
    "print(TransMat)\n",
    "print(TransMat.sum(axis=1))"
   ]
  },
  {
   "cell_type": "code",
   "execution_count": 1,
   "metadata": {},
   "outputs": [
    {
     "ename": "NameError",
     "evalue": "name 'np' is not defined",
     "output_type": "error",
     "traceback": [
      "\u001b[0;31m---------------------------------------------------------------------------\u001b[0m",
      "\u001b[0;31mNameError\u001b[0m                                 Traceback (most recent call last)",
      "\u001b[0;32m<ipython-input-1-11d393010374>\u001b[0m in \u001b[0;36m<module>\u001b[0;34m()\u001b[0m\n\u001b[1;32m      2\u001b[0m \u001b[0mK_min\u001b[0m \u001b[0;34m=\u001b[0m \u001b[0;36m0.01\u001b[0m\u001b[0;34m\u001b[0m\u001b[0m\n\u001b[1;32m      3\u001b[0m \u001b[0mK_max\u001b[0m \u001b[0;34m=\u001b[0m \u001b[0;36m10.0\u001b[0m\u001b[0;34m\u001b[0m\u001b[0m\n\u001b[0;32m----> 4\u001b[0;31m \u001b[0mK_vec\u001b[0m \u001b[0;34m=\u001b[0m \u001b[0mnp\u001b[0m\u001b[0;34m.\u001b[0m\u001b[0mlinspace\u001b[0m\u001b[0;34m(\u001b[0m\u001b[0mK_min\u001b[0m\u001b[0;34m,\u001b[0m \u001b[0mK_max\u001b[0m\u001b[0;34m,\u001b[0m \u001b[0mK_size\u001b[0m\u001b[0;34m)\u001b[0m\u001b[0;34m\u001b[0m\u001b[0m\n\u001b[0m\u001b[1;32m      5\u001b[0m \u001b[0mA_vec\u001b[0m \u001b[0;34m=\u001b[0m \u001b[0mnp\u001b[0m\u001b[0;34m.\u001b[0m\u001b[0mexp\u001b[0m\u001b[0;34m(\u001b[0m\u001b[0mz_vec\u001b[0m\u001b[0;34m)\u001b[0m\u001b[0;34m\u001b[0m\u001b[0m\n\u001b[1;32m      6\u001b[0m \u001b[0mA_size\u001b[0m \u001b[0;34m=\u001b[0m \u001b[0mz_size\u001b[0m\u001b[0;34m\u001b[0m\u001b[0m\n",
      "\u001b[0;31mNameError\u001b[0m: name 'np' is not defined"
     ]
    }
   ],
   "source": [
    "K_size = 200\n",
    "K_min = 0.01\n",
    "K_max = 10.0\n",
    "K_vec = np.linspace(K_min, K_max, K_size)\n",
    "A_vec = np.exp(z_vec)\n",
    "A_size = z_size\n",
    "\n",
    "beta = 0.9\n",
    "gamma = 1.0\n",
    "delta = 0.05\n",
    "theta = 0.5\n",
    "P = 1.0\n",
    "\n",
    "Vtp1 = np.zeros((K_size, A_size))\n",
    "maxiter = 1000\n",
    "tol_VFI = 1e-12\n",
    "iter_VFI = 0\n",
    "dist = 10\n",
    "\n",
    "while (iter_VFI < maxiter) and (dist >= tol_VFI):\n",
    "    iter_VFI += 1\n",
    "    \n",
    "    # Step 1: take expectation of tomorrow's value function\n",
    "    # --------------------------------------\n",
    "    # EVtpl = (K_size, A_size, K_size) array\n",
    "    # --------------------------------------\n",
    "    Vtp1_flat = Vtp1.T.reshape((1, A_size, K_size))\n",
    "    Vtp1_big = np.tile(Vtp1_flat, (A_size, 1, 1))\n",
    "    TransMat_big = np.repeat(TransMat[:, :, np.newaxis], K_size, axis=2)\n",
    "    EVtp1_a = (TransMat_big * Vtp1_big).sum(axis=1)\n",
    "    EVtp1_flip = EVtp1_a.reshape((1, A_size, K_size))\n",
    "    EVtp1 = np.tile(EVtp1_flip, (K_size, 1, 1))\n",
    "    \n",
    "    # Step 2: Get all other objects on the right-hand-side of Bellman equation\n",
    "    # into the shape (K_size, A_size, K_size)\n",
    "    # -----------------------------------------\n",
    "    # ConvCost = (K_size, A_size, K_size) array\n",
    "    # Profits  = (K_size, A_size, K_size) array\n",
    "    # InvCost  = (K_size, A_size, K_size) array\n",
    "    # -----------------------------------------\n",
    "    K_arr = np.tile(K_vec.reshape((K_size, 1, 1)),\n",
    "                    (1, A_size, K_size))\n",
    "    Kpr_arr = np.tile(K_vec.reshape((1, 1, K_size)),\n",
    "                      (K_size, A_size, 1))\n",
    "    ConvCost = ((gamma / 2) *\n",
    "                ((((Kpr_arr - (1 - delta) * K_arr) / K_arr)) ** 2) *\n",
    "                K_arr)\n",
    "    \n",
    "    A_arr = np.tile(A_vec.reshape((1, A_size, 1)),\n",
    "                    (K_size, 1, K_size))\n",
    "    Profits = A_arr * (K_arr ** theta)\n",
    "    \n",
    "    InvCost = P * (Kpr_arr - (1 - delta) * K_arr)\n",
    "    \n",
    "    V_KAKpr = Profits - ConvCost - InvCost + beta * EVtp1\n",
    "    \n",
    "    # Step 3: Solve for the K'=psi(K,A) that maximizes using np.argmax\n",
    "    Psi_ind = V_KAKpr.argmax(axis=2)\n",
    "    Psi = K_vec[Psi_ind]\n",
    "    \n",
    "    # Step 4: Solve for V(K,A)\n",
    "    V_KA = np.zeros((K_size, A_size))\n",
    "    for K_ind in range(K_size):\n",
    "        for A_ind in range(A_size):\n",
    "            V_KA[K_ind, A_ind] = V_KAKpr[K_ind, A_ind,\n",
    "                                         Psi_ind[K_ind, A_ind]]\n",
    "\n",
    "    # Step 5: Check how close V(K,A) is to V'(K,A)\n",
    "    dist = ((Vtp1 - V_KA).flatten() ** 2).sum()\n",
    "    print('Iter=', iter_VFI, ', Dist=', dist)\n",
    "    \n",
    "    Vtp1 = V_KA.copy()\n",
    "    \n",
    "V_KA = Vtp1.copy"
   ]
  },
  {
   "cell_type": "markdown",
   "metadata": {},
   "source": [
    "Once you have solved the model, you will want to simulate a time series for the capital stock $K_t$ using the policy function $K'=\\psi(K,A)$."
   ]
  },
  {
   "cell_type": "code",
   "execution_count": 42,
   "metadata": {},
   "outputs": [
    {
     "name": "stdout",
     "output_type": "stream",
     "text": [
      "[1.         1.         1.         1.         1.12154575 1.\n",
      " 1.         1.         1.         1.12154575 1.         1.\n",
      " 1.         1.         1.         1.         1.         1.\n",
      " 1.         1.         1.12154575 1.         1.         1.\n",
      " 1.         1.         1.         1.         1.         1.12154575\n",
      " 1.         1.         1.12154575 1.         1.         1.\n",
      " 1.         1.         1.         1.         0.89162658 1.\n",
      " 1.         1.         1.12154575 1.         1.         1.\n",
      " 1.         1.         1.         1.         1.         1.\n",
      " 1.         1.         1.         1.12154575 1.         1.\n",
      " 1.12154575 1.         1.         0.89162658 1.         1.\n",
      " 1.12154575 1.         0.89162658 1.         1.         1.12154575\n",
      " 1.         1.         1.         1.12154575 1.         1.\n",
      " 1.         1.         1.         1.         1.         1.\n",
      " 1.         1.         1.         1.         0.89162658 1.\n",
      " 1.12154575 1.         1.         1.         1.12154575 1.\n",
      " 1.         1.         1.         1.         1.         1.\n",
      " 1.         0.89162658 1.         1.         1.         1.\n",
      " 1.         0.89162658 1.         1.         1.         1.\n",
      " 1.         1.12154575 1.         1.12154575 1.         1.\n",
      " 1.         1.         1.         1.12154575 1.         1.12154575\n",
      " 1.25786487 1.         1.12154575 1.         1.         1.\n",
      " 1.         1.12154575 1.         1.         1.         1.\n",
      " 1.12154575 1.         1.12154575 1.         1.         1.\n",
      " 1.         1.12154575 1.         1.         1.         1.\n",
      " 1.12154575 1.         1.12154575 0.89162658 1.         1.\n",
      " 1.         1.         1.         1.         1.         1.\n",
      " 0.89162658 1.         1.12154575 1.         1.         1.12154575\n",
      " 0.89162658 1.         1.         1.         1.         1.\n",
      " 1.         1.         1.         1.         1.         1.\n",
      " 1.         0.89162658 1.         1.         1.         1.12154575\n",
      " 1.         1.         0.89162658 1.         1.         1.\n",
      " 1.         1.         0.89162658 1.         1.12154575 1.\n",
      " 1.         1.         1.         1.12154575 1.         1.12154575\n",
      " 1.12154575 1.12154575 1.         1.12154575 1.         1.\n",
      " 1.         1.         1.         1.12154575 0.89162658 1.\n",
      " 1.12154575 1.12154575 1.         1.         1.         1.\n",
      " 0.89162658 1.         1.         1.         1.         1.12154575\n",
      " 0.89162658 1.         1.         1.         1.12154575 1.\n",
      " 1.         1.         1.         1.         1.         1.\n",
      " 0.89162658 1.12154575 1.         1.         1.         1.\n",
      " 1.         1.         1.12154575 1.         1.         1.12154575\n",
      " 1.         0.89162658 0.89162658 1.         1.         1.\n",
      " 1.         0.89162658 1.         0.89162658 0.89162658 1.\n",
      " 1.         1.12154575 1.         1.         1.         1.\n",
      " 1.12154575 1.         1.         0.89162658 1.         1.\n",
      " 1.         1.         1.         1.         1.         1.\n",
      " 0.89162658 1.         1.         1.         1.         1.\n",
      " 1.         1.         1.         1.         1.25786487 1.\n",
      " 1.         1.12154575 1.         1.         1.         1.12154575\n",
      " 1.         1.         1.         1.         1.12154575 1.\n",
      " 1.         1.         0.89162658 1.         1.         1.\n",
      " 1.         1.         1.         1.         1.         1.\n",
      " 1.         1.         1.         1.12154575 1.         1.12154575\n",
      " 1.         1.12154575 1.12154575 1.         1.         1.\n",
      " 1.12154575 1.         1.12154575 1.         1.         1.12154575\n",
      " 1.         1.         1.         1.         0.89162658 1.\n",
      " 0.89162658 0.89162658 1.12154575 0.89162658 1.         1.\n",
      " 1.         1.         1.         1.         1.         0.89162658\n",
      " 1.         1.12154575 1.         1.12154575 1.         1.12154575\n",
      " 1.         1.         0.89162658 1.         1.         1.\n",
      " 0.89162658 1.         1.         1.12154575 1.         1.\n",
      " 1.         1.         1.12154575 1.         1.12154575 1.\n",
      " 1.         1.         1.         1.         1.         1.12154575\n",
      " 1.         1.         1.         1.         1.         1.\n",
      " 1.25786487 1.         1.12154575 1.         1.         1.\n",
      " 0.89162658 1.         1.         1.         1.         1.\n",
      " 1.         1.         0.89162658 1.         1.         1.\n",
      " 1.         1.         1.         1.         1.         1.\n",
      " 1.         1.         1.         1.12154575 1.         1.12154575\n",
      " 0.89162658 1.         1.         1.         1.         1.\n",
      " 1.         1.12154575 1.         1.12154575 1.         1.\n",
      " 1.         1.         1.         1.         1.         1.\n",
      " 1.         1.         1.         1.         1.         1.\n",
      " 1.         1.12154575 1.         1.         1.         1.12154575\n",
      " 1.         1.         1.         0.79499796 1.         1.\n",
      " 1.         1.         1.         1.         1.12154575 1.\n",
      " 1.         1.         1.         1.         1.         1.\n",
      " 1.         1.         1.         1.         1.         1.\n",
      " 1.         1.12154575 0.89162658 1.         0.89162658 1.\n",
      " 1.         1.         1.         1.         1.         1.\n",
      " 1.         1.         1.         1.         1.12154575 1.\n",
      " 1.12154575 1.12154575 1.         1.         1.         1.12154575\n",
      " 1.         1.        ]\n"
     ]
    },
    {
     "data": {
      "image/png": "[encoded data removed]",
      "text/plain": [
       "<matplotlib.figure.Figure at 0x10ec70400>"
      ]
     },
     "metadata": {},
     "output_type": "display_data"
    }
   ],
   "source": [
    "import scipy.stats as sts\n",
    "import matplotlib.pyplot as plt\n",
    "\n",
    "A_0_ind = 2\n",
    "A_0 = A_vec[A_0_ind]\n",
    "T = 500\n",
    "A_series = np.zeros(T)\n",
    "unif_series = sts.uniform.rvs(size=T)\n",
    "for t_ind in range(T):\n",
    "    prob_dist = TransMat[A_0_ind, :]\n",
    "    cum_dist = prob_dist.cumsum()\n",
    "    unif = unif_series[t_ind]\n",
    "    A_series[t_ind] = A_vec[(unif < cum_dist).argmax()]\n",
    "\n",
    "print(A_series)\n",
    "plt.plot(np.arange(1, T + 1), A_series)\n",
    "plt.show()"
   ]
  },
  {
   "cell_type": "code",
   "execution_count": null,
   "metadata": {
    "collapsed": true
   },
   "outputs": [],
   "source": []
  }
 ],
 "metadata": {
  "kernelspec": {
   "display_name": "Python 3",
   "language": "python",
   "name": "python3"
  },
  "language_info": {
   "codemirror_mode": {
    "name": "ipython",
    "version": 3
   },
   "file_extension": ".py",
   "mimetype": "text/x-python",
   "name": "python",
   "nbconvert_exporter": "python",
   "pygments_lexer": "ipython3",
   "version": "3.6.3"
  }
 },
 "nbformat": 4,
 "nbformat_minor": 2
}
