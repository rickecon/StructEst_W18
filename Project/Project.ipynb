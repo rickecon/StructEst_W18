{
 "cells": [
  {
   "cell_type": "code",
   "execution_count": 454,
   "metadata": {
    "collapsed": true
   },
   "outputs": [],
   "source": [
    "# Import program libraries\n",
    "import numpy as np\n",
    "import scipy.stats as sts\n",
    "import matplotlib.pyplot as plt\n",
    "import scipy.optimize as opt\n",
    "from quantecon.markov.approximation import rouwenhorst"
   ]
  },
  {
   "cell_type": "code",
   "execution_count": 599,
   "metadata": {},
   "outputs": [
    {
     "name": "stdout",
     "output_type": "stream",
     "text": [
      "[-1.28 -0.64  0.    0.64  1.28]\n",
      "[[  7.89087994e-01   1.92562587e-01   1.76217752e-02   7.16712344e-04\n",
      "    1.09312891e-05]\n",
      " [  4.81406468e-02   7.97898881e-01   1.44959475e-01   8.82181891e-03\n",
      "    1.79178086e-04]\n",
      " [  2.93696254e-03   9.66396498e-02   8.00846775e-01   9.66396498e-02\n",
      "    2.93696254e-03]\n",
      " [  1.79178086e-04   8.82181891e-03   1.44959475e-01   7.97898881e-01\n",
      "    4.81406468e-02]\n",
      " [  1.09312891e-05   7.16712344e-04   1.76217752e-02   1.92562587e-01\n",
      "    7.89087994e-01]]\n",
      "[ 1.  1.  1.  1.  1.]\n"
     ]
    }
   ],
   "source": [
    "# Discritize the values of A and transform them into Markov process.\n",
    "A_size = 5\n",
    "A_bar = 0\n",
    "A_rho = 0.885\n",
    "A_sigma = np.sqrt((1- (A_rho ** 2)) * (0.64**2))\n",
    "MrkChain = rouwenhorst(A_size, (1- A_rho) * A_bar, A_sigma, A_rho)\n",
    "TransMat = MrkChain.P\n",
    "A_sup = MrkChain.state_values\n",
    "print(A_sup)\n",
    "print(TransMat)\n",
    "print(TransMat.sum(axis=1))"
   ]
  },
  {
   "cell_type": "code",
   "execution_count": 668,
   "metadata": {},
   "outputs": [],
   "source": [
    "# Discritize the values of K.\n",
    "K_size = 400\n",
    "K_min = 10.01\n",
    "K_max = 30\n",
    "K_vec = np.linspace(K_min, K_max, K_size)\n",
    "A_vec = np.exp(A_sup)\n",
    "\n",
    "# Set the calibrated parameters.\n",
    "beta = 0.95\n",
    "delta = 0.069\n",
    "theta = 0.592\n",
    "P = 1\n",
    "\n",
    "# Set initial values for the value function iteration.\n",
    "Vtp1 = np.zeros((K_size, A_size))\n",
    "maxiter = 1000\n",
    "tol_VFI = 1e-12\n",
    "iter_VFI = 0\n",
    "dist = 10\n",
    "\n",
    "# We set the numer of periods to 500 and the number of simulations to 100.\n",
    "A_0_ind = 2\n",
    "A_0 = A_vec[A_0_ind]\n",
    "T = 500\n",
    "S = 100\n",
    "A_series = np.zeros((T,S))\n",
    "unif_series = sts.uniform.rvs(size=(T,S))\n",
    "K_0 = K_vec[100]\n",
    "\n",
    "# Define the value function iteration that generates the policy function psi.\n",
    "def value_fcn(Vtp1, iter_VFI, dist, gamma):\n",
    "    \n",
    "    while (iter_VFI < maxiter) and (dist >= tol_VFI):\n",
    "        iter_VFI += 1\n",
    "    \n",
    "    # Step 1: take expectation of tomorrow's value function\n",
    "        Vtp1_flat = Vtp1.T.reshape((1, A_size, K_size))\n",
    "        Vtp1_big = np.tile(Vtp1_flat, (A_size, 1, 1))\n",
    "        TransMat_big = np.repeat(TransMat[:, :, np.newaxis], K_size, axis=2)\n",
    "        EVtp1_a = (TransMat_big * Vtp1_big).sum(axis=1)\n",
    "        EVtp1_flip = EVtp1_a.reshape((1, A_size, K_size))\n",
    "        EVtp1 = np.tile(EVtp1_flip, (K_size, 1, 1))\n",
    "    \n",
    "    # Step 2: Get all other objects on the right-hand-side of Bellman equation\n",
    "    # into the shape (K_size, A_size, K_size)\n",
    "        K_arr = np.tile(K_vec.reshape((K_size, 1, 1)),\n",
    "                    (1, A_size, K_size))\n",
    "        Kpr_arr = np.tile(K_vec.reshape((1, 1, K_size)),\n",
    "                      (K_size, A_size, 1))\n",
    "        ConvCost = ((gamma / 2) *\n",
    "                ((((Kpr_arr - (1 - delta) * K_arr) / K_arr)) ** 2) *\n",
    "                K_arr)\n",
    "    \n",
    "        A_arr = np.tile(A_vec.reshape((1, A_size, 1)),\n",
    "                    (K_size, 1, K_size))\n",
    "        Profits = A_arr * (K_arr ** theta)\n",
    "    \n",
    "        InvCost = P * (Kpr_arr - (1 - delta) * K_arr)\n",
    "    \n",
    "        V_KAKpr = Profits - ConvCost - InvCost + beta * EVtp1\n",
    "    \n",
    "    # Step 3: Solve for the K'=psi(K,A) that maximizes using np.argmax\n",
    "        Psi_ind = V_KAKpr.argmax(axis=2)\n",
    "        Psi = K_vec[Psi_ind]\n",
    "    \n",
    "    # Step 4: Solve for V(K,A)\n",
    "        V_KA = np.zeros((K_size, A_size))\n",
    "        for K_ind in range(K_size):\n",
    "            for A_ind in range(A_size):\n",
    "                V_KA[K_ind, A_ind] = V_KAKpr[K_ind, A_ind,\n",
    "                                         Psi_ind[K_ind, A_ind]]\n",
    "\n",
    "    # Step 5: Check how close V(K,A) is to V'(K,A)\n",
    "        dist = ((Vtp1 - V_KA).flatten() ** 2).sum()\n",
    "    #print('Iter=', iter_VFI, ', Dist=', dist)\n",
    "    \n",
    "        Vtp1 = V_KA.copy()\n",
    "    \n",
    "    V_KA = Vtp1.copy\n",
    "     \n",
    "    return Psi"
   ]
  },
  {
   "cell_type": "code",
   "execution_count": 669,
   "metadata": {},
   "outputs": [],
   "source": [
    "# Generate the time series of A.\n",
    "for t_ind in range(T):\n",
    "    for s_ind in range(S):\n",
    "        prob_dist = TransMat[A_0_ind, :]\n",
    "        cum_dist = prob_dist.cumsum()\n",
    "        unif = unif_series[t_ind, s_ind]\n",
    "        A_series[t_ind, s_ind] = A_vec[(unif < cum_dist).argmax()]"
   ]
  },
  {
   "cell_type": "code",
   "execution_count": 670,
   "metadata": {},
   "outputs": [],
   "source": [
    "# Generate the time series of K.\n",
    "def psi(Vtp1, iter_VFI, dist, unif_series, gamma):\n",
    "    K_series = np.zeros_like(A_series)\n",
    "    K_series[0,:] = K_0\n",
    "    Psi = value_fcn(Vtp1, iter_VFI, dist, gamma)\n",
    "    for t_ind in range(1, len(K_series)):\n",
    "        for s_ind in range(S):\n",
    "            A_val = A_series[t_ind - 1, s_ind]\n",
    "            A_ind = np.argmin((A_val - A_vec) ** 2)\n",
    "            K_val = K_series[t_ind - 1, s_ind]\n",
    "            K_ind = np.argmin((K_val - K_vec) ** 2)\n",
    "            K_series[t_ind, s_ind] = Psi[K_ind, A_ind]\n",
    "            \n",
    "    return K_series"
   ]
  },
  {
   "cell_type": "code",
   "execution_count": 671,
   "metadata": {},
   "outputs": [],
   "source": [
    "# Define the data moments.\n",
    "data_mom1 = 0.058\n",
    "data_mom2 = 0.143\n",
    "data_mom3 = 0.186\n",
    "data_mom4 = 0.018\n",
    "moms_data = np.array([data_mom1, data_mom2, data_mom3, data_mom4])\n",
    "\n",
    "# Generate the model moments fromt our simulated data.\n",
    "def sim_moments(Vtp1, iter_VFI, dist, unif_series, gamma):\n",
    "    K_series = psi(Vtp1, iter_VFI, dist, unif_series, gamma)\n",
    "    K = K_series[0:499,:]\n",
    "    Kpr = K_series[1:500,:]\n",
    "    I = Kpr - (1-delta) * K\n",
    "    i = I / K\n",
    "    a = np.log(A_series)\n",
    "    mom1 = np.zeros((1,S))\n",
    "    mom2 = np.zeros((1,S))\n",
    "    for s in range(S):\n",
    "        cov1 = np.corrcoef(i[0:498,s], i[1:499,s])\n",
    "        cov2 = np.corrcoef(i[0:499,s], a[0:499,s])\n",
    "        mom1[:,s] = cov1[0,1]\n",
    "        mom2[:,s] = cov2[0,1]\n",
    "    mom3 = (i >= 0.2).sum(axis=0) / i.shape[0]\n",
    "    mom4 = (i <= -0.14).sum(axis=0) / i.shape[0]\n",
    "    return mom1, mom2, mom3, mom4"
   ]
  },
  {
   "cell_type": "code",
   "execution_count": 672,
   "metadata": {
    "collapsed": true
   },
   "outputs": [],
   "source": [
    "data_mom1 = 0.058\n",
    "data_mom2 = 0.143\n",
    "data_mom3 = 0.186\n",
    "data_mom4 = 0.018\n",
    "moms_data = np.array([data_mom1, data_mom2, data_mom3, data_mom4])"
   ]
  },
  {
   "cell_type": "code",
   "execution_count": 689,
   "metadata": {},
   "outputs": [],
   "source": [
    "# Create the error vector\n",
    "def err_vec(Vtp1, iter_VFI, dist, unif_series, gamma):\n",
    "    sim_mom1, sim_mom2, sim_mom3, sim_mom4 = sim_moments(Vtp1, iter_VFI, dist, unif_series, gamma)\n",
    "    mod_mom1 = sim_mom1.mean()\n",
    "    mod_mom2 = sim_mom2.mean()\n",
    "    mod_mom3 = sim_mom3.mean()\n",
    "    mod_mom4 = sim_mom4.mean()\n",
    "    moms_model = np.array([mod_mom1, mod_mom2, mod_mom3, mod_mom4])\n",
    "    err_vec = (moms_model - moms_data) / moms_data\n",
    "    return err_vec\n",
    "\n",
    "# Create the ctiterion function\n",
    "def crit(params, *args):\n",
    "    gamma = params\n",
    "    unif_series, W = args\n",
    "    err = err_vec(Vtp1, iter_VFI, dist, unif_series, gamma)\n",
    "    crit_val = err @ W @ err.T\n",
    "    return crit_val"
   ]
  },
  {
   "cell_type": "code",
   "execution_count": 697,
   "metadata": {
    "scrolled": true
   },
   "outputs": [
    {
     "name": "stdout",
     "output_type": "stream",
     "text": [
      "      fun: 14.50390899634537\n",
      " hess_inv: <1x1 LbfgsInvHessProduct with dtype=float64>\n",
      "      jac: array([ 0.35973777])\n",
      "  message: b'CONVERGENCE: REL_REDUCTION_OF_F_<=_FACTR*EPSMCH'\n",
      "     nfev: 104\n",
      "      nit: 3\n",
      "   status: 0\n",
      "  success: True\n",
      "        x: array([ 1.45587159])\n"
     ]
    }
   ],
   "source": [
    "# Set the initial values and bounds of the parameters and the weighted matrix\n",
    "gamma_init = 1.2\n",
    "params_init = np.array([gamma_init])\n",
    "bounds = ((1e-10, 9),)\n",
    "W = np.eye(4)\n",
    "\n",
    "# Conduct SMM\n",
    "smm_arg = (unif_series, W)\n",
    "result = opt.minimize(crit, params_init, args=(smm_arg), bounds = bounds, options={'eps': 1.0})\n",
    "gamma_smm1 = result.x\n",
    "print(result)"
   ]
  },
  {
   "cell_type": "code",
   "execution_count": 704,
   "metadata": {},
   "outputs": [
    {
     "name": "stdout",
     "output_type": "stream",
     "text": [
      "[[-1.26728676  3.3089184  -0.97414183 -1.        ]]\n",
      "[[  1.60601574  -4.19334848   1.23451705   1.26728676]\n",
      " [ -4.19334848  10.94894095  -3.22335583  -3.3089184 ]\n",
      " [  1.23451705  -3.22335583   0.94895231   0.97414183]\n",
      " [  1.26728676  -3.3089184    0.97414183   1.        ]]\n",
      "[[ 0.00763448 -0.01993383  0.0058685   0.00602427]\n",
      " [-0.01993383  0.05204775 -0.0153228  -0.01572954]\n",
      " [ 0.0058685  -0.0153228   0.00451101  0.00463076]\n",
      " [ 0.00602427 -0.01572954  0.00463076  0.00475368]]\n"
     ]
    }
   ],
   "source": [
    "# Compute the two-step estimator.\n",
    "err = err_vec(Vtp1, iter_VFI, dist, unif_series, gamma_smm1)\n",
    "err_1 = err.reshape(1,4)\n",
    "print(err_1)\n",
    "omega = (err_1.T @ err_1) \n",
    "print(omega)\n",
    "W_2_step = np.linalg.pinv(omega)\n",
    "print(W_2_step)"
   ]
  },
  {
   "cell_type": "code",
   "execution_count": 703,
   "metadata": {},
   "outputs": [
    {
     "name": "stdout",
     "output_type": "stream",
     "text": [
      "-0.0155026321741 0.616175330624 0.00480961923848 0.0\n"
     ]
    }
   ],
   "source": [
    "# Compute the simulated moments.\n",
    "sim_mom1, sim_mom2, sim_mom3, sim_mom4 = sim_moments(Vtp1, iter_VFI, dist, unif_series, gamma_smm1)\n",
    "mom_smm1 = sim_mom1.mean()\n",
    "mom_smm2 = sim_mom2.mean()\n",
    "mom_smm3 = sim_mom3.mean()\n",
    "mom_smm4 = sim_mom4.mean()\n",
    "print(mom_smm1, mom_smm2, mom_smm3, mom_smm4)"
   ]
  },
  {
   "cell_type": "code",
   "execution_count": 705,
   "metadata": {
    "scrolled": true
   },
   "outputs": [
    {
     "name": "stdout",
     "output_type": "stream",
     "text": [
      "      fun: 0.9427708557462402\n",
      " hess_inv: <1x1 LbfgsInvHessProduct with dtype=float64>\n",
      "      jac: array([-0.0075683])\n",
      "  message: b'CONVERGENCE: REL_REDUCTION_OF_F_<=_FACTR*EPSMCH'\n",
      "     nfev: 100\n",
      "      nit: 4\n",
      "   status: 0\n",
      "  success: True\n",
      "        x: array([ 1.73476726])\n"
     ]
    }
   ],
   "source": [
    "# Estimate the parameters using the two-step estimator.\n",
    "params_init = np.array([gamma_smm1])\n",
    "result = opt.minimize(crit, params_init, args = (unif_series, W_2_step), bounds = bounds, options={'eps': 1.0})\n",
    "gamma_smm2 = result.x\n",
    "print(result)"
   ]
  },
  {
   "cell_type": "code",
   "execution_count": 706,
   "metadata": {},
   "outputs": [
    {
     "name": "stdout",
     "output_type": "stream",
     "text": [
      "0.0113427083994 0.623261024827 0.00452905811623 0.0\n"
     ]
    }
   ],
   "source": [
    "# Compute the simulated moments with the 2-step estimator.\n",
    "sim_mom1, sim_mom2, sim_mom3, sim_mom4 = sim_moments(Vtp1, iter_VFI, dist, unif_series, gamma_smm2)\n",
    "mom_smm1 = sim_mom1.mean()\n",
    "mom_smm2 = sim_mom2.mean()\n",
    "mom_smm3 = sim_mom3.mean()\n",
    "mom_smm4 = sim_mom4.mean()\n",
    "print(mom_smm1, mom_smm2, mom_smm3, mom_smm4)"
   ]
  },
  {
   "cell_type": "code",
   "execution_count": 711,
   "metadata": {
    "collapsed": true
   },
   "outputs": [],
   "source": [
    "#plt.plot(np.arange(1, T + 1), A_series[:,0])\n",
    "#plt.show()"
   ]
  },
  {
   "cell_type": "code",
   "execution_count": 712,
   "metadata": {
    "collapsed": true
   },
   "outputs": [],
   "source": [
    "K_series = psi(Vtp1, iter_VFI, dist, unif_series, gamma_smm2)\n",
    "#plt.plot(np.arange(1, T + 1), K_series[:,0])\n",
    "#plt.show()"
   ]
  },
  {
   "cell_type": "code",
   "execution_count": 713,
   "metadata": {
    "collapsed": true
   },
   "outputs": [],
   "source": [
    "#print(K_series[:,0])"
   ]
  },
  {
   "cell_type": "code",
   "execution_count": 714,
   "metadata": {},
   "outputs": [
    {
     "data": {
      "image/png": "[encoded data removed]",
      "text/plain": [
       "<matplotlib.figure.Figure at 0x1c26d5bf60>"
      ]
     },
     "metadata": {},
     "output_type": "display_data"
    }
   ],
   "source": [
    "K = K_series[0:499,:]\n",
    "Kpr = K_series[1:500,:]\n",
    "I = Kpr - (1-delta) * K\n",
    "i = I / K\n",
    "count, bins, ignored = plt.hist(i[:,:], 10, edgecolor='blue', normed=True)\n",
    "plt.title('Investment Rate Distribution', fontsize=10)\n",
    "plt.xlabel('Investment Rate')\n",
    "plt.ylabel('percent')\n",
    "plt.show()"
   ]
  }
 ],
 "metadata": {
  "kernelspec": {
   "display_name": "Python 3",
   "language": "python",
   "name": "python3"
  },
  "language_info": {
   "codemirror_mode": {
    "name": "ipython",
    "version": 3
   },
   "file_extension": ".py",
   "mimetype": "text/x-python",
   "name": "python",
   "nbconvert_exporter": "python",
   "pygments_lexer": "ipython3",
   "version": "3.6.3"
  }
 },
 "nbformat": 4,
 "nbformat_minor": 2
}
