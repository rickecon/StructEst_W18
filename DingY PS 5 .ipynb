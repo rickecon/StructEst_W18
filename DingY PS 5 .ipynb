{
 "cells": [
  {
   "cell_type": "code",
   "execution_count": 1,
   "metadata": {
    "collapsed": true
   },
   "outputs": [],
   "source": [
    "import numpy as np\n",
    "import matplotlib.pyplot as plt\n",
    "import scipy.stats as sts\n",
    "import scipy.optimize as opt\n",
    "nms = np.loadtxt('NewMacroSeries.txt', delimiter = ',')\n",
    "ct = nms[:,0]\n",
    "kt = nms[:,1]\n",
    "wt = nms[:,2]\n",
    "rt = nms[:,3]\n",
    "yt = nms[:,4]\n",
    "\n",
    "# ct, kt, wt, rt, yt = dt[:,0], dt[:,1], dt[:,2], dt[:,3], dt[:,4]"
   ]
  },
  {
   "cell_type": "code",
   "execution_count": 2,
   "metadata": {
    "collapsed": true
   },
   "outputs": [],
   "source": [
    "k_1 = np.mean(kt)\n",
    "S = 1000\n",
    "T = 100\n",
    "# Random draw from Uniform(0,1)\n",
    "U = np.random.uniform(0,1,(T,S))\n",
    "beta = 0.99"
   ]
  },
  {
   "cell_type": "code",
   "execution_count": 3,
   "metadata": {
    "collapsed": true
   },
   "outputs": [],
   "source": [
    "def SIM(alpha, beta, rho, mu, sigma, U):\n",
    "    eps = sts.norm.ppf(U,0,sigma)\n",
    "    z = np.zeros((T,S))\n",
    "    z_t_1 = mu\n",
    "    for i in range(T):\n",
    "        z_t = rho*z_t_1 + (1-rho)*mu + eps[i,:]\n",
    "        z[i,:] = z_t\n",
    "        z_t_1 = z_t\n",
    "        \n",
    "    k = np.zeros((T,S))\n",
    "    k_lag = np.zeros((T,S))\n",
    "    k_t_1 = k_1\n",
    "    for i in range(T):\n",
    "        k_t = alpha*beta*np.exp(z[i,:])*k_t_1**alpha\n",
    "        k_lag[i,:] = k_t_1\n",
    "        k[i,:] = k_t\n",
    "        k_t_1 = k_t\n",
    "        \n",
    "    w = (1-alpha)*np.exp(z)*k_lag**alpha\n",
    "    r = alpha*np.exp(z)*k_lag**(alpha-1)\n",
    "    c = w + r*k_lag - k\n",
    "    y = np.exp(z)*k_lag**alpha\n",
    "    return c,k_lag,k,w,r,y"
   ]
  },
  {
   "cell_type": "code",
   "execution_count": 4,
   "metadata": {
    "collapsed": true
   },
   "outputs": [],
   "source": [
    "def model_mom(alpha, beta, rho, mu, sigma,U):\n",
    "    c,k_lag,k,w,r,y = SIM(alpha, beta, rho, mu, sigma, U)\n",
    "    \n",
    "    m1 = np.mean(c)\n",
    "    m2 = np.mean(k)\n",
    "    m3 = np.mean(c/y)\n",
    "    m4 = np.mean(np.std(y,axis=0))\n",
    "    corr_c = np.zeros((1,S))\n",
    "    corr_ck = np.zeros((1,S))\n",
    "    for i in range(S):\n",
    "        corr_c[0,i] = np.corrcoef(c[0:99,i],c[1:100,i])[0,1]\n",
    "        corr_ck[0,i] = np.corrcoef(c[:,i],k_lag[:,i])[0,1]\n",
    "        \n",
    "    m5 = np.mean(corr_c)\n",
    "    m6 = np.mean(corr_ck)\n",
    "    model_mom = np.array([m1,m2,m3,m4,m5,m6])\n",
    "    return model_mom"
   ]
  },
  {
   "cell_type": "code",
   "execution_count": 5,
   "metadata": {
    "collapsed": true
   },
   "outputs": [],
   "source": [
    "def err_vec(alpha, beta, rho, mu, sigma, U):\n",
    "    \n",
    "    data_moms = np.array([np.mean(ct),np.mean(kt),np.mean(ct/yt),np.var(yt),\n",
    "                         np.corrcoef(ct[0:99],ct[1:100])[0,1],\n",
    "                         np.corrcoef(ct,kt)[0,1]])\n",
    "    \n",
    "    model_moms = model_mom(alpha, beta, rho, mu, sigma, U)\n",
    "    \n",
    "    return (model_moms - data_moms)/data_moms\n",
    "\n",
    "def crit(params, *args):\n",
    "    alpha, rho, mu, sigma = params\n",
    "    beta, U = args\n",
    "    err = err_vec(alpha, beta, rho, mu, sigma, U)\n",
    "    W = np.eye(6)\n",
    "    return err @ W @ err.T"
   ]
  },
  {
   "cell_type": "code",
   "execution_count": 6,
   "metadata": {},
   "outputs": [
    {
     "name": "stdout",
     "output_type": "stream",
     "text": [
      "      fun: 1.0000065721505345\n",
      " hess_inv: <4x4 LbfgsInvHessProduct with dtype=float64>\n",
      "      jac: array([ -5.89678750e-04,  -2.90101276e-04,  -9.90858506e-05,\n",
      "        -7.11875003e-05])\n",
      "  message: b'CONVERGENCE: REL_REDUCTION_OF_F_<=_FACTR*EPSMCH'\n",
      "     nfev: 295\n",
      "      nit: 38\n",
      "   status: 0\n",
      "  success: True\n",
      "        x: array([ 0.42101743,  0.96089798,  9.61472007,  0.19394674])\n"
     ]
    }
   ],
   "source": [
    "params_init = np.array([0.5, 0.8, 11, 1])\n",
    "bounds = ((1e-10,1-1e-10),(-1+1e-10,1-1e-10),(5,14),(1e-10,None))\n",
    "\n",
    "result = opt.minimize(crit, params_init, args = (beta,U), method = 'L-BFGS-B', bounds = bounds,\n",
    "                     options = {'eps':1e-06})\n",
    "alpha_smm, rho_smm, mu_smm, sigma_smm = result.x\n",
    "print(result)"
   ]
  },
  {
   "cell_type": "code",
   "execution_count": 8,
   "metadata": {
    "collapsed": true
   },
   "outputs": [],
   "source": [
    "data_moms = np.array([np.mean(ct),np.mean(kt),np.mean(ct/yt),np.var(yt),\n",
    "                      np.corrcoef(ct[0:99],ct[1:100])[0,1],np.corrcoef(ct,kt)[0,1]])"
   ]
  },
  {
   "cell_type": "code",
   "execution_count": 9,
   "metadata": {},
   "outputs": [
    {
     "name": "stdout",
     "output_type": "stream",
     "text": [
      "alpha SMM =  0.421017428155\n",
      "rho SMM =  0.960897979397\n",
      "mu SMM =  9.61472007024\n",
      "sigma SMM =  0.19394674165\n",
      "the vector of moment differences at the optimum = [  7.12708664e+03  -5.20533439e+03  -1.00725387e-03  -2.83778107e+13\n",
      "   1.08211851e-03  -1.35880673e-03]\n",
      "the criterion function value = 1.00000657215\n"
     ]
    }
   ],
   "source": [
    "print('alpha SMM = ', alpha_smm)\n",
    "print('rho SMM = ', rho_smm)\n",
    "print('mu SMM = ', mu_smm)\n",
    "print('sigma SMM = ', sigma_smm)\n",
    "print('the vector of moment differences at the optimum =', \n",
    "      err_vec(alpha_smm, beta, rho_smm, mu_smm, sigma_smm, U)*data_moms)\n",
    "print('the criterion function value =', result.fun)"
   ]
  },
  {
   "cell_type": "code",
   "execution_count": null,
   "metadata": {
    "collapsed": true
   },
   "outputs": [],
   "source": []
  }
 ],
 "metadata": {
  "kernelspec": {
   "display_name": "Python 3",
   "language": "python",
   "name": "python3"
  },
  "language_info": {
   "codemirror_mode": {
    "name": "ipython",
    "version": 3
   },
   "file_extension": ".py",
   "mimetype": "text/x-python",
   "name": "python",
   "nbconvert_exporter": "python",
   "pygments_lexer": "ipython3",
   "version": "3.6.3"
  }
 },
 "nbformat": 4,
 "nbformat_minor": 2
}
