{
 "cells": [
  {
   "cell_type": "code",
   "execution_count": 381,
   "metadata": {
    "collapsed": true,
    "scrolled": true
   },
   "outputs": [],
   "source": [
    "# Import packages\n",
    "import numpy as np\n",
    "import numpy.random as rnd\n",
    "import numpy.linalg as lin\n",
    "import scipy.stats as sts\n",
    "import scipy.integrate as intgr\n",
    "import scipy.optimize as opt\n",
    "import matplotlib\n",
    "import matplotlib.pyplot as plt\n",
    "from pandas import DataFrame, Series\n",
    "from mpl_toolkits.mplot3d import Axes3D\n",
    "from matplotlib import cm\n",
    "cmap1 = matplotlib.cm.get_cmap('summer')\n",
    "# This next command is specifically for Jupyter Notebook\n",
    "%matplotlib notebook\n",
    "\n",
    "#Loading the data\n",
    "c = np.loadtxt('NewMacroSeries.txt', delimiter=\",\",usecols=0)\n",
    "k = np.loadtxt('NewMacroSeries.txt', delimiter=\",\",usecols=1)\n",
    "w = np.loadtxt('NewMacroSeries.txt', delimiter=\",\",usecols=2)\n",
    "r = np.loadtxt('NewMacroSeries.txt', delimiter=\",\",usecols=3)\n",
    "y = np.loadtxt('NewMacroSeries.txt', delimiter=\",\",usecols=4)\n",
    "data=np.vstack([c,k,w,r,y])"
   ]
  },
  {
   "cell_type": "code",
   "execution_count": 382,
   "metadata": {
    "collapsed": true
   },
   "outputs": [],
   "source": [
    "# Define function that draws N x S test score values from a normal distribution\n",
    "def norm_draws(unif_vals, mu, sigma):\n",
    "    norm_draws = sts.norm.ppf(unif_vals, loc=mu, scale=sigma)\n",
    "    return norm_draws"
   ]
  },
  {
   "cell_type": "code",
   "execution_count": 383,
   "metadata": {
    "collapsed": true
   },
   "outputs": [],
   "source": [
    "# Define function that generates data moments.\n",
    "def data_moments(xvals):\n",
    "    mean_c = np.mean(xvals[0])\n",
    "    mean_k = np.mean(xvals[1])\n",
    "    mean_cy = np.mean(np.divide(xvals[0],xvals[4]))\n",
    "    var_y = np.var(xvals[4])\n",
    "    corr_cc = np.corrcoef(xvals[0][0:-2],xvals[0][1:-1])[0,1]\n",
    "    corr_ck = np.corrcoef(xvals[0][0:-1],xvals[4][0:-1])[0,1]\n",
    "    return mean_c, mean_k, mean_cy, var_y, corr_cc, corr_ck"
   ]
  },
  {
   "cell_type": "code",
   "execution_count": 384,
   "metadata": {
    "collapsed": true
   },
   "outputs": [],
   "source": [
    "#Define Data Simulation Function.\n",
    "def sim_data(params,args):\n",
    "    mu, rho, sigma,alpha=params\n",
    "    xvals, k_1,beta, T, S, W_hat=args  \n",
    "    unif_vals_1 = sts.uniform.rvs(0, 1, size=(T+1,S)) #Uniform Draws\n",
    "    eps=norm_draws(unif_vals_1[1],0,sigma)         #Error Terms\n",
    "\n",
    "    #Generating z_t\n",
    "    z_t=np.linspace(0,T,T+2)\n",
    "    for i in range(0,T+2):\n",
    "        if i==0:\n",
    "              z_t[i]=mu\n",
    "        else:\n",
    "              z_t[i]=z_t[i-1]*rho+mu*(1-rho)+eps[i-1]\n",
    "    \n",
    "    #Generating k_t\n",
    "    k_t=np.linspace(0,T,T+1)\n",
    "    for i in range(0,T):\n",
    "        if i==0:\n",
    "            k_t[i]=k_1\n",
    "        else:\n",
    "            k_t[i]=np.log(alpha)+np.log(beta)+z_t[i+1]+alpha*np.log(k_t[i-1])\n",
    "\n",
    "    #Generating w_t and r_t\n",
    "    z_t = z_t[1:T+2]\n",
    "    w_t = np.log(1-alpha) + z_t + np.log(k_t)*alpha\n",
    "    r_t = np.log(alpha) + z_t + np.log(k_t)*(1-alpha)\n",
    "    w_t = w_t[0:T]\n",
    "    r_t = r_t[0:T]\n",
    "    z_t = z_t[0:T]\n",
    "    c_t = r_t*k_t[0:T] + w_t - k_t[1:T+1]\n",
    "    y_t = np.exp(z_t)*k_t[0:T]**alpha\n",
    "\n",
    "    sim_vals = [c_t,k_t,w_t,r_t,y_t]\n",
    "    return sim_vals\n"
   ]
  },
  {
   "cell_type": "code",
   "execution_count": 385,
   "metadata": {
    "collapsed": true
   },
   "outputs": [],
   "source": [
    "#Define Data Simulation Function with S=loop.\n",
    "def sim_data2(params,args):\n",
    "    mu, rho, sigma,alpha=params\n",
    "    xvals, k_1,beta, T, S, W_hat=args  \n",
    "    for s in range(0,S):\n",
    "        unif_vals_1 = sts.uniform.rvs(0, 1, size=(T+1,S)) #Uniform Draws\n",
    "        eps=norm_draws(unif_vals_1[1],0,sigma)         #Error Terms\n",
    "\n",
    "    #Generating z_t\n",
    "        z_t=np.linspace(0,T,T+2)\n",
    "        for i in range(0,T+2):\n",
    "            if i==0:\n",
    "                  z_t[i]=mu\n",
    "            else:\n",
    "                  z_t[i]=z_t[i-1]*rho+mu*(1-rho)+eps[i-1]\n",
    "    \n",
    "    #Generating k_t\n",
    "        k_t=np.linspace(0,T,T+1)\n",
    "        for i in range(0,T):\n",
    "            if i==0:\n",
    "                k_t[i]=k_1\n",
    "            else:\n",
    "                k_t[i]=np.log(alpha)+np.log(beta)+z_t[i+1]+alpha*np.log(k_t[i-1])\n",
    "\n",
    "    #Generating w_t and r_t\n",
    "        z_t = z_t[1:T+2]\n",
    "        w_t = np.log(1-alpha) + z_t + np.log(k_t)*alpha\n",
    "        r_t = np.log(alpha) + z_t + np.log(k_t)*(1-alpha)\n",
    "        w_t = w_t[0:T]\n",
    "        r_t = r_t[0:T]\n",
    "        z_t = z_t[0:T]\n",
    "        c_t = r_t*k_t[0:T] + w_t - k_t[1:T+1]\n",
    "        y_t = np.exp(z_t)*k_t[0:T]**alpha\n",
    "        sim_vals_t = [c_t,k_t,w_t,r_t,y_t]\n",
    "        if s==0:\n",
    "            sim_vals_s = sim_vals_t\n",
    "        else:\n",
    "            sim_vals_s = sim_vals_s + np.divide((c_t,k_t,w_t,r_t,y_t),S)\n",
    "    return sim_vals_s"
   ]
  },
  {
   "cell_type": "code",
   "execution_count": 386,
   "metadata": {
    "collapsed": true
   },
   "outputs": [],
   "source": [
    "#Define Moment Error Function\n",
    "def err_vec(data_vals, sim_vals, simple):\n",
    "    mean_c_d, mean_k_d, mean_cy_d, var_y_d, corr_cc_d, corr_ck_d = data_moments(data_vals)\n",
    "    moms_data =[[mean_c_d], [mean_k_d],[mean_cy_d],[var_y_d],[corr_cc_d],[corr_ck_d]]\n",
    "    mean_c_s, mean_k_s, mean_cy_s, var_y_s, corr_cc_s, corr_ck_s = data_moments(sim_vals)\n",
    "    moms_model = np.array([[mean_c_s], [mean_k_s],[mean_cy_s],[var_y_s],[corr_cc_s],[corr_ck_s]])\n",
    "    if simple:\n",
    "        err_vec = moms_model - moms_data\n",
    "    else:\n",
    "        err_vec = (moms_model - moms_data) / moms_data\n",
    "    return err_vec\n",
    "\n",
    "#Define Criterion Functions\n",
    "def criterion(params, *args):\n",
    "    mu, rho, sigma, alpha = params\n",
    "    xvals, k_1, beta, T, S, W_hat = args\n",
    "    sim_vals=sim_data(params,args)               #Using sim_data\n",
    "    err = err_vec(xvals, sim_vals, simple=False)\n",
    "    crit_val = np.dot(np.dot(err.T, W_hat), err) \n",
    "    return crit_val\n",
    "\n",
    "#Define Criterion Functions\n",
    "def criterion2(params, *args):\n",
    "    mu, rho, sigma, alpha = params\n",
    "    xvals, k_1, beta, T, S, W_hat = args\n",
    "    sim_vals=sim_data2(params,args)               #Using sim_data2\n",
    "    err = err_vec(xvals, sim_vals, simple=False)\n",
    "    crit_val = np.dot(np.dot(err.T, W_hat), err) \n",
    "    return crit_val"
   ]
  },
  {
   "cell_type": "code",
   "execution_count": 433,
   "metadata": {},
   "outputs": [
    {
     "name": "stdout",
     "output_type": "stream",
     "text": [
      "Data Mean of Consumption = 9281790.48567 Data Mean of Capital = 6643985.1383\n",
      "Model Mean of Consumption = 1171623.11913 Model Mean of Capital = 65791.9583206\n",
      "\n",
      "Data Mean of Consump/GDP = 0.5842 Data Variance of GDP = 2.83778250589e+13\n",
      "Model Mean of Consump/GDP = 0.24234752633 Model Variance of GDP = 236897118563.0\n",
      "\n",
      "Data AR of Consumption = 0.94085870125 Data Corr of Consump and Capital = 1.0\n",
      "Model AR of Consumption = 0.992268566519 Model Corr of Consump and Capital = 0.999998588701\n",
      "\n",
      "Criterion Value = [[ 2.80125583]]\n",
      "\n",
      "SMM Estimates\n",
      "mu_SMM= 9.10000646065 rho_SMM= 0.0100013164036 sigma_SMM= 0.0300013714618 alpha_SMM= 0.40000075672\n",
      "\n",
      "      fun: array([[ 3.07409021]])\n",
      " hess_inv: <4x4 LbfgsInvHessProduct with dtype=float64>\n",
      "      jac: array([ -600902.5059293 ,   107654.31858224,  -106478.93319771,\n",
      "       -4478728.65397252])\n",
      "  message: b'CONVERGENCE: REL_REDUCTION_OF_F_<=_FACTR*EPSMCH'\n",
      "     nfev: 100\n",
      "      nit: 3\n",
      "   status: 0\n",
      "  success: True\n",
      "        x: array([ 9.10000646,  0.01000132,  0.03000137,  0.40000076])\n"
     ]
    }
   ],
   "source": [
    "#Initial Values\n",
    "mu = 9.1\n",
    "rho = 0.01\n",
    "sigma = 0.03\n",
    "alpha = 0.40\n",
    "params=(mu, rho, sigma, alpha)\n",
    "\n",
    "#Assumptions\n",
    "xvals=data\n",
    "k_1=np.mean(xvals[1])\n",
    "beta=0.99\n",
    "S=1000\n",
    "T=100\n",
    "nm=6            #number of moment\n",
    "W_hat=np.eye(nm)\n",
    "args=(xvals, k_1, beta, T, S, W_hat)\n",
    "\n",
    "#Bounds\n",
    "mub=(5,14)\n",
    "rhob=(-0.99,0.99)\n",
    "sigmab=(0.01,1.1)\n",
    "alphab=(0.01,0.99)\n",
    "\n",
    "#crit_test = criterion(params, *args)\n",
    "crit_test = criterion2(params, *args)  #S=1000\n",
    "sim_vals=sim_data(params, args)\n",
    "mean_c_d, mean_k_d, mean_cy_d, var_y_d, corr_cc_d, corr_ck_d = data_moments(data)\n",
    "mean_c_s, mean_k_s, mean_cy_s, var_y_s, corr_cc_s, corr_ck_s = data_moments(sim_vals)\n",
    "print('Data Mean of Consumption =', mean_c_d,'Data Mean of Capital =',mean_k_d)\n",
    "print('Model Mean of Consumption =', mean_c_s,'Model Mean of Capital =',mean_k_s)\n",
    "print('')\n",
    "print('Data Mean of Consump/GDP =', mean_cy_d,'Data Variance of GDP =',var_y_d)\n",
    "print('Model Mean of Consump/GDP =', mean_cy_s,'Model Variance of GDP =',var_y_s)\n",
    "print('')\n",
    "print('Data AR of Consumption =', corr_cc_d, 'Data Corr of Consump and Capital =',corr_ck_d )\n",
    "print('Model AR of Consumption =', corr_cc_s, 'Model Corr of Consump and Capital =',corr_ck_s )\n",
    "print('')\n",
    "print('Criterion Value =',crit_test)\n",
    "print('')\n",
    "results = opt.minimize(criterion, params, args=args, method='L-BFGS-B',bounds=(mub,rhob,sigmab,alphab,))\n",
    "print('SMM Estimates')\n",
    "mu_SMM, rho_SMM, sigma_SMM, alpha_SMM = results.x\n",
    "print('mu_SMM=', mu_SMM,'rho_SMM=', rho_SMM,'sigma_SMM=', sigma_SMM, 'alpha_SMM=', alpha_SMM)\n",
    "print('')\n",
    "print(results)"
   ]
  },
  {
   "cell_type": "code",
   "execution_count": 434,
   "metadata": {},
   "outputs": [
    {
     "name": "stdout",
     "output_type": "stream",
     "text": [
      "Data Mean of Consumption = 9281790.48567 Data Mean of Capital = 6643985.1383\n",
      "Model Mean of Consumption = 1168918.4417 Model Mean of Capital = 65791.9576604\n",
      "\n",
      "Data Mean of Consump/GDP = 0.5842 Data Variance of GDP = 2.83778250589e+13\n",
      "Model Mean of Consump/GDP = 0.251675602939 Model Variance of GDP = 218303903718.0\n",
      "\n",
      "Data AR of Consumption = 0.94085870125 Data Corr of Consump and Capital = 1.0\n",
      "Model AR of Consumption = 0.99276251107 Model Corr of Consump and Capital = 0.999998040451\n",
      "\n",
      "Criterion Value = [ 2.80125583]\n",
      "\n",
      "Error vector 1 = [ -8.74063259e-01  -9.90097516e-01  -5.69196161e-01  -9.92307236e-01\n",
      "   5.51664238e-02  -1.95954897e-06]\n"
     ]
    }
   ],
   "source": [
    "#SMM Results\n",
    "params_SMM=(mu_SMM, rho_SMM, sigma_SMM, alpha_SMM)\n",
    "draw_SMM=sim_data(params_SMM, args)\n",
    "mean_c_s, mean_k_s, mean_cy_s, var_y_s, corr_cc_s, corr_ck_s = data_moments(draw_SMM)\n",
    "err_1 = err_vec(data, draw_SMM,False).reshape(6,)\n",
    "print('Data Mean of Consumption =', mean_c_d,'Data Mean of Capital =',mean_k_d)\n",
    "print('Model Mean of Consumption =', mean_c_s,'Model Mean of Capital =',mean_k_s)\n",
    "print('')\n",
    "print('Data Mean of Consump/GDP =', mean_cy_d,'Data Variance of GDP =',var_y_d)\n",
    "print('Model Mean of Consump/GDP =', mean_cy_s,'Model Variance of GDP =',var_y_s)\n",
    "print('')\n",
    "print('Data AR of Consumption =', corr_cc_d, 'Data Corr of Consump and Capital =',corr_ck_d )\n",
    "print('Model AR of Consumption =', corr_cc_s, 'Model Corr of Consump and Capital =',corr_ck_s )\n",
    "print('')\n",
    "print('Criterion Value =',crit_test[0])\n",
    "print('')\n",
    "print('Error vector 1 =', err_1)\n"
   ]
  },
  {
   "cell_type": "code",
   "execution_count": null,
   "metadata": {
    "collapsed": true
   },
   "outputs": [],
   "source": [
    "# Criterion function 1 runs only single loop, and criterion function 2 runs loops for S times.\n",
    "# With similiar initial values, criterion function 2 will have less criterion value than criterion function 1."
   ]
  }
 ],
 "metadata": {
  "kernelspec": {
   "display_name": "Python 3",
   "language": "python",
   "name": "python3"
  },
  "language_info": {
   "codemirror_mode": {
    "name": "ipython",
    "version": 3
   },
   "file_extension": ".py",
   "mimetype": "text/x-python",
   "name": "python",
   "nbconvert_exporter": "python",
   "pygments_lexer": "ipython3",
   "version": "3.6.1"
  }
 },
 "nbformat": 4,
 "nbformat_minor": 2
}
