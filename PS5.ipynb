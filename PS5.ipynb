{
 "cells": [
  {
   "cell_type": "code",
   "execution_count": 20,
   "metadata": {
    "collapsed": true
   },
   "outputs": [],
   "source": [
    "import numpy as np\n",
    "import scipy.stats as sts\n",
    "import scipy.special as spec\n",
    "import matplotlib.pyplot as plt\n",
    "import scipy.optimize as opt\n",
    "import scipy.integrate as integral\n",
    "import pandas as pd\n",
    "import numpy.linalg as lin\n",
    "%matplotlib notebook\n",
    "\n",
    "dt = pd.read_csv('NewMacroSeries.txt', header = None)\n",
    "dt.columns = ['c','k','w','r','y']"
   ]
  },
  {
   "cell_type": "code",
   "execution_count": 21,
   "metadata": {
    "collapsed": true
   },
   "outputs": [],
   "source": [
    "unif_vals_1 = sts.uniform.rvs(0, 1, size=(100,1000))"
   ]
  },
  {
   "cell_type": "code",
   "execution_count": 22,
   "metadata": {
    "collapsed": true
   },
   "outputs": [],
   "source": [
    "DT_C = np.array(dt.c.values)\n",
    "DT_K = np.array(dt.k.values)\n",
    "DT_W = np.array(dt.w.values)\n",
    "DT_R = np.array(dt.r.values)\n",
    "DT_Y = np.array(dt.y.values)\n",
    "\n",
    "K_1 = DT_K.mean()"
   ]
  },
  {
   "cell_type": "code",
   "execution_count": 23,
   "metadata": {
    "collapsed": true
   },
   "outputs": [],
   "source": [
    "#Generate a Matrix from uniform distribution.\n",
    "def norm_draws(unif_vals, mu, sigma):\n",
    "    norm_draws = sts.norm.ppf(unif_vals, loc=0, scale=sigma)\n",
    "    \n",
    "    return norm_draws"
   ]
  },
  {
   "cell_type": "code",
   "execution_count": 24,
   "metadata": {
    "collapsed": true
   },
   "outputs": [],
   "source": [
    "#Get the value of z\n",
    "def get_z(rho, unif_vals, mu, sigma):\n",
    "    Z = np.ones((100,1000))\n",
    "    Z = np.array(Z)\n",
    "    norm_draw = norm_draws(unif_vals, mu, sigma)\n",
    "    norm_draw = np.array(norm_draw)\n",
    "    Z[0,:] = mu + norm_draw[0,:]\n",
    "    for i in range(99):\n",
    "        Z[i+1,:] = np.multiply(rho,Z[i,:]) + (1-rho)*mu + norm_draw[i+1,:]\n",
    "    \n",
    "    return Z"
   ]
  },
  {
   "cell_type": "code",
   "execution_count": 25,
   "metadata": {
    "collapsed": true
   },
   "outputs": [],
   "source": [
    "#Get simulated value for k\n",
    "def get_simulated_k(alpha, rho, unif_vals, mu, sigma):\n",
    "    Z = get_z(rho, unif_vals, mu, sigma)\n",
    "    K = np.ones((101,1000))\n",
    "    K = np.array(K)\n",
    "    K[0,:] = K_1\n",
    "    for i in range(100):\n",
    "        K[i+1,:] = np.multiply(alpha*0.99, np.multiply(np.exp(Z[i,:]), (K[i,:])**alpha))\n",
    "    \n",
    "    return K"
   ]
  },
  {
   "cell_type": "code",
   "execution_count": 26,
   "metadata": {
    "collapsed": true
   },
   "outputs": [],
   "source": [
    "#Get simulated w\n",
    "def get_simulated_w(alpha, rho, unif_vals, mu, sigma):\n",
    "    Z = get_z(rho, unif_vals, mu, sigma)\n",
    "    K = get_simulated_k(alpha, rho, unif_vals, mu, sigma)\n",
    "    W = np.ones((100,1000))\n",
    "    W = np.array(W)\n",
    "    for i in range(100):\n",
    "        W[i,:] = np.multiply(np.exp(Z[i,:]), (K[i,:])**alpha) * (1-alpha)\n",
    "    #np.multiply((1 - alpha), np.multiply(np.exp(Z[i,:]), (K[i,:])**alpha))\n",
    "    return W"
   ]
  },
  {
   "cell_type": "code",
   "execution_count": 27,
   "metadata": {
    "collapsed": true
   },
   "outputs": [],
   "source": [
    "#Get simulated r\n",
    "def get_simulated_r(alpha, rho, unif_vals, mu, sigma):\n",
    "    Z = get_z(rho, unif_vals, mu, sigma)\n",
    "    K = get_simulated_k(alpha, rho, unif_vals, mu, sigma)\n",
    "    R = np.ones((100,1000))\n",
    "    R = np.array(R)\n",
    "    for i in range(100):\n",
    "        R[i,:] = np.multiply(alpha, np.multiply(np.exp(Z[i,:]), (K[i,:])**(alpha - 1)))\n",
    "    \n",
    "    return R"
   ]
  },
  {
   "cell_type": "code",
   "execution_count": 28,
   "metadata": {
    "collapsed": true
   },
   "outputs": [],
   "source": [
    "#Get simulated c\n",
    "def get_simulated_c(alpha, rho, unif_vals, mu, sigma):\n",
    "    K = get_simulated_k(alpha, rho, unif_vals, mu, sigma)\n",
    "    W = get_simulated_w(alpha, rho, unif_vals, mu, sigma)\n",
    "    R = get_simulated_r(alpha, rho, unif_vals, mu, sigma)\n",
    "    C = np.ones((100,1000))\n",
    "    for i in range(100):\n",
    "        C[i,:] = W[i,:] + np.multiply(R[i,:], K[i,:]) - K[i+1,:]\n",
    "        \n",
    "    return C"
   ]
  },
  {
   "cell_type": "code",
   "execution_count": 29,
   "metadata": {
    "collapsed": true
   },
   "outputs": [],
   "source": [
    "#Get simelated y\n",
    "def get_simulated_y(alpha, rho, unif_vals, mu, sigma):\n",
    "    Z = get_z(rho, unif_vals, mu, sigma)\n",
    "    K = get_simulated_k(alpha, rho, unif_vals, mu, sigma)\n",
    "    Y = np.ones((100,1000))\n",
    "    for i in range(100):\n",
    "        Y[i,:] = np.multiply(np.exp(Z[i,:]), (K[i,:])**alpha)\n",
    "        \n",
    "    return Y"
   ]
  },
  {
   "cell_type": "code",
   "execution_count": 30,
   "metadata": {
    "collapsed": true
   },
   "outputs": [],
   "source": [
    "#Get data moment\n",
    "def model_moments(alpha, rho, unif_vals, mu, sigma):\n",
    "    Z = get_z(rho, unif_vals, mu, sigma)\n",
    "    K = get_simulated_k(alpha, rho, unif_vals, mu, sigma)\n",
    "    W = get_simulated_w(alpha, rho, unif_vals, mu, sigma)\n",
    "    R = get_simulated_r(alpha, rho, unif_vals, mu, sigma)\n",
    "    C = get_simulated_c(alpha, rho, unif_vals, mu, sigma)\n",
    "    Y = get_simulated_y(alpha, rho, unif_vals, mu, sigma)\n",
    "    \n",
    "    #Get the simulated moment for mean(C)\n",
    "    meanC_simu = np.ones(1000)\n",
    "    for i in range(1000):\n",
    "        meanC_simu[i] = C[:,i].mean()\n",
    "        \n",
    "    mmC = meanC_simu.mean()\n",
    "    \n",
    "    #Get the simulated moment for mean(K)\n",
    "    meanK_simu = np.ones(1000)\n",
    "    for i in range(1000):\n",
    "        meanK_simu[i] = K[:100,i].mean()\n",
    "        \n",
    "    mmK = meanK_simu.mean()\n",
    "    \n",
    "    #Get the simulated moment for mean(C/Y)\n",
    "    ConY_simu = np.ones((100,1000))\n",
    "    ConY_simu = np.multiply(C,Y**(-1))\n",
    "    meanConY_simu = np.ones(1000)\n",
    "    for i in range(1000):\n",
    "        meanConY_simu[i] = ConY_simu[:,i].mean()\n",
    "        \n",
    "    mmConY = meanConY_simu.mean()\n",
    "    \n",
    "    #Get the simulated moment for var(Y)\n",
    "    varY_simu = np.ones(1000)\n",
    "    for i in range(1000):\n",
    "        varY_simu[i] = Y[:,i].std()\n",
    "        \n",
    "    mmY = varY_simu.mean()\n",
    "    \n",
    "    #Get the simulated moment for corr(Ct,Ct-1)\n",
    "    corrCC_simu = np.ones(1000)\n",
    "    for i in range(1000):\n",
    "        a = np.ones(99)\n",
    "        b = np.ones(99)\n",
    "        a = C[:99,i]\n",
    "        b = C[1:100,i]\n",
    "        corrCC_simu[i] = sts.pearsonr(a, b)[0]\n",
    "        \n",
    "    mmCC = corrCC_simu.mean()\n",
    "    \n",
    "    \n",
    "    #Get the simulated moment for corr(Kt,Ct)\n",
    "    corrCK_simu = np.ones(1000)\n",
    "    for i in range(1000):\n",
    "        corrCK_simu[i] = sts.pearsonr(C[:,i], K[:100,i])[0]\n",
    "        \n",
    "    mmCK = corrCK_simu.mean()\n",
    "    \n",
    "    \n",
    "    return np.array([mmC,mmK,mmConY,mmY,mmCC,mmCK])"
   ]
  },
  {
   "cell_type": "code",
   "execution_count": 31,
   "metadata": {},
   "outputs": [
    {
     "data": {
      "text/plain": [
       "array([  6.04375675e+06,   3.98991285e+06,   6.04000000e-01,\n",
       "         3.18129684e+06,   9.27704770e-01,   9.16349243e-01])"
      ]
     },
     "execution_count": 31,
     "metadata": {},
     "output_type": "execute_result"
    }
   ],
   "source": [
    "model_moments(0.4, 0.9, unif_vals_1, 10, 0.1)"
   ]
  },
  {
   "cell_type": "code",
   "execution_count": 32,
   "metadata": {
    "collapsed": true
   },
   "outputs": [],
   "source": [
    "#Get the data moment\n",
    "dm_mC = DT_C.mean()\n",
    "dm_mK = DT_K.mean()\n",
    "dm_mCY = np.multiply(DT_C, DT_Y**(-1)).mean()\n",
    "dm_vY = DT_Y.std()\n",
    "dm_CC = sts.pearsonr(DT_C[1:], DT_C[:-1])[0]\n",
    "dm_CK = sts.pearsonr(DT_C, DT_K)[0]"
   ]
  },
  {
   "cell_type": "code",
   "execution_count": 33,
   "metadata": {
    "collapsed": true
   },
   "outputs": [],
   "source": [
    "#Compute the error vector\n",
    "def err_vec(alpha, rho, unif_vals, mu, sigma):\n",
    "    mom_model = model_moments(alpha, rho, unif_vals, mu, sigma)\n",
    "    \n",
    "    mom_data = np.array([dm_mC, dm_mK, dm_mCY, dm_vY, dm_CC, dm_CK])\n",
    "    \n",
    "    err = (mom_model - mom_data) / mom_data\n",
    "    \n",
    "    return err"
   ]
  },
  {
   "cell_type": "code",
   "execution_count": 34,
   "metadata": {},
   "outputs": [
    {
     "data": {
      "text/plain": [
       "array([-0.34885874, -0.39946993,  0.0338925 , -0.40280709, -0.01366678,\n",
       "       -0.02599249])"
      ]
     },
     "execution_count": 34,
     "metadata": {},
     "output_type": "execute_result"
    }
   ],
   "source": [
    "err_vec(0.4, 0.9, unif_vals_1, 10, 0.1)"
   ]
  },
  {
   "cell_type": "code",
   "execution_count": 35,
   "metadata": {
    "collapsed": true
   },
   "outputs": [],
   "source": [
    "#Compute criterion function\n",
    "def crit(params, *args):\n",
    "    alpha, rho, mu, sigma = params\n",
    "    unif_vals, W_hat = args\n",
    "    \n",
    "    err = err_vec(alpha, rho, unif_vals, mu, sigma)\n",
    "    \n",
    "    crit_val = np.dot(np.dot(err.T, W_hat), err)\n",
    "    \n",
    "    return crit_val"
   ]
  },
  {
   "cell_type": "code",
   "execution_count": 36,
   "metadata": {},
   "outputs": [
    {
     "name": "stdout",
     "output_type": "stream",
     "text": [
      " alpha_smm= 0.421015095587  rho_smm= 0.921055757104  mu_smm= 9.92499026117  sigma_smm= 0.0935627523776  err_vec= [  7.18163236e-04  -7.25699947e-04  -1.72020649e-03  -2.73511101e-07\n",
      "   2.98001516e-04  -2.97233448e-04]  crit= 4.17866191398e-06\n"
     ]
    }
   ],
   "source": [
    "alpha_init = 0.4\n",
    "rho_init = 0.9\n",
    "mu_init = 11.5\n",
    "sigma_init = 0.1\n",
    "W_hat = np.eye(6)\n",
    "\n",
    "params_init = np.array([alpha_init, rho_init, mu_init, sigma_init])\n",
    "smm_args = (unif_vals_1, W_hat)\n",
    "results = opt.minimize(crit, params_init, args=(smm_args),\n",
    "                          method='L-BFGS-B',\n",
    "                          bounds=((0.01, 0.99), (-0.99, 0.99), (5, 14), (0.01, 1.1)))\n",
    "\n",
    "alpha_smm, rho_smm, mu_smm, sigma_smm = results.x\n",
    "print (' alpha_smm=', alpha_smm, ' rho_smm=', rho_smm, ' mu_smm=', mu_smm, ' sigma_smm=', sigma_smm, \\\n",
    "      ' err_vec=', err_vec(alpha_smm, rho_smm, unif_vals_1, mu_smm, sigma_smm), ' crit=', \\\n",
    "      np.dot(np.dot(err_vec(alpha_smm, rho_smm, unif_vals_1, mu_smm, sigma_smm).T, W_hat), \\\n",
    "      err_vec(alpha_smm, rho_smm, unif_vals_1, mu_smm, sigma_smm)))"
   ]
  },
  {
   "cell_type": "code",
   "execution_count": null,
   "metadata": {
    "collapsed": true
   },
   "outputs": [],
   "source": []
  }
 ],
 "metadata": {
  "kernelspec": {
   "display_name": "Python 3",
   "language": "python",
   "name": "python3"
  },
  "language_info": {
   "codemirror_mode": {
    "name": "ipython",
    "version": 3
   },
   "file_extension": ".py",
   "mimetype": "text/x-python",
   "name": "python",
   "nbconvert_exporter": "python",
   "pygments_lexer": "ipython3",
   "version": "3.6.3"
  }
 },
 "nbformat": 4,
 "nbformat_minor": 2
}
