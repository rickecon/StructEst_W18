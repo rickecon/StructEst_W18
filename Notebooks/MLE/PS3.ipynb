{
 "cells": [
  {
   "cell_type": "markdown",
   "metadata": {},
   "source": [
    "## Data prep"
   ]
  },
  {
   "cell_type": "code",
   "execution_count": 234,
   "metadata": {},
   "outputs": [],
   "source": [
    "import numpy as np\n",
    "import pandas as pd\n",
    "import scipy.special as spc\n",
    "import scipy.stats as sts\n",
    "\n",
    "macro = np.loadtxt(\n",
    "    'C:/Users/Hrisi/Structural_estimation/StructEst_W18/ProblemSets/PS3/MacroSeries.txt', delimiter=\",\")\n"
   ]
  },
  {
   "cell_type": "markdown",
   "metadata": {},
   "source": [
    "## A. First approach"
   ]
  },
  {
   "cell_type": "code",
   "execution_count": 168,
   "metadata": {},
   "outputs": [],
   "source": [
    "def calculate_errors(x, a,r,m):\n",
    "    k=x[:,1]\n",
    "    w=x[:,2]\n",
    "    z_0=m\n",
    "    z=[]\n",
    "    e=[]\n",
    "    z.append(np.log(w[0]/(k[0]**a * (1-a))))\n",
    "    e.append(z[0]-r*z_0-(1-r)*m)\n",
    "    \n",
    "    for t in range(1, 100):\n",
    "        z.append(np.log(w[t]/(k[t]**a * (1-a))))\n",
    "        e.append(z[t]-r*z[t-1]-(1-r)*m)\n",
    "        \n",
    "    return np.array(e)"
   ]
  },
  {
   "cell_type": "code",
   "execution_count": 178,
   "metadata": {},
   "outputs": [],
   "source": [
    "def norm_pdf(xvals, mu, sigma):\n",
    "    pdf_vals = np.maximum(sts.norm.pdf(xvals, mu, sigma), 1e-10)\n",
    "    #pdf_vals    = np.maximum((1/(sigma * np.sqrt(2 * np.pi)) *\n",
    "    #               np.exp( - (xvals - mu)**2 / (2 * sigma**2))), 1e-10)\n",
    "    return pdf_vals"
   ]
  },
  {
   "cell_type": "code",
   "execution_count": 179,
   "metadata": {
    "collapsed": true
   },
   "outputs": [],
   "source": [
    "def log_lik_norm(x, mu, sigma):\n",
    "    pdf_vals = norm_pdf(x, mu, sigma)\n",
    "    ln_pdf_vals = np.log(pdf_vals)\n",
    "    log_lik_val = ln_pdf_vals.sum()\n",
    "    \n",
    "    return log_lik_val"
   ]
  },
  {
   "cell_type": "code",
   "execution_count": 180,
   "metadata": {},
   "outputs": [],
   "source": [
    "# Define the criterion function for the normal distribution:\n",
    "def crit(params, args):\n",
    "    a, r, m, sigma = params\n",
    "    x = args\n",
    "    e=calculate_errors(x, a, r, m)\n",
    "    log_lik_val = log_lik_norm(e,0,sigma)\n",
    "    neg_log_lik_val = (-log_lik_val)\n",
    "    \n",
    "    return neg_log_lik_val"
   ]
  },
  {
   "cell_type": "code",
   "execution_count": 230,
   "metadata": {},
   "outputs": [
    {
     "name": "stdout",
     "output_type": "stream",
     "text": [
      "a_mle1=  0.49558713399 r_mle1=  0.691257415972 m_mle1=  8.9930388742 sigma_mle1=  0.0920069139467\n"
     ]
    },
    {
     "data": {
      "text/plain": [
       "-96.69516631224387"
      ]
     },
     "execution_count": 230,
     "metadata": {},
     "output_type": "execute_result"
    }
   ],
   "source": [
    "# MLE optimization procedure for the Normal distribution\n",
    "import scipy.optimize as opt\n",
    "\n",
    "#Initial values\n",
    "a_init=0.3\n",
    "r_init=0.9\n",
    "m_init=9\n",
    "sigma_init=0.1\n",
    "# Set arguments of the opt.minimize function\n",
    "bnds = ((1e-10, 1-1e-10), (-0.99999999,0.99999999), (1e-10, None), (1e-10, None))\n",
    "params_init = np.array([a_init, r_init, m_init, sigma_init])\n",
    "mle_args = (macro)\n",
    "\n",
    "# run the optimization procedure\n",
    "results = opt.minimize(crit, params_init, args=(mle_args), bounds=bnds)\n",
    "\n",
    "# report results\n",
    "a_mle1, r_mle1, m_mle1, sigma_mle1 = results.x\n",
    "print(\"a_mle1= \", a_mle1, \"r_mle1= \", r_mle1, \"m_mle1= \", m_mle1, \"sigma_mle1= \", sigma_mle1)\n",
    "crit([a_mle1, r_mle1, m_mle1, sigma_mle1], macro)"
   ]
  },
  {
   "cell_type": "code",
   "execution_count": 221,
   "metadata": {},
   "outputs": [
    {
     "data": {
      "text/plain": [
       "      fun: -82.359568106047405\n",
       " hess_inv: <4x4 LbfgsInvHessProduct with dtype=float64>\n",
       "      jac: array([  65.194466  ,   27.30807722,    3.89916295,  337.86214573])\n",
       "  message: b'CONVERGENCE: REL_REDUCTION_OF_F_<=_FACTR*EPSMCH'\n",
       "     nfev: 40\n",
       "      nit: 3\n",
       "   status: 0\n",
       "  success: True\n",
       "        x: array([  0.42710611,   0.99999999,  10.01078266,   0.13292288])"
      ]
     },
     "execution_count": 221,
     "metadata": {},
     "output_type": "execute_result"
    }
   ],
   "source": [
    "results"
   ]
  },
  {
   "cell_type": "code",
   "execution_count": 184,
   "metadata": {},
   "outputs": [
    {
     "name": "stdout",
     "output_type": "stream",
     "text": [
      "<4x4 LbfgsInvHessProduct with dtype=float64>\n",
      "VCV(MLE) =  [[  7.73667766e+03   6.29145878e+03  -7.27416310e+03   6.72237942e+03]\n",
      " [ -3.46131248e+03  -2.81471575e+03   3.25436671e+03  -3.00752823e+03]\n",
      " [ -1.08571684e+05  -8.82903831e+04   1.02081038e+05  -9.43376604e+04]\n",
      " [ -1.22398970e+02  -9.95353624e+01   1.15082287e+02  -1.06351968e+02]]\n"
     ]
    }
   ],
   "source": [
    "results.hess_inv\n",
    "OffDiagNeg = np.array([[1, -1, -1, -1], [-1, 1,-1,-1], [-1, -1,1,-1], [-1, -1,-1,1]])\n",
    "vcv_mle = results.hess_inv * OffDiagNeg\n",
    "print(results.hess_inv)\n",
    "print('VCV(MLE) = ', vcv_mle)"
   ]
  },
  {
   "cell_type": "markdown",
   "metadata": {},
   "source": [
    "## B. Second approach"
   ]
  },
  {
   "cell_type": "code",
   "execution_count": 217,
   "metadata": {
    "collapsed": true
   },
   "outputs": [],
   "source": [
    "def calculate_errors2(x, a,r,m):\n",
    "    k=x[:,1]\n",
    "    rate=x[:,3]\n",
    "    z_0=m\n",
    "    z=[]\n",
    "    e=[]\n",
    "    z.append(np.log(rate[0]/(k[0]**(a-1)*a)))\n",
    "    e.append(z[0]-r*z_0-(1-r)*m)\n",
    "    \n",
    "    for t in range(1, 100):\n",
    "        z.append(np.log(rate[t]/(k[t]**(a-1)*a)))\n",
    "        e.append(z[t]-r*z[t-1]-(1-r)*m)\n",
    "        \n",
    "    return np.array(e)"
   ]
  },
  {
   "cell_type": "code",
   "execution_count": 209,
   "metadata": {
    "collapsed": true
   },
   "outputs": [],
   "source": [
    "# Define the criterion function for the normal distribution:\n",
    "def crit2(params, args):\n",
    "    a, r, m, sigma = params\n",
    "    x = args\n",
    "    log_lik_val = log_lik_norm(calculate_errors2(x, a, r, m),0,sigma)\n",
    "    neg_log_lik_val = -log_lik_val\n",
    "    \n",
    "    return neg_log_lik_val"
   ]
  },
  {
   "cell_type": "code",
   "execution_count": 215,
   "metadata": {},
   "outputs": [
    {
     "name": "stdout",
     "output_type": "stream",
     "text": [
      "a_mle2=  0.457484632888 r_mle2=  0.72051227185 m_mle2=  9.37086232624 sigma_mle2=  0.0919962303213\n"
     ]
    }
   ],
   "source": [
    "# MLE optimization procedure for the Normal distribution\n",
    "import scipy.optimize as opt\n",
    "\n",
    "#Initial values\n",
    "a_init=0.5\n",
    "r_init=0.7\n",
    "m_init=9\n",
    "sigma_init=0.3\n",
    "\n",
    "# Set arguments of the opt.minimize function\n",
    "bnds = ((1e-10, 1-1e-10), (-1+1e-10,1-1e-10), (1e-10, None), (1e-10, None))\n",
    "params_init = np.array([a_init, r_init, m_init, sigma_init])\n",
    "mle_args = (macro)\n",
    "\n",
    "# run the optimization procedure\n",
    "results2 = opt.minimize(crit2, params_init, args=(mle_args), bounds=bnds)\n",
    "\n",
    "# report results\n",
    "a_mle2, r_mle2, m_mle2, sigma_mle2 = results2.x\n",
    "print(\"a_mle2= \", a_mle2, \"r_mle2= \", r_mle2, \"m_mle2= \", m_mle2, \"sigma_mle2= \", sigma_mle2)"
   ]
  },
  {
   "cell_type": "code",
   "execution_count": 216,
   "metadata": {},
   "outputs": [
    {
     "data": {
      "text/plain": [
       "      fun: -96.706908033083025\n",
       " hess_inv: <4x4 LbfgsInvHessProduct with dtype=float64>\n",
       "      jac: array([ -2.64321898e-04,   2.84217094e-06,  -1.70530257e-05,\n",
       "        -2.13162821e-05])\n",
       "  message: b'CONVERGENCE: REL_REDUCTION_OF_F_<=_FACTR*EPSMCH'\n",
       "     nfev: 205\n",
       "      nit: 25\n",
       "   status: 0\n",
       "  success: True\n",
       "        x: array([ 0.45748463,  0.72051227,  9.37086233,  0.09199623])"
      ]
     },
     "execution_count": 216,
     "metadata": {},
     "output_type": "execute_result"
    }
   ],
   "source": [
    "results2"
   ]
  },
  {
   "cell_type": "code",
   "execution_count": 214,
   "metadata": {},
   "outputs": [
    {
     "name": "stdout",
     "output_type": "stream",
     "text": [
      "<4x4 LbfgsInvHessProduct with dtype=float64>\n",
      "VCV(MLE) =  [[  9.11697713e+03   7.63471992e+03  -8.53899580e+03   8.17677792e+03]\n",
      " [ -5.53643589e+03  -4.63607481e+03   5.18513164e+03  -4.96545338e+03]\n",
      " [ -1.65425071e+05  -1.38529788e+05   1.54937581e+05  -1.48365393e+05]\n",
      " [ -1.77614672e+02  -1.48690162e+02   1.66289765e+02  -1.59290936e+02]]\n"
     ]
    }
   ],
   "source": [
    "results2.hess_inv\n",
    "OffDiagNeg = np.array([[1, -1, -1, -1], [-1, 1,-1,-1], [-1, -1,1,-1], [-1, -1,-1,1]])\n",
    "vcv_mle = results2.hess_inv * OffDiagNeg\n",
    "print(results.hess_inv)\n",
    "print('VCV(MLE) = ', vcv_mle)"
   ]
  },
  {
   "cell_type": "markdown",
   "metadata": {},
   "source": [
    "## C. Inference"
   ]
  },
  {
   "cell_type": "code",
   "execution_count": 141,
   "metadata": {},
   "outputs": [
    {
     "name": "stdout",
     "output_type": "stream",
     "text": [
      "6.68526230928\n"
     ]
    }
   ],
   "source": [
    "k = 7500000\n",
    "z_lag = 10\n",
    "z = np.log(1/(k**(a_mle2-1)*a_mle2))\n",
    "e = z - r_mle2*z_lag + (1-r_mle2)*m_mle2\n",
    "print(e)\n"
   ]
  },
  {
   "cell_type": "code",
   "execution_count": 233,
   "metadata": {},
   "outputs": [
    {
     "data": {
      "text/plain": [
       "1.1525558285541138e-11"
      ]
     },
     "execution_count": 233,
     "metadata": {},
     "output_type": "execute_result"
    }
   ],
   "source": [
    "1-sts.norm.cdf(e,0,1)"
   ]
  },
  {
   "cell_type": "code",
   "execution_count": null,
   "metadata": {
    "collapsed": true
   },
   "outputs": [],
   "source": []
  }
 ],
 "metadata": {
  "kernelspec": {
   "display_name": "Python 3",
   "language": "python",
   "name": "python3"
  },
  "language_info": {
   "codemirror_mode": {
    "name": "ipython",
    "version": 3
   },
   "file_extension": ".py",
   "mimetype": "text/x-python",
   "name": "python",
   "nbconvert_exporter": "python",
   "pygments_lexer": "ipython3",
   "version": "3.6.3"
  }
 },
 "nbformat": 4,
 "nbformat_minor": 2
}
