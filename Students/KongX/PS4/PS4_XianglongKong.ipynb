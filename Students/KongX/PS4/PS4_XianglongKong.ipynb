{
 "cells": [
  {
   "cell_type": "markdown",
   "metadata": {},
   "source": [
    "# Problem 1"
   ]
  },
  {
   "cell_type": "code",
   "execution_count": 1,
   "metadata": {
    "collapsed": true
   },
   "outputs": [],
   "source": [
    "import numpy as np\n",
    "import matplotlib.pyplot as plt\n",
    "import scipy.optimize as opt\n",
    "import scipy.stats as sts\n",
    "\n",
    "inc = np.loadtxt('usincmoms.txt', delimiter = '\\t')"
   ]
  },
  {
   "cell_type": "markdown",
   "metadata": {},
   "source": [
    "## 1(a)"
   ]
  },
  {
   "cell_type": "code",
   "execution_count": 2,
   "metadata": {
    "collapsed": true
   },
   "outputs": [],
   "source": [
    "midpt0 = 2.025e+05\n",
    "midpt = []\n",
    "while midpt0 < 350000:\n",
    "    midpt.append(midpt0)\n",
    "    midpt0 += 5000\n",
    "\n",
    "midpt = np.array(midpt)\n",
    "height = np.append(np.repeat(inc[40,0]/10,10),np.repeat(inc[41,0]/20,20))"
   ]
  },
  {
   "cell_type": "code",
   "execution_count": 3,
   "metadata": {},
   "outputs": [
    {
     "data": {
      "image/png": "[encoded data removed]",
      "text/plain": [
       "<matplotlib.figure.Figure at 0x1138336a0>"
      ]
     },
     "metadata": {},
     "output_type": "display_data"
    }
   ],
   "source": [
    "plt.bar(inc[0:40,1]/1000, inc[0:40,0]/5, width = 5, align = 'center', color = 'b')\n",
    "plt.bar(midpt/1000, height/5, width = 5, align = 'center', color = 'b')\n",
    "plt.show()"
   ]
  },
  {
   "cell_type": "markdown",
   "metadata": {},
   "source": [
    "## 1(b)"
   ]
  },
  {
   "cell_type": "code",
   "execution_count": 4,
   "metadata": {
    "collapsed": true
   },
   "outputs": [],
   "source": [
    "lower = np.append(inc[0:40,1]/1000-2.5, [inc[40,1]/1000-25, inc[41,1]/1000-50])\n",
    "upper = np.append(inc[0:40,1]/1000+2.5, [inc[40,1]/1000+25, inc[41,1]/1000+50])\n",
    "\n",
    "def model_mom(mu,sig):\n",
    "    prob_up = sts.lognorm.cdf(upper, sig, scale = np.exp(mu))\n",
    "    prob_low = sts.lognorm.cdf(lower, sig, scale = np.exp(mu))\n",
    "    return prob_up - prob_low\n",
    "\n",
    "def err_vec(xvals, mu, sig):\n",
    "    mom_data = xvals[:,0]\n",
    "    mom_model = model_mom(mu,sig)\n",
    "    err_vec = mom_data - mom_model\n",
    "    return err_vec\n",
    "\n",
    "def crit(params, *args):\n",
    "    mu, sig = params\n",
    "    xvals, W = args\n",
    "    err = err_vec(xvals, mu, sig)\n",
    "    crit_val = err.T @ W @ err\n",
    "    return crit_val"
   ]
  },
  {
   "cell_type": "code",
   "execution_count": 5,
   "metadata": {},
   "outputs": [
    {
     "name": "stdout",
     "output_type": "stream",
     "text": [
      "      fun: 3.5230053580978087e-05\n",
      " hess_inv: <2x2 LbfgsInvHessProduct with dtype=float64>\n",
      "      jac: array([ -1.98224480e-06,  -2.56828521e-07])\n",
      "  message: b'CONVERGENCE: NORM_OF_PROJECTED_GRADIENT_<=_PGTOL'\n",
      "     nfev: 105\n",
      "      nit: 16\n",
      "   status: 0\n",
      "  success: True\n",
      "        x: array([ 3.95372274,  1.02271787])\n"
     ]
    }
   ],
   "source": [
    "mu_init = np.log(inc.mean())\n",
    "sig_init = np.log(inc.std())\n",
    "params_init = np.array([mu_init, sig_init])\n",
    "W = np.diag(inc[:,0])\n",
    "gmm_args = (inc, W)\n",
    "\n",
    "result = opt.minimize(crit, params_init, args = (gmm_args), method = 'L-BFGS-B', bounds = ((None,None),(1e-10,None)))\n",
    "mu_gmm, sig_gmm = result.x\n",
    "print(result)"
   ]
  },
  {
   "cell_type": "code",
   "execution_count": 6,
   "metadata": {},
   "outputs": [
    {
     "data": {
      "image/png": "[encoded data removed]",
      "text/plain": [
       "<matplotlib.figure.Figure at 0x1170f7630>"
      ]
     },
     "metadata": {},
     "output_type": "display_data"
    }
   ],
   "source": [
    "pts = np.append(inc[0:40,1]/1000, midpt/1000) # np.linspace(0, 350, 500)\n",
    "plt.bar(inc[0:40,1]/1000, inc[0:40,0]/5, width = 5, align = 'center', color = 'b')\n",
    "plt.bar(midpt/1000, height/5, width = 5, align = 'center', color = 'b')\n",
    "plt.plot(pts, sts.lognorm.pdf(pts, sig_gmm, scale = np.exp(mu_gmm)), color = 'r', linewidth = 2, label = 'LN')\n",
    "plt.legend(loc = 'upper right')\n",
    "plt.show()"
   ]
  },
  {
   "cell_type": "markdown",
   "metadata": {},
   "source": [
    "## 1(c)"
   ]
  },
  {
   "cell_type": "code",
   "execution_count": 7,
   "metadata": {
    "collapsed": true
   },
   "outputs": [],
   "source": [
    "def model_mom_ga(alpha,beta):\n",
    "    prob_up = sts.gamma.cdf(upper, alpha, scale = beta)\n",
    "    prob_low = sts.gamma.cdf(lower, alpha, scale = beta)\n",
    "    return prob_up - prob_low\n",
    "\n",
    "def err_vec_ga(xvals, alpha, beta):\n",
    "    mom_data = xvals[:,0]\n",
    "    mom_model = model_mom_ga(alpha,beta)\n",
    "    err_vec = mom_data - mom_model\n",
    "    return err_vec\n",
    "\n",
    "def crit_ga(params, *args):\n",
    "    alpha, beta = params\n",
    "    xvals, W = args\n",
    "    err = err_vec_ga(xvals, alpha, beta)\n",
    "    crit_val = err.T @ W @ err\n",
    "    return crit_val"
   ]
  },
  {
   "cell_type": "code",
   "execution_count": 8,
   "metadata": {},
   "outputs": [
    {
     "name": "stdout",
     "output_type": "stream",
     "text": [
      "      fun: 1.4963451855983452e-05\n",
      " hess_inv: <2x2 LbfgsInvHessProduct with dtype=float64>\n",
      "      jac: array([ -9.70201872e-07,  -1.62875000e-06])\n",
      "  message: b'CONVERGENCE: NORM_OF_PROJECTED_GRADIENT_<=_PGTOL'\n",
      "     nfev: 48\n",
      "      nit: 14\n",
      "   status: 0\n",
      "  success: True\n",
      "        x: array([  1.50443453,  41.14947095])\n"
     ]
    }
   ],
   "source": [
    "alpha_init = 3\n",
    "beta_init = 20\n",
    "params_init_ga = np.array([alpha_init, beta_init])\n",
    "\n",
    "result_ga = opt.minimize(crit_ga, params_init_ga, args = (gmm_args), method = 'L-BFGS-B', bounds = ((1e-10,None),(1e-10,None)))\n",
    "alpha_gmm, beta_gmm = result_ga.x\n",
    "print(result_ga)"
   ]
  },
  {
   "cell_type": "code",
   "execution_count": 9,
   "metadata": {},
   "outputs": [
    {
     "data": {
      "image/png": "[encoded data removed]",
      "text/plain": [
       "<matplotlib.figure.Figure at 0x1173a59e8>"
      ]
     },
     "metadata": {},
     "output_type": "display_data"
    }
   ],
   "source": [
    "plt.bar(inc[0:40,1]/1000, inc[0:40,0]/5, width = 5, align = 'center', color = 'b')\n",
    "plt.bar(midpt/1000, height/5, width = 5, align = 'center', color = 'b')\n",
    "plt.plot(pts, sts.gamma.pdf(pts, alpha_gmm, scale = beta_gmm), color = 'r', linewidth = 2, label = 'GA')\n",
    "plt.legend(loc = 'upper right')\n",
    "plt.show()"
   ]
  },
  {
   "cell_type": "markdown",
   "metadata": {},
   "source": [
    "## 1(d)"
   ]
  },
  {
   "cell_type": "code",
   "execution_count": 10,
   "metadata": {},
   "outputs": [
    {
     "data": {
      "image/png": "[encoded data removed]",
      "text/plain": [
       "<matplotlib.figure.Figure at 0x1174b4e80>"
      ]
     },
     "metadata": {},
     "output_type": "display_data"
    }
   ],
   "source": [
    "plt.bar(inc[0:40,1]/1000, inc[0:40,0]/5, width = 5, align = 'center', color = 'b')\n",
    "plt.bar(midpt/1000, height/5, width = 5, align = 'center', color = 'b')\n",
    "plt.plot(pts, sts.lognorm.pdf(pts, sig_gmm, scale = np.exp(mu_gmm)), color = 'r', label = 'LN', linewidth = 2)\n",
    "plt.plot(pts, sts.gamma.pdf(pts, alpha_gmm, scale = beta_gmm), color = 'y', label = 'GA', linewidth = 2)\n",
    "plt.legend(loc = 'upper right')\n",
    "plt.show()"
   ]
  },
  {
   "cell_type": "markdown",
   "metadata": {},
   "source": [
    "### We could compare the minimized objective of (b) and (c), since they both use the same weight matrix. It shows that Gamma distribution fits better."
   ]
  },
  {
   "cell_type": "code",
   "execution_count": 11,
   "metadata": {},
   "outputs": [
    {
     "name": "stdout",
     "output_type": "stream",
     "text": [
      "Minimized Lognormal Objective = 3.5230053581e-05\n",
      "Minimized Gamma Objective = 1.4963451856e-05\n"
     ]
    }
   ],
   "source": [
    "obj_val_ln = result.fun\n",
    "obj_val_ga = result_ga.fun\n",
    "print('Minimized Lognormal Objective =', obj_val_ln)\n",
    "print('Minimized Gamma Objective =', obj_val_ga)"
   ]
  },
  {
   "cell_type": "markdown",
   "metadata": {},
   "source": [
    "## 1(e)"
   ]
  },
  {
   "cell_type": "code",
   "execution_count": 12,
   "metadata": {},
   "outputs": [
    {
     "name": "stdout",
     "output_type": "stream",
     "text": [
      "      fun: 0.00035229456275127533\n",
      " hess_inv: <2x2 LbfgsInvHessProduct with dtype=float64>\n",
      "      jac: array([  2.27302985e-08,  -1.73472348e-10])\n",
      "  message: b'CONVERGENCE: NORM_OF_PROJECTED_GRADIENT_<=_PGTOL'\n",
      "     nfev: 63\n",
      "      nit: 16\n",
      "   status: 0\n",
      "  success: True\n",
      "        x: array([  1.37654289,  48.06672308])\n",
      "      fun: 41.999999974308444\n",
      " hess_inv: <2x2 LbfgsInvHessProduct with dtype=float64>\n",
      "      jac: array([  1.93978167e-04,  -7.46069873e-05])\n",
      "  message: b'CONVERGENCE: REL_REDUCTION_OF_F_<=_FACTR*EPSMCH'\n",
      "     nfev: 12\n",
      "      nit: 2\n",
      "   status: 0\n",
      "  success: True\n",
      "        x: array([  1.37652321,  48.06672421])\n"
     ]
    }
   ],
   "source": [
    "result_first = opt.minimize(crit_ga, params_init_ga, args = (inc, np.identity(inc.shape[0])), method = 'L-BFGS-B', bounds = ((1e-10,None),(1e-10,None)))\n",
    "alpha_first, beta_first = result_first.x\n",
    "print(result_first)\n",
    "err_vec_first = np.reshape(err_vec_ga(inc, alpha_first, beta_first),(42,1))\n",
    "omega = (err_vec_first @ err_vec_first.T) / inc.shape[0] \n",
    "W_2step = np.linalg.pinv(omega)\n",
    "\n",
    "params_init_2step = np.array([alpha_first, beta_first])\n",
    "result_2step = opt.minimize(crit_ga, params_init_2step, args = (inc, W_2step), method = 'L-BFGS-B', bounds = ((1e-10,None),(1e-10,None)), tol = 1e-10)\n",
    "alpha_2step, beta_2step = result_2step.x\n",
    "print(result_2step)"
   ]
  },
  {
   "cell_type": "code",
   "execution_count": 13,
   "metadata": {},
   "outputs": [
    {
     "data": {
      "image/png": "[encoded data removed]",
      "text/plain": [
       "<matplotlib.figure.Figure at 0x116f7e278>"
      ]
     },
     "metadata": {},
     "output_type": "display_data"
    }
   ],
   "source": [
    "plt.bar(inc[0:40,1]/1000, inc[0:40,0]/5, width = 5, align = 'center', color = 'b')\n",
    "plt.bar(midpt/1000, height/5, width = 5, align = 'center', color = 'b')\n",
    "plt.plot(pts, sts.gamma.pdf(pts, alpha_2step, scale = beta_2step), color = 'y', label = 'GA, 2-step', linewidth = 2)\n",
    "plt.plot(pts, sts.gamma.pdf(pts, alpha_gmm, scale = beta_gmm), color = 'r', label = 'GA', linewidth = 2)\n",
    "plt.legend(loc = 'upper right')\n",
    "plt.show()"
   ]
  },
  {
   "cell_type": "markdown",
   "metadata": {},
   "source": [
    "### We could not compare the results of (c) and (e) based on the minimized criterion value because the weight matrix is different in two cases. Although the estimates change, they do not deviate much from the original results."
   ]
  },
  {
   "cell_type": "markdown",
   "metadata": {},
   "source": [
    "# Problem 2"
   ]
  },
  {
   "cell_type": "code",
   "execution_count": 14,
   "metadata": {
    "collapsed": true
   },
   "outputs": [],
   "source": [
    "bm = np.loadtxt('MacroSeries.txt', delimiter = ',')"
   ]
  },
  {
   "cell_type": "code",
   "execution_count": 15,
   "metadata": {
    "collapsed": true
   },
   "outputs": [],
   "source": [
    "def z_backout(alpha, xvals):\n",
    "    z = np.log(xvals[:,3]/(alpha*xvals[:,1]**(alpha-1)))\n",
    "    return z\n",
    "\n",
    "def data_mom_bm(alpha, beta, rho, mu, xvals):\n",
    "    z = z_backout(alpha, xvals)\n",
    "    z_t = z[1:100]\n",
    "    z_t_1 = z[0:99]\n",
    "    k_t = xvals[:,1][1:100]\n",
    "    c_t = xvals[:,0][1:100]\n",
    "    c_t_1 = xvals[:,0][0:99]\n",
    "    w_t_1 = xvals[:,2][0:99]\n",
    "    mom1 = (z_t - rho*z_t_1 - (1-rho)*mu).mean()\n",
    "    mom2 = ((z_t - rho*z_t_1 - (1-rho)*mu)*z_t).mean()\n",
    "    mom3 = (beta*alpha*np.exp(z_t)*k_t**(alpha-1)*c_t/c_t_1 - 1).mean()\n",
    "    mom4 = ((beta*alpha*np.exp(z_t)*k_t**(alpha-1)*c_t/c_t_1 - 1)*w_t_1).mean()    \n",
    "    return mom1, mom2, mom3, mom4\n",
    "\n",
    "def err_vec_bm(alpha, beta, rho, mu, xvals):\n",
    "    mom1, mom2, mom3, mom4 = data_mom_bm(alpha, beta, rho, mu, xvals)\n",
    "    err_vec = np.array([mom1, mom2, mom3, mom4])\n",
    "    return err_vec.T\n",
    "\n",
    "def crit_bm(params, args):\n",
    "    alpha, beta, rho, mu = params\n",
    "    xvals = args\n",
    "    W = np.eye(4)\n",
    "    err = err_vec_bm(alpha, beta, rho, mu, xvals)\n",
    "    crit_val = err.T @ W @ err\n",
    "    return crit_val"
   ]
  },
  {
   "cell_type": "code",
   "execution_count": 16,
   "metadata": {},
   "outputs": [
    {
     "name": "stdout",
     "output_type": "stream",
     "text": [
      "      fun: 0.0010930774909079565\n",
      " hess_inv: <4x4 LbfgsInvHessProduct with dtype=float64>\n",
      "      jac: array([ -4.86678672e-02,   4.66191998e+05,   3.62744773e-03,\n",
      "        -3.11632582e-03])\n",
      "  message: b'CONVERGENCE: REL_REDUCTION_OF_F_<=_FACTR*EPSMCH'\n",
      "     nfev: 245\n",
      "      nit: 37\n",
      "   status: 0\n",
      "  success: True\n",
      "        x: array([ 0.4525253 ,  0.97404718,  0.96239994,  9.50089856])\n"
     ]
    }
   ],
   "source": [
    "alpha0 = 0.31\n",
    "beta0 = 0.9\n",
    "rho0 = 0.9\n",
    "mu0 = 9.5\n",
    "params0 = np.array([alpha0, beta0, rho0, mu0])\n",
    "bdns = ((1e-10, 1-1e-10),(1e-10, 1-1e-10),(-1+1e-10, 1-1e-10),(1e-10, None))\n",
    "\n",
    "result_bm = opt.minimize(crit_bm, params0, args = bm, method = 'L-BFGS-B', bounds = bdns)\n",
    "alpha_bm, beta_bm, rho_bm, mu_bm = result_bm.x\n",
    "print(result_bm)"
   ]
  },
  {
   "cell_type": "code",
   "execution_count": 17,
   "metadata": {},
   "outputs": [
    {
     "name": "stdout",
     "output_type": "stream",
     "text": [
      "alpha GMM = 0.452525303981\n",
      "beta GMM = 0.974047183607\n",
      "rho GMM = 0.962399940652\n",
      "mu GMM = 9.50089856056\n",
      "minimized criterion function = 0.00109307749091\n"
     ]
    }
   ],
   "source": [
    "print('alpha GMM =', alpha_bm)\n",
    "print('beta GMM =', beta_bm)\n",
    "print('rho GMM =', rho_bm)\n",
    "print('mu GMM =', mu_bm)\n",
    "print('minimized criterion function =', result_bm.fun)"
   ]
  },
  {
   "cell_type": "markdown",
   "metadata": {
    "collapsed": true
   },
   "source": [
    "### After estimating using a wide range of initial values, the one displayed above gives the minimized criterion value."
   ]
  }
 ],
 "metadata": {
  "kernelspec": {
   "display_name": "Python 3",
   "language": "python",
   "name": "python3"
  },
  "language_info": {
   "codemirror_mode": {
    "name": "ipython",
    "version": 3
   },
   "file_extension": ".py",
   "mimetype": "text/x-python",
   "name": "python",
   "nbconvert_exporter": "python",
   "pygments_lexer": "ipython3",
   "version": "3.6.1"
  }
 },
 "nbformat": 4,
 "nbformat_minor": 2
}
