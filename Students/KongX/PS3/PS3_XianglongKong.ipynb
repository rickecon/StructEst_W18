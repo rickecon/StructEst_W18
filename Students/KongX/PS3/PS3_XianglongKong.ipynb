{
 "cells": [
  {
   "cell_type": "code",
   "execution_count": 1,
   "metadata": {
    "collapsed": true
   },
   "outputs": [],
   "source": [
    "import numpy as np\n",
    "import scipy.optimize as opt\n",
    "import scipy.stats as sts\n",
    "import pandas as pd\n",
    "\n",
    "dt = pd.read_csv('MacroSeries.txt', sep = ',', header = None, names = ['c','k','w','r'])"
   ]
  },
  {
   "cell_type": "code",
   "execution_count": 2,
   "metadata": {},
   "outputs": [
    {
     "name": "stdout",
     "output_type": "stream",
     "text": [
      "alpha MLE = 0.457529974922 ; rho MLE = 0.720478914862 ; mu MLE = 9.52252983019 ; sigma MLE = 0.091996603229\n",
      "Inverse Hessian Matrix =\n",
      "[[  7.53348058e+02  -5.44925858e+02  -1.05852485e+04   2.00850197e+01]\n",
      " [ -5.44925858e+02   3.97118761e+02   7.65472161e+03  -1.41553267e+01]\n",
      " [ -1.05852485e+04   7.65472161e+03   1.48734049e+05  -2.82466417e+02]\n",
      " [  2.00850197e+01  -1.41553267e+01  -2.82466417e+02   5.82749219e-01]]\n"
     ]
    }
   ],
   "source": [
    "# 1(a)\n",
    "def z_wk(w,k,a):\n",
    "    z = np.log(w) - np.log(1-a) - a*np.log(k)\n",
    "    return z\n",
    "\n",
    "def z_pdf(z, rho, mu, sig):\n",
    "    zlag = z.shift(1)\n",
    "    zlag[0] = mu\n",
    "    pdf_val = (1/(sig*np.sqrt(2*np.pi)) * np.exp(-(z-rho*zlag-(1-rho)*mu)**2/(2*sig**2)))\n",
    "    return pdf_val\n",
    "\n",
    "def log_lik(z, rho, mu, sig):\n",
    "    pdf_val = z_pdf(z, rho, mu, sig)\n",
    "    log_pdf_val = np.log(pdf_val)\n",
    "    log_lik = log_pdf_val.sum()\n",
    "    return log_lik\n",
    "\n",
    "def crit_wk(params, *args):\n",
    "    a, rho, mu, sig = params\n",
    "    w, k = args\n",
    "    z = z_wk(w, k, a)\n",
    "    neg_log_lik = -log_lik(z, rho, mu, sig)\n",
    "    return neg_log_lik\n",
    "\n",
    "a = 0.3\n",
    "rho = 0.9\n",
    "mu = 10\n",
    "sig = 0.15\n",
    "\n",
    "params_init = np.array([a,rho,mu,sig])\n",
    "mle_args = (dt['w'], dt['k'])\n",
    "params_bound = ((1e-10,1-1e-10), (-1+1e-10, 1-1e-10), (1e-10,None), (1e-10,None))\n",
    "\n",
    "result = opt.minimize(crit_wk, params_init, args = (mle_args), bounds = params_bound, method = 'L-BFGS-B')\n",
    "a_mle, rho_mle, mu_mle, sig_mle = result.x\n",
    "print('alpha MLE =', a_mle, '; rho MLE =', rho_mle, '; mu MLE =', mu_mle, '; sigma MLE =', sig_mle)\n",
    "print('Inverse Hessian Matrix =')\n",
    "print(result.hess_inv*np.identity(4))"
   ]
  },
  {
   "cell_type": "code",
   "execution_count": 3,
   "metadata": {},
   "outputs": [
    {
     "name": "stdout",
     "output_type": "stream",
     "text": [
      "alpha MLE = 0.457527569204 ; rho MLE = 0.720478308403 ; mu MLE = 9.37009368537 ; sigma MLE = 0.0919962490448\n",
      "Inverse Hessian Matrix =\n",
      "[[  7.77074808e+00  -1.92508623e-01  -1.23381164e+02  -3.89116905e-01]\n",
      " [ -1.92508623e-01   3.32190329e-02   3.12986869e+00   7.95943666e-03]\n",
      " [ -1.23381164e+02   3.12986869e+00   1.95923113e+03   6.17304090e+00]\n",
      " [ -3.89116905e-01   7.95943666e-03   6.17304090e+00   1.96469130e-02]]\n"
     ]
    }
   ],
   "source": [
    "# 1(b)\n",
    "def z_rk(r,k,a):\n",
    "    z = np.log(r) - np.log(a) + (1-a)*np.log(k)\n",
    "    return z\n",
    "\n",
    "def crit_rk(params, *args):\n",
    "    a, rho, mu, sig = params\n",
    "    r, k = args\n",
    "    z = z_rk(r, k, a)\n",
    "    neg_log_lik = -log_lik(z, rho, mu, sig)\n",
    "    return neg_log_lik\n",
    "\n",
    "params_init1 = np.array([0.3,0.9,12,0.15])\n",
    "mle_args1 = (dt['r'], dt['k'])\n",
    "\n",
    "result1 = opt.minimize(crit_rk, params_init1, args = (mle_args1), bounds = params_bound, method = 'L-BFGS-B')\n",
    "a_mle1, rho_mle1, mu_mle1, sig_mle1 = result1.x\n",
    "print('alpha MLE =', a_mle1, '; rho MLE =', rho_mle1, '; mu MLE =', mu_mle1, '; sigma MLE =', sig_mle1)\n",
    "print('Inverse Hessian Matrix =')\n",
    "print(result1.hess_inv*np.identity(4))"
   ]
  },
  {
   "cell_type": "code",
   "execution_count": 4,
   "metadata": {},
   "outputs": [
    {
     "name": "stdout",
     "output_type": "stream",
     "text": [
      "z* = 9.36943772838\n",
      "probability = 0.999999967315\n"
     ]
    }
   ],
   "source": [
    "# 1(c)\n",
    "k_t = 7500000\n",
    "z_t_1 = 10\n",
    "r_t = 1\n",
    "\n",
    "zstar = z_rk(r_t, k_t, a_mle)\n",
    "prob = 1 - sts.norm.cdf(zstar, loc=rho_mle*z_t_1+(1-rho_mle)*mu_mle, scale=sig_mle)\n",
    "print('z* =',zstar)\n",
    "print('probability =', prob)"
   ]
  },
  {
   "cell_type": "code",
   "execution_count": null,
   "metadata": {
    "collapsed": true
   },
   "outputs": [],
   "source": []
  }
 ],
 "metadata": {
  "kernelspec": {
   "display_name": "Python 3",
   "language": "python",
   "name": "python3"
  },
  "language_info": {
   "codemirror_mode": {
    "name": "ipython",
    "version": 3
   },
   "file_extension": ".py",
   "mimetype": "text/x-python",
   "name": "python",
   "nbconvert_exporter": "python",
   "pygments_lexer": "ipython3",
   "version": "3.6.1"
  }
 },
 "nbformat": 4,
 "nbformat_minor": 2
}
