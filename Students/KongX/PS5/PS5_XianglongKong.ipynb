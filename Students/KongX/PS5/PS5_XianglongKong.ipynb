{
 "cells": [
  {
   "cell_type": "code",
   "execution_count": 1,
   "metadata": {
    "collapsed": true
   },
   "outputs": [],
   "source": [
    "import numpy as np\n",
    "import matplotlib.pyplot as plt\n",
    "import scipy.stats as sts\n",
    "import scipy.optimize as opt\n",
    "\n",
    "dt = np.loadtxt('NewMacroSeries.txt', delimiter = ',')\n",
    "c_dt, k_dt, w_dt, r_dt, y_dt = dt[:,0], dt[:,1], dt[:,2], dt[:,3], dt[:,4]"
   ]
  },
  {
   "cell_type": "code",
   "execution_count": 2,
   "metadata": {
    "collapsed": true
   },
   "outputs": [],
   "source": [
    "k_1 = k_dt.mean()\n",
    "\n",
    "S = 1000\n",
    "T = 100\n",
    "\n",
    "# Random draw from Uniform(0,1)\n",
    "sim = np.random.uniform(0,1,(T,S))"
   ]
  },
  {
   "cell_type": "code",
   "execution_count": 3,
   "metadata": {
    "collapsed": true
   },
   "outputs": [],
   "source": [
    "# Calculate simulated variables\n",
    "def simulation(alpha, beta, rho, mu, sig, sim):\n",
    "    epsilon = sts.norm.ppf(sim,0,sig)\n",
    "    \n",
    "    z = np.zeros((T,S))\n",
    "    z_t_1 = mu\n",
    "    for i in range(T):\n",
    "        z_t = rho*z_t_1 + (1-rho)*mu + epsilon[i,:]\n",
    "        z[i,:] = z_t\n",
    "        z_t_1 = z_t\n",
    "    \n",
    "    k = np.zeros((T,S))\n",
    "    k_lag = np.zeros((T,S))\n",
    "    k_t_1 = k_1\n",
    "    for i in range(T):\n",
    "        k_t = alpha*beta*np.exp(z[i,:])*k_t_1**alpha\n",
    "        k_lag[i,:] = k_t_1\n",
    "        k[i,:] = k_t\n",
    "        k_t_1 = k_t\n",
    "\n",
    "    w = (1-alpha)*np.exp(z)*k_lag**alpha\n",
    "    r = alpha*np.exp(z)*k_lag**(alpha-1)\n",
    "    c = w + r*k_lag - k\n",
    "    y = np.exp(z)*k_lag**alpha\n",
    "    \n",
    "    return c,k_lag,k,w,r,y"
   ]
  },
  {
   "cell_type": "code",
   "execution_count": 4,
   "metadata": {},
   "outputs": [],
   "source": [
    "# Data moment\n",
    "mom1 = c_dt.mean()\n",
    "mom2 = k_dt.mean()\n",
    "mom3 = (c_dt/y_dt).mean()\n",
    "mom4 = y_dt.std()\n",
    "mom5 = np.corrcoef(c_dt[0:99],c_dt[1:100])[0,1]\n",
    "mom6 = np.corrcoef(c_dt,k_dt)[0,1]\n",
    "data_mom = np.array([mom1,mom2,mom3,mom4,mom5,mom6])\n",
    "\n",
    "# Model moment\n",
    "def model_mom(alpha, beta, rho, mu, sig, sim):\n",
    "    c,k_lag,k,w,r,y = simulation(alpha, beta, rho, mu, sig, sim)\n",
    "    mom1 = c.mean()\n",
    "    mom2 = k.mean()\n",
    "    mom3 = (c/y).mean()\n",
    "    mom4 = np.std(y,axis=0).mean()\n",
    "    corr_c = np.zeros((1,S))\n",
    "    corr_ck = np.zeros((1,S))\n",
    "    \n",
    "    for i in range(S):\n",
    "        corr_c[0,i] = np.corrcoef(c[0:99,i],c[1:100,i])[0,1]\n",
    "        corr_ck[0,i] = np.corrcoef(c[:,i],k_lag[:,i])[0,1]\n",
    "    \n",
    "    mom5 = corr_c.mean()\n",
    "    mom6 = corr_ck.mean()\n",
    "    model_mom = np.array([mom1,mom2,mom3,mom4,mom5,mom6])\n",
    "    return model_mom\n",
    "\n",
    "def err_vec(alpha, beta, rho, mu, sig, sim):\n",
    "    model_mmt = model_mom(alpha, beta, rho, mu, sig, sim)\n",
    "    return (model_mmt - data_mom)/data_mom\n",
    "\n",
    "def crit(params, *args):\n",
    "    alpha, rho, mu, sig = params\n",
    "    beta, sim = args\n",
    "    err = err_vec(alpha, beta, rho, mu, sig, sim)\n",
    "    W = np.eye(6)\n",
    "    return err @ W @ err.T"
   ]
  },
  {
   "cell_type": "code",
   "execution_count": 5,
   "metadata": {},
   "outputs": [
    {
     "name": "stdout",
     "output_type": "stream",
     "text": [
      "      fun: 4.3551441326819306e-06\n",
      " hess_inv: <4x4 LbfgsInvHessProduct with dtype=float64>\n",
      "      jac: array([ -2.15424698e-04,  -2.61760566e-05,  -1.27648738e-05,\n",
      "        -5.67882615e-05])\n",
      "  message: b'CONVERGENCE: REL_REDUCTION_OF_F_<=_FACTR*EPSMCH'\n",
      "     nfev: 195\n",
      "      nit: 32\n",
      "   status: 0\n",
      "  success: True\n",
      "        x: array([ 0.42103804,  0.92392213,  9.92184497,  0.09303466])\n"
     ]
    }
   ],
   "source": [
    "alpha = 0.4\n",
    "beta = 0.99\n",
    "rho = 0.9\n",
    "mu = 10\n",
    "sig = 0.1\n",
    "\n",
    "params_init = np.array([alpha, rho, mu, sig])\n",
    "bnds = ((1e-10,1-1e-10),(-1+1e-10,1-1e-10),(5,14),(1e-10,None))\n",
    "\n",
    "result = opt.minimize(crit, params_init, args = (beta,sim), method = 'L-BFGS-B', bounds = bnds)\n",
    "alpha_smm, rho_smm, mu_smm, sig_smm = result.x\n",
    "print(result)"
   ]
  },
  {
   "cell_type": "code",
   "execution_count": 7,
   "metadata": {},
   "outputs": [
    {
     "name": "stdout",
     "output_type": "stream",
     "text": [
      "alpha SMM =  0.421038037087\n",
      "rho SMM =  0.923922127492\n",
      "mu SMM =  9.92184497471\n",
      "sigma SMM =  0.0930346580621\n"
     ]
    }
   ],
   "source": [
    "print('alpha SMM = ', alpha_smm)\n",
    "print('rho SMM = ', rho_smm)\n",
    "print('mu SMM = ', mu_smm)\n",
    "print('sigma SMM = ', sig_smm)"
   ]
  },
  {
   "cell_type": "code",
   "execution_count": null,
   "metadata": {
    "collapsed": true
   },
   "outputs": [],
   "source": []
  }
 ],
 "metadata": {
  "kernelspec": {
   "display_name": "Python 3",
   "language": "python",
   "name": "python3"
  },
  "language_info": {
   "codemirror_mode": {
    "name": "ipython",
    "version": 3
   },
   "file_extension": ".py",
   "mimetype": "text/x-python",
   "name": "python",
   "nbconvert_exporter": "python",
   "pygments_lexer": "ipython3",
   "version": "3.6.1"
  }
 },
 "nbformat": 4,
 "nbformat_minor": 2
}
