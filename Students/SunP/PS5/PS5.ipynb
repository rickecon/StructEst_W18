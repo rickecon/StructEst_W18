{
 "cells": [
  {
   "cell_type": "code",
   "execution_count": 108,
   "metadata": {},
   "outputs": [
    {
     "name": "stdout",
     "output_type": "stream",
     "text": [
      "[[ 0.27987511  0.29443092  0.84496998 ...,  0.81093766  0.30506747\n",
      "   0.13076803]\n",
      " [ 0.56015995  0.60411242  0.18330272 ...,  0.97751092  0.57659554\n",
      "   0.32733484]\n",
      " [ 0.9358018   0.12847279  0.27209849 ...,  0.40566121  0.62602991\n",
      "   0.33949541]\n",
      " ..., \n",
      " [ 0.86937317  0.41075325  0.21509459 ...,  0.83258206  0.52757456\n",
      "   0.82684081]\n",
      " [ 0.35264298  0.60719805  0.96744723 ...,  0.93353402  0.40030778\n",
      "   0.66057052]\n",
      " [ 0.50256954  0.56226379  0.96342618 ...,  0.49719909  0.00671537\n",
      "   0.24989346]]\n"
     ]
    }
   ],
   "source": [
    "import numpy as np\n",
    "import matplotlib.pyplot as plt\n",
    "import scipy.stats as sts\n",
    "import scipy.optimize as opt\n",
    "\n",
    "pts = np.loadtxt('NewMacroSeries.txt', delimiter =',')\n",
    "c, k, w, r, y = pts[:,0], pts[:,1], pts[:,2], pts[:,3], pts[:,4]\n",
    "\n",
    "S = 1000\n",
    "T = 100\n",
    "k_mean = k.mean()\n",
    "sim = np.random.uniform(0,1,(T,S))\n",
    "print (sim)"
   ]
  },
  {
   "cell_type": "code",
   "execution_count": 109,
   "metadata": {
    "collapsed": true
   },
   "outputs": [],
   "source": [
    "def simulation(alpha, beta, rho, mu, sig, sim):\n",
    "    epsilon = sts.norm.ppf(sim, 0, sig)\n",
    "    z = np.zeros((T,S))\n",
    "    z_t_1 = mu\n",
    "    for i in range(T):\n",
    "        z_t = rho*z_t_1 + (1-rho)*mu + epsilon[i,:] \n",
    "        z[i,:] = z_t\n",
    "        z_t_1 = z_t\n",
    "            \n",
    "    k = np.zeros((T,S))\n",
    "    k_1 = np.zeros((T,S))\n",
    "    k_t_1 = k_mean\n",
    "    for i in range(T):\n",
    "        k_t = alpha*beta*np.exp(z[i,:])*k_t_1**alpha\n",
    "        k_1[i,:] = k_t_1\n",
    "        k[i,:] = k_t\n",
    "        k_t_1 = k_t\n",
    "    \n",
    "    w = (1-alpha)*np.exp(z)*k_1**alpha\n",
    "    r = alpha*np.exp(z)*k_1**(alpha-1)\n",
    "    c = w + r*k_1 - k \n",
    "    y = np.exp(z)*k_1**alpha\n",
    "    \n",
    "    return c, k_1, k, w, r, y"
   ]
  },
  {
   "cell_type": "code",
   "execution_count": 110,
   "metadata": {
    "collapsed": true
   },
   "outputs": [],
   "source": [
    "#Data moments\n",
    "moment1 = c.mean()\n",
    "moment2 = k.mean()\n",
    "moment3 = (c/y).mean()\n",
    "moment4 = y.std()\n",
    "moment5 = np.corrcoef(c[0:99], c[1:100])[0,1]\n",
    "moment6 = np.corrcoef(c, k)[0,1]\n",
    "data_moments = np.array([moment1, moment2, moment3, moment4, moment5, moment6])\n",
    "\n",
    "#Model moments\n",
    "def model_moments(alpha, beta, rho, mu, sig, sim):\n",
    "        c,k_1,k,w,r,y = simulation(alpha, beta, rho, mu, sig, sim)\n",
    "        moment1 = c.mean()\n",
    "        moment2 = k.mean()\n",
    "        moment3 = (c/y).mean()\n",
    "        moment4 = np.std(y,axis=0).mean()\n",
    "        corr_c = np.zeros((1,S))\n",
    "        corr_ck = np.zeros((1,S))\n",
    "        \n",
    "        for i in range(S):\n",
    "            corr_c[0,i] = np.corrcoef(c[0:99,i],c[1:100,i])[0,1]\n",
    "            corr_ck[0,i] = np.corrcoef(c[:,i],k_1[:,i])[0,1]\n",
    "            \n",
    "        moment5 = corr_c.mean()\n",
    "        moment6 = corr_ck.mean()\n",
    "        model_moments = np.array([moment1,moment2, moment3, moment4, moment5, moment6])\n",
    "        return model_moments\n",
    "    \n",
    "def err_vec(alpha, beta, rho, mu, sig, sim):\n",
    "    model_mmt = model_moments(alpha, beta, rho, mu, sig, sim)\n",
    "    err_vec = (model_mmt - data_moments) / data_moments\n",
    "    return err_vec\n",
    "\n",
    "def criterion(params, *args):\n",
    "    alpha, rho, mu, sig = params\n",
    "    beta, sim = args\n",
    "    err = err_vec(alpha, beta, rho, mu, sig, sim)\n",
    "    W = np.eye(6)\n",
    "    criterion = err @ W @ err.T\n",
    "    return criterion"
   ]
  },
  {
   "cell_type": "code",
   "execution_count": 112,
   "metadata": {},
   "outputs": [
    {
     "name": "stdout",
     "output_type": "stream",
     "text": [
      "      fun: 4.3775638550740248e-06\n",
      " hess_inv: <4x4 LbfgsInvHessProduct with dtype=float64>\n",
      "      jac: array([ -5.58401481e-05,  -1.12907462e-05,  -2.28105329e-06,\n",
      "        -2.43860247e-05])\n",
      "  message: b'CONVERGENCE: REL_REDUCTION_OF_F_<=_FACTR*EPSMCH'\n",
      "     nfev: 515\n",
      "      nit: 71\n",
      "   status: 0\n",
      "  success: True\n",
      "        x: array([ 0.42103712,  0.92116011,  9.91870435,  0.09362076])\n",
      "alpha_smm= 0.421037118161 rho_smm= 0.92116011107 mu_smm= 9.91870434861 sig_smm= 0.0936207566999\n"
     ]
    }
   ],
   "source": [
    "alpha = 0.2\n",
    "beta = 0.99\n",
    "rho = 0.8\n",
    "mu = 9\n",
    "sig = 0.9\n",
    "\n",
    "params_init = np.array([alpha, rho, mu, sig])\n",
    "bnds = ((1e-10, 1-1e-10),(-1+1e-10, 1-1e-10),(5,14),(1e-10,None))\n",
    "result = opt.minimize(criterion, params_init, args = (beta,sim), method = 'L-BFGS-B', bounds = bnds)\n",
    "alpha_smm, rho_smm, mu_smm, sig_smm = result.x\n",
    "\n",
    "print(result)\n",
    "print('alpha_smm=',alpha_smm,'rho_smm=', rho_smm,'mu_smm=', mu_smm,'sig_smm=', sig_smm)"
   ]
  },
  {
   "cell_type": "code",
   "execution_count": 102,
   "metadata": {
    "collapsed": true
   },
   "outputs": [],
   "source": []
  },
  {
   "cell_type": "code",
   "execution_count": null,
   "metadata": {},
   "outputs": [],
   "source": []
  },
  {
   "cell_type": "code",
   "execution_count": null,
   "metadata": {
    "collapsed": true
   },
   "outputs": [],
   "source": []
  },
  {
   "cell_type": "code",
   "execution_count": null,
   "metadata": {
    "collapsed": true
   },
   "outputs": [],
   "source": []
  }
 ],
 "metadata": {
  "kernelspec": {
   "display_name": "Python 3",
   "language": "python",
   "name": "python3"
  },
  "language_info": {
   "codemirror_mode": {
    "name": "ipython",
    "version": 3
   },
   "file_extension": ".py",
   "mimetype": "text/x-python",
   "name": "python",
   "nbconvert_exporter": "python",
   "pygments_lexer": "ipython3",
   "version": "3.6.3"
  }
 },
 "nbformat": 4,
 "nbformat_minor": 2
}
