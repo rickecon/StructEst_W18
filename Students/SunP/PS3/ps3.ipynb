{
 "cells": [
  {
   "cell_type": "code",
   "execution_count": 38,
   "metadata": {},
   "outputs": [
    {
     "name": "stdout",
     "output_type": "stream",
     "text": [
      "alpha_wk_MLE = 0.457520192833 rho_wk_MLE = 0.720486276524 mu_wk_MLE = 9.52266588754  sigma_wk_MLE = 0.0919961742613\n",
      "Maximized-log-likelihood_wk:  96.7069080745\n",
      "Hessian Matrix_wk = \n",
      "[[  3.88761660e-01   2.49851258e-02  -5.57999213e+00   3.30265272e-02]\n",
      " [  2.49851258e-02   1.62412719e-02  -3.32258593e-01  -5.88608171e-03]\n",
      " [ -5.57999213e+00  -3.32258593e-01   8.01760444e+01  -5.00435661e-01]\n",
      " [  3.30265272e-02  -5.88608171e-03  -5.00435661e-01   1.11373660e-02]]\n"
     ]
    }
   ],
   "source": [
    "#(a)Maximum likelihood estimate and Inverse Hessian variance-covariance matrix\n",
    "import numpy as np\n",
    "import math\n",
    "import scipy.optimize as opt\n",
    "from scipy.stats import norm\n",
    "\n",
    "c, k, w, r = np.loadtxt('MacroSeries.txt', delimiter=',', unpack=True)\n",
    "\n",
    "def z_wk(w, k, alpha):\n",
    "    z = np.log(w)-np.log(1-alpha)-alpha*np.log(k)\n",
    "    return z\n",
    "\n",
    "def normal_pdf(xvals, rho, mu, sigma):\n",
    "    yvals = np.append(mu, xvals[0:99])\n",
    "    mu_n = rho*yvals+(1-rho)*mu\n",
    "    pdf_vals = np.exp(-(xvals-mu_n)**2/(2*sigma**2))/math.sqrt(2*math.pi*sigma**2)\n",
    "    return pdf_vals\n",
    "\n",
    "def log_lik_normal(xvals, rho, mu, sigma):\n",
    "    pdf_vals = normal_pdf(xvals, rho, mu, sigma)\n",
    "    ln_pdf_vals = np.log(pdf_vals)\n",
    "    log_lik_val = ln_pdf_vals.sum()\n",
    "    return log_lik_val\n",
    "\n",
    "def crit_normal_wk(params, *args):\n",
    "    alpha, rho, mu, sigma = params\n",
    "    w, k = args\n",
    "    xvals = z_wk(w, k, alpha)\n",
    "    log_lik_val = log_lik_normal(xvals, rho, mu, sigma)\n",
    "    neg_log_lik_val = -log_lik_val\n",
    "    return neg_log_lik_val\n",
    "\n",
    "\n",
    "alpha_wk = 0.3\n",
    "rho_wk = 0.9\n",
    "mu_wk = 12\n",
    "sigma_wk = 0.10\n",
    "\n",
    "params_wk = np.array([alpha_wk, rho_wk, mu_wk, sigma_wk])\n",
    "mle_args_wk = (w, k)\n",
    "results_wk = opt.minimize(crit_normal_wk, params_wk, args=(mle_args_wk), method = 'L-BFGS-B', bounds=((1e-10,1-1e-10),(-1+1e-10,1-1e-10),(1e-10, None),(1e-10, None)))\n",
    "alpha_wk_MLE, rho_wk_MLE, mu_wk_MLE, sigma_wk_MLE = results_wk.x\n",
    "\n",
    "print('alpha_wk_MLE =', alpha_wk_MLE, 'rho_wk_MLE =', rho_wk_MLE, 'mu_wk_MLE =', mu_wk_MLE, ' sigma_wk_MLE =', sigma_wk_MLE)\n",
    "print('Maximized-log-likelihood_wk: ', log_lik_normal(z_wk(w,k,alpha_wk_MLE), rho_wk_MLE, mu_wk_MLE, sigma_wk_MLE))\n",
    "print(\"Hessian Matrix_wk = \")\n",
    "print(results_wk.hess_inv*np.identity(4))"
   ]
  },
  {
   "cell_type": "code",
   "execution_count": 39,
   "metadata": {},
   "outputs": [
    {
     "name": "stdout",
     "output_type": "stream",
     "text": [
      "alpha_rk_MLE = 0.45744959632 rho_rk_MLE = 0.720523735243 mu_rk_MLE = 9.37149072605  sigma_rk_MLE = 0.0919973897798\n",
      "Maximized-log-likelihood_rk:  96.7069079284\n",
      "Hessian Matrix_rk = \n",
      "[[  5.74074867e+01  -1.02737738e+00  -1.02903560e+03  -1.32021523e+00]\n",
      " [ -1.02737738e+00   5.20253261e+00   1.86854351e+01   2.23042066e-01]\n",
      " [ -1.02903560e+03   1.86854351e+01   1.84455932e+04   2.36752344e+01]\n",
      " [ -1.32021523e+00   2.23042066e-01   2.36752344e+01   3.82243711e-02]]\n"
     ]
    }
   ],
   "source": [
    "#(b)Maximum likelihood estimate and Inverse Hessian variance-covariance matrix\n",
    "def z_rk(r, k, alpha):\n",
    "    z = np.log(r/(alpha*k**(alpha-1)))\n",
    "    return z\n",
    "\n",
    "def crit_normal_rk(params, *args):\n",
    "    alpha, rho, mu, sigma = params\n",
    "    r, k = args\n",
    "    xvals = z_rk(r, k, alpha)\n",
    "    log_lik_val = log_lik_normal(xvals, rho, mu, sigma)\n",
    "    neg_log_lik_val = -log_lik_val\n",
    "    return neg_log_lik_val\n",
    "\n",
    "\n",
    "alpha_rk = 0.3\n",
    "rho_rk = 0.9\n",
    "mu_rk = 12\n",
    "sigma_rk = 0.10\n",
    "\n",
    "params_rk = np.array([alpha_rk, rho_rk, mu_rk, sigma_rk])\n",
    "mle_args_rk = (r, k)\n",
    "results_rk = opt.minimize(crit_normal_rk, params_rk, args=(mle_args_rk), method = 'L-BFGS-B', bounds=((1e-10,1-1e-10),(-1+1e-10,1-1e-10),(1e-10, None),(1e-10, None)))\n",
    "alpha_rk_MLE, rho_rk_MLE, mu_rk_MLE, sigma_rk_MLE = results_rk.x\n",
    "\n",
    "print('alpha_rk_MLE =', alpha_rk_MLE, 'rho_rk_MLE =', rho_rk_MLE, 'mu_rk_MLE =', mu_rk_MLE, ' sigma_rk_MLE =', sigma_rk_MLE)\n",
    "print('Maximized-log-likelihood_rk: ', log_lik_normal(z_rk(r,k,alpha_rk_MLE), rho_rk_MLE, mu_rk_MLE, sigma_rk_MLE))\n",
    "print(\"Hessian Matrix_rk = \")\n",
    "print(results_rk.hess_inv*np.identity(4))"
   ]
  },
  {
   "cell_type": "code",
   "execution_count": 40,
   "metadata": {},
   "outputs": [
    {
     "name": "stdout",
     "output_type": "stream",
     "text": [
      "z_opt= 9.36961396335\n",
      "probility= 0.999999967052\n"
     ]
    }
   ],
   "source": [
    "#(c)Calculate the probability\n",
    "k = 7500000\n",
    "z_t_1 = 10\n",
    "alpha = alpha_wk_MLE\n",
    "z_opt = np.log(1/(alpha*k**(alpha-1)))\n",
    "prob = 1 - norm.cdf(z_opt, rho_wk_MLE*z_t_1+(1-rho_wk_MLE)*mu_wk_MLE, sigma_wk_MLE)\n",
    "print('z_opt=', z_opt)\n",
    "print('probility=',prob)"
   ]
  },
  {
   "cell_type": "code",
   "execution_count": null,
   "metadata": {
    "collapsed": true
   },
   "outputs": [],
   "source": []
  },
  {
   "cell_type": "code",
   "execution_count": null,
   "metadata": {
    "collapsed": true
   },
   "outputs": [],
   "source": []
  }
 ],
 "metadata": {
  "kernelspec": {
   "display_name": "Python 3",
   "language": "python",
   "name": "python3"
  },
  "language_info": {
   "codemirror_mode": {
    "name": "ipython",
    "version": 3
   },
   "file_extension": ".py",
   "mimetype": "text/x-python",
   "name": "python",
   "nbconvert_exporter": "python",
   "pygments_lexer": "ipython3",
   "version": "3.6.3"
  }
 },
 "nbformat": 4,
 "nbformat_minor": 2
}
