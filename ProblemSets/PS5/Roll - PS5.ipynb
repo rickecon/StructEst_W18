{
 "cells": [
  {
   "cell_type": "markdown",
   "metadata": {},
   "source": [
    "Julio B. Roll - PS5\n",
    "\n",
    "Brock and Mirman model with SMM."
   ]
  },
  {
   "cell_type": "markdown",
   "metadata": {},
   "source": [
    "## 1) Brock and Mirman"
   ]
  },
  {
   "cell_type": "markdown",
   "metadata": {},
   "source": [
    "Brock and Mirman Model:\n",
    "\n",
    "$$ (c_t)^{-1} - \\beta E[r_{t+1}(c_{t+1})^{-1}] = 0 \\tag{1} $$ <br>\n",
    "$$ c_t + k_{t+1} - \\omega_t - r_tk_t = 0 \\tag{2} $$ <br>\n",
    "$$ \\omega_t - (1 - \\alpha)e^{z_t}(k_t)^\\alpha = 0 \\tag{3} $$ <br>\n",
    "$$ r_t - \\alpha e^{z_t}(k_t)^{\\alpha - 1} = 0 \\tag{4} $$ <br>\n",
    "$$ z_t = \\rho z_{t-1} + (1 - \\rho)\\mu + \\epsilon_t \\tag{5} $$ <br>\n",
    "$$ y_t = e^{z_{t}} k_t^{\\alpha} \\tag{6} $$ <br>\n",
    "$$ \\text{where}\\: \\epsilon_t \\sim \\mathrm{N}(0, \\sigma^2)\\: \\text{and}\\: \\alpha,\\beta \\in (0,1), \\: \\mu, \\sigma > 0, \\: \\rho \\in (-1,1) $$\n",
    "\n",
    "Optimal savings: $$k_{t+1} = \\alpha\\beta e^{z_{t}} k_t^{\\alpha} \\tag{7}$$"
   ]
  },
  {
   "cell_type": "code",
   "execution_count": 1,
   "metadata": {
    "collapsed": true
   },
   "outputs": [],
   "source": [
    "# importing our data series\n",
    "import numpy as np\n",
    "import scipy.stats as sts\n",
    "import matplotlib.pyplot as plt\n",
    "import scipy.optimize as opt\n",
    "import scipy.special as spc\n",
    "import scipy.integrate as intgr\n",
    "import numpy.linalg as lin\n",
    "import distribs\n",
    "%matplotlib notebook\n",
    "\n",
    "macro_data = np.loadtxt('NewMacroSeries.txt', delimiter = ',')\n",
    "c_t = macro_data[:,0]\n",
    "k_t = macro_data[:,1]\n",
    "omega_t = macro_data[:,2]\n",
    "r_t = macro_data[:,3]\n",
    "y_t = macro_data[:,4]"
   ]
  },
  {
   "cell_type": "markdown",
   "metadata": {},
   "source": [
    "### Question a)"
   ]
  },
  {
   "cell_type": "markdown",
   "metadata": {},
   "source": [
    "The idea is to simulate the BM model using SMM.\n",
    "\n",
    "Let's define some functions to help us (NB: due to notation, $z_t$ starts at t = 0, the others at t = 1, I'm fixing this by deleting the virtual values in $z_t$ and $k_t$):"
   ]
  },
  {
   "cell_type": "code",
   "execution_count": 2,
   "metadata": {
    "collapsed": true
   },
   "outputs": [],
   "source": [
    "def generator(alpha, beta, rho, mu, sigma, eps_t, T, S):\n",
    "    '''\n",
    "    --------------------------------------------------------------------\n",
    "    This function simulates the series for given parameters.\n",
    "    --------------------------------------------------------------------\n",
    "    INPUTS:\n",
    "    alpha     = scalar, 0 < alpha < 1\n",
    "    beta      = scalar, 0 < beta < 1\n",
    "    rho       = scalar, -1 < rho < 1\n",
    "    mu        = scalar > 0\n",
    "    sigma     = scalar > 0        \n",
    "    eps_t     = (T, S) matrix, vector of normally distributed errors\n",
    "    T         = scalar > 0, # periods\n",
    "    S         = scalar > 0, # simulations\n",
    "    \n",
    "    OTHER FUNCTIONS AND FILES CALLED BY THIS FUNCTION: None\n",
    "    \n",
    "    OBJECTS CREATED WITHIN FUNCTION:\n",
    "    z_t       = (T, S) matrix, simulated TFP\n",
    "    k_sim_t   = (T, S) matrix, simulated capital\n",
    "    w_sim_t   = (T, S) matrix, simulated wages\n",
    "    r_sim_t   = (T, S) matrix, simulated interest rates\n",
    "    c_sim_t   = (T, S) matrix, simulated consumption\n",
    "    y_sim_t   = (T, S) matrix, simulated output\n",
    "    \n",
    "    FILES CREATED BY THIS FUNCTION: None\n",
    "    \n",
    "    RETURNS: z_t, k_sim_t, w_sim_t, r_sim_t, c_sim_t, y_sim_t\n",
    "    '''\n",
    "    z_t = np.empty([T+1,S])\n",
    "    z_t[0, :] = mu\n",
    "    k_sim_t = np.empty([T+1,S])\n",
    "    k_sim_t[0, :] = np.mean(k_t)\n",
    "    \n",
    "    for i in range(T):\n",
    "        z_t[i+1,:] = rho * z_t[i,:] + (1 - rho) * mu + eps_t[i,:]\n",
    "        k_sim_t[i+1,:] = alpha * beta * np.exp(z_t[i+1,:]) * k_sim_t[i,:] ** alpha\n",
    "\n",
    "    z_t = np.delete(z_t, (0), axis=0)\n",
    "    k_sim_t = np.delete(k_sim_t, (T), axis=0)\n",
    "    w_sim_t = (1 - alpha) * np.exp(z_t) * k_sim_t ** alpha\n",
    "    r_sim_t = alpha * np.exp(z_t) * k_sim_t ** (alpha - 1)\n",
    "    c_sim_t = w_sim_t + r_sim_t * k_sim_t - k_sim_t\n",
    "    y_sim_t = np.exp(z_t) * k_sim_t ** alpha\n",
    "            \n",
    "    return z_t, k_sim_t, w_sim_t, r_sim_t, c_sim_t, y_sim_t"
   ]
  },
  {
   "cell_type": "markdown",
   "metadata": {},
   "source": [
    "Regarding our moments:"
   ]
  },
  {
   "cell_type": "code",
   "execution_count": 3,
   "metadata": {
    "collapsed": true
   },
   "outputs": [],
   "source": [
    "def vcorrcoef(x,y):\n",
    "    '''\n",
    "    --------------------------------------------------------------------\n",
    "    This function computes the correlation coeficient between each column\n",
    "    of two matrices x and y. The numpy fct doesn't have an \"axis\" option,\n",
    "    so we have to do it manually.\n",
    "    --------------------------------------------------------------------\n",
    "    RETURNS: r\n",
    "    '''\n",
    "    xm = np.mean(x, axis=0)\n",
    "    ym = np.mean(y, axis=0)\n",
    "    r_num = np.sum((x - xm) * (y - ym), axis=0)\n",
    "    r_den = np.sqrt(np.sum((x - xm)**2, axis=0) * np.sum((y - ym)**2, axis=0))\n",
    "    r = r_num/r_den\n",
    "    return r"
   ]
  },
  {
   "cell_type": "code",
   "execution_count": 4,
   "metadata": {
    "collapsed": true
   },
   "outputs": [],
   "source": [
    "def data_moments(c_t, k_t, y_t):\n",
    "    '''\n",
    "    --------------------------------------------------------------------\n",
    "    This function computes the six data moments for SMM\n",
    "    (mean(c_t), mean(k_t), mean(c_t/y_t), var(y_t), corr(c_t, c_t-1), \n",
    "    corr(c_t, k_t)) from both the actual data and from the simulated data.\n",
    "    --------------------------------------------------------------------\n",
    "    INPUTS:\n",
    "    c_t   = (N, S) matrix, (N,) or vector, consumption, either real world or \n",
    "            simulated. Real world data will come in the form (N,).\n",
    "            Simulated data comes in the form (N,) or (N, S). \n",
    "    k_t   = (N, S) matrix, (N,) or vector, capital, either real world or \n",
    "            simulated. Real world data will come in the form (N,).\n",
    "            Simulated data comes in the form (N,) or (N, S). \n",
    "    y_t   = (N, S) matrix, (N,) or vector, output, either real world or \n",
    "            simulated. Real world data will come in the form (N,).\n",
    "            Simulated data comes in the form (N,) or (N, S).         \n",
    "    \n",
    "    OTHER FUNCTIONS AND FILES CALLED BY THIS FUNCTION: None\n",
    "    \n",
    "    OBJECTS CREATED WITHIN FUNCTION:\n",
    "    mean_ct   = scalar or (S,) vector, mean value of c_t\n",
    "    mean_kt   = scalar or (S,) vector, mean value of k_t\n",
    "    mean_ctyt = scalar or (S,) vector, mean value of c_t/y_t\n",
    "    var_yt    = scalar > 0 or (S,) vector, variance of y_t\n",
    "    corr_ctct = scalar in (-1,1) or (S,) vector, corr of c_t, c_t-1\n",
    "    corr_ctkt = scalar in (-1,1) or (S,) vector, corr of c_t, k_t\n",
    "    \n",
    "    FILES CREATED BY THIS FUNCTION: None\n",
    "    \n",
    "    RETURNS: mean_ct, mean_kt, mean_ctyt, var_yt, corr_ctct, corr_ctkt\n",
    "    --------------------------------------------------------------------\n",
    "    '''\n",
    "    if len(np.array(c_t).shape) == 1:\n",
    "        mean_ct = np.mean(c_t)\n",
    "        mean_kt = np.mean(k_t)\n",
    "        mean_ctyt = np.mean(c_t / y_t)\n",
    "        var_yt = np.var(y_t)\n",
    "        corr_ctct =  np.corrcoef(np.array([c_t[0:len(c_t)-1], c_t[1:len(c_t)]]))[0,1]\n",
    "        corr_ctkt = np.corrcoef(c_t, k_t)[0,1]\n",
    "        \n",
    "    elif len(np.array(c_t).shape) == 2:\n",
    "        mean_ct = np.mean(c_t, axis = 0)\n",
    "        mean_kt = np.mean(k_t, axis = 0)\n",
    "        mean_ctyt = np.mean(np.array(c_t) / np.array(y_t), axis = 0)\n",
    "        var_yt = np.var(y_t, axis = 0)\n",
    "        corr_ctct =  vcorrcoef(c_t[0:len(c_t)-1], c_t[1:len(c_t)])\n",
    "        corr_ctkt = vcorrcoef(c_t, k_t)\n",
    "    \n",
    "    return mean_ct, mean_kt, mean_ctyt, var_yt, corr_ctct, corr_ctkt"
   ]
  },
  {
   "cell_type": "markdown",
   "metadata": {},
   "source": [
    "Let's also define our usual minimization functions:"
   ]
  },
  {
   "cell_type": "code",
   "execution_count": 20,
   "metadata": {
    "collapsed": true
   },
   "outputs": [],
   "source": [
    "def err_vec(k_t, c_t, y_t, k_sim_t, c_sim_t, y_sim_t, simple):\n",
    "    '''\n",
    "    --------------------------------------------------------------------\n",
    "    This function computes the vector of moment errors (in percent\n",
    "    deviation from the data moment vector) for SMM.\n",
    "    --------------------------------------------------------------------\n",
    "    INPUTS:\n",
    "    c_t | c_sim_t   = (N, S) matrix, (N,) or vector, consumption, either real world or \n",
    "                      simulated. Real world data will come in the form (N,).\n",
    "                      Simulated data comes in the form (N,) or (N, S). \n",
    "    k_t | k_sim_t   = (N, S) matrix, (N,) or vector, capital, either real world or \n",
    "                      simulated. Real world data will come in the form (N,).\n",
    "                      Simulated data comes in the form (N,) or (N, S). \n",
    "    y_t | y_sim_t   = (N, S) matrix, (N,) or vector, output, either real world or \n",
    "                      simulated. Real world data will come in the form (N,).\n",
    "                      Simulated data comes in the form (N,) or (N, S). \n",
    "    simple          = boolean, =True if errors are simple difference, =False\n",
    "                      if errors are percent deviation from data moments\n",
    "    \n",
    "    OTHER FUNCTIONS AND FILES CALLED BY THIS FUNCTION:\n",
    "        data_moments()\n",
    "        \n",
    "    OBJECTS CREATED WITHIN FUNCTION:\n",
    "    mean_ct_data   = scalar or (S,) vector, mean value of c_t\n",
    "    mean_kt_data   = scalar or (S,) vector, mean value of k_t\n",
    "    mean_ctyt_data = scalar or (S,) vector, mean value of c_t/y_t\n",
    "    var_yt_data    = scalar > 0 or (S,) vector, variance of y_t\n",
    "    corr_ctct_data = scalar in (-1,1) or (S,) vector, corr of c_t, c_t-1\n",
    "    corr_ctkt_data = scalar in (-1,1) or (S,) vector, corr of c_t, k_t\n",
    "    moms_data      = (6, 1) matrix, column vector of six data moments\n",
    "    mean_ct_sim    = scalar or (S,) vector, mean value of c_t\n",
    "    mean_kt_sim    = scalar or (S,) vector, mean value of k_t\n",
    "    mean_ctyt_sim  = scalar or (S,) vector, mean value of c_t/y_t\n",
    "    var_yt_sim     = scalar > 0 or (S,) vector, variance of y_t\n",
    "    corr_ctct_sim  = scalar in (-1,1) or (S,) vector, corr of c_t, c_t-1\n",
    "    corr_ctkt_sim  = scalar in (-1,1) or (S,) vector, corr of c_t, k_t\n",
    "    moms_model     = (6, 1) matrix, column vector of six model moments\n",
    "    err_vec        = (6, 1) matrix, column vector of six moment error\n",
    "                     functions\n",
    "    \n",
    "    FILES CREATED BY THIS FUNCTION: None\n",
    "    \n",
    "    RETURNS: err_vec\n",
    "    --------------------------------------------------------------------\n",
    "    '''\n",
    "    (mean_ct_data, mean_kt_data, mean_ctyt_data, var_yt_data,\n",
    "    corr_ctct_data, corr_ctkt_data) = data_moments(k_t, c_t, y_t)   \n",
    "    moms_data = np.array([[mean_ct_data], [mean_kt_data], [mean_ctyt_data], [var_yt_data],\n",
    "                          [corr_ctct_data], [corr_ctkt_data]])\n",
    "    (mean_ct_sim, mean_kt_sim, mean_ctyt_sim, var_yt_sim,\n",
    "    corr_ctct_sim, corr_ctkt_sim) = data_moments(k_sim_t, c_sim_t, y_sim_t)    \n",
    "    mean_ct_mod = np.mean(mean_ct_sim)\n",
    "    mean_kt_mod = np.mean(mean_kt_sim)\n",
    "    mean_ctyt_mod = np.mean(mean_ctyt_sim)\n",
    "    var_yt_mod = np.mean(var_yt_sim)\n",
    "    corr_ctct_mod = np.mean(corr_ctct_sim)\n",
    "    corr_ctkt_mod = np.mean(corr_ctkt_sim)\n",
    "    moms_model = np.array([[mean_ct_mod], [mean_kt_mod], [mean_ctyt_mod], [var_yt_mod], \n",
    "                          [corr_ctct_mod], [corr_ctkt_mod]])\n",
    "    if simple:\n",
    "        err_vec = moms_model - moms_data\n",
    "    else:\n",
    "        err_vec = (moms_model - moms_data) / moms_data\n",
    "    \n",
    "    return err_vec\n",
    "\n",
    "\n",
    "def criterion(params, *args):\n",
    "    '''\n",
    "    --------------------------------------------------------------------\n",
    "    This function computes the SMM weighted sum of squared moment errors\n",
    "    criterion function value given parameter values and an estimate of\n",
    "    the weighting matrix.\n",
    "    --------------------------------------------------------------------\n",
    "    INPUTS:\n",
    "    params    = (4,) vector, ([])\n",
    "    alpha     = scalar, 0 < alpha < 1\n",
    "    rho       = scalar, -1 < rho < 1\n",
    "    mu        = scalar > 0\n",
    "    sigma     = scalar > 0\n",
    "    args      = length 8 tuple,\n",
    "                (c_t, k_t, y_t, unif_vals, W_hat)\n",
    "    c_t       = (N, S) matrix, (N,) or vector, consumption, either real world or \n",
    "                simulated. Real world data will come in the form (N,).\n",
    "                Simulated data comes in the form (N,) or (N, S). \n",
    "    k_t       = (N, S) matrix, (N,) or vector, capital, either real world or \n",
    "                simulated. Real world data will come in the form (N,).\n",
    "                Simulated data comes in the form (N,) or (N, S). \n",
    "    y_t       = (N, S) matrix, (N,) or vector, output, either real world or \n",
    "                simulated. Real world data will come in the form (N,).\n",
    "                Simulated data comes in the form (N,) or (N, S). \n",
    "    beta      = scalar, 0 < beta < 1\n",
    "    unif_vals = (N, S) matrix, matrix of draws from U(0,1) distribution.\n",
    "                This fixes the seed of the draws for the simulations\n",
    "    W_hat     = (R, R) matrix, estimate of optimal weighting matrix\n",
    "    \n",
    "   \n",
    "    OBJECTS CREATED WITHIN FUNCTION:\n",
    "    eps_t      = normally distributed errors\n",
    "    err        = (6, 1) matrix, vector of six moment error functions\n",
    "    crit_val   = scalar > 0, GMM criterion function value\n",
    "    \n",
    "    FILES CREATED BY THIS FUNCTION: None\n",
    "    \n",
    "    RETURNS: crit_val\n",
    "    --------------------------------------------------------------------\n",
    "    '''\n",
    "    alpha, rho, mu, sigma = params\n",
    "    c_t, k_t, y_t, beta, unif_vals, W_hat, S, T = args\n",
    "    eps_t = sts.norm.ppf(unif_vals, loc=0, scale=sigma)\n",
    "    z_t, k_sim_t, w_sim_t, r_sim_t, c_sim_t, y_sim_t = generator(alpha, beta, rho, mu,\n",
    "                                                                 sigma, eps_t, T, S)\n",
    "    (mean_ct_data, mean_kt_data, mean_ctyt_data, var_yt_data, corr_ctct_data,\n",
    "    corr_ctkt_data) = data_moments(c_t, k_t, y_t)\n",
    "    (mean_ct_sim, mean_kt_sim, mean_ctyt_sim, var_yt_sim, corr_ctct_sim,\n",
    "    corr_ctkt_sim) = data_moments(c_sim_t, k_sim_t, y_sim_t)\n",
    "    err = err_vec(c_t, k_t, y_t, c_sim_t, k_sim_t, y_sim_t, simple=False)\n",
    "    crit_val = np.dot(np.dot(err.T, W_hat), err) \n",
    "    \n",
    "    return crit_val"
   ]
  },
  {
   "cell_type": "markdown",
   "metadata": {},
   "source": [
    "SMM routine: let's set our global and initial parameters (we'll use $W = I$):"
   ]
  },
  {
   "cell_type": "code",
   "execution_count": 21,
   "metadata": {},
   "outputs": [
    {
     "name": "stdout",
     "output_type": "stream",
     "text": [
      "alpha_SMM= 0.421003315084 rho_SMM= 0.99 mu_SMM= 9.91199426198 sigma_SMM= 0.0499435019757\n"
     ]
    }
   ],
   "source": [
    "S = 1000\n",
    "T = 100\n",
    "beta = 0.99\n",
    "alpha_init = 0.5\n",
    "rho_init = 0.5\n",
    "mu_init = 8\n",
    "sigma_init = 0.5\n",
    "unif_vals = sts.uniform.rvs(0, 1, size=(T, S))\n",
    "\n",
    "params_init = np.array([alpha_init, rho_init, mu_init, sigma_init])\n",
    "W_hat = np.eye(6)\n",
    "smm_args = (c_t, k_t, y_t, beta, unif_vals, W_hat, S, T)\n",
    "results1 = opt.minimize(criterion, params_init, args=(smm_args),\n",
    "                          method='L-BFGS-B', bounds=((0.01, 1 - 0.01), (-1 + 0.01, 1 - 0.01),\n",
    "                                                    (5, 14), (0.01, 1 + 0.01)))\n",
    "alpha_SMM, rho_SMM, mu_SMM, sigma_SMM = results1.x\n",
    "print('alpha_SMM=', alpha_SMM, 'rho_SMM=', rho_SMM, 'mu_SMM=', mu_SMM,\n",
    "      'sigma_SMM=', sigma_SMM)"
   ]
  },
  {
   "cell_type": "code",
   "execution_count": 22,
   "metadata": {},
   "outputs": [
    {
     "data": {
      "text/plain": [
       "      fun: array([[ 0.00064195]])\n",
       " hess_inv: <4x4 LbfgsInvHessProduct with dtype=float64>\n",
       "      jac: array([ -7.01934171e-07,  -8.47468540e-02,  -6.26018334e-08,\n",
       "        -2.18822356e-06])\n",
       "  message: b'CONVERGENCE: NORM_OF_PROJECTED_GRADIENT_<=_PGTOL'\n",
       "     nfev: 340\n",
       "      nit: 40\n",
       "   status: 0\n",
       "  success: True\n",
       "        x: array([ 0.42100332,  0.99      ,  9.91199426,  0.0499435 ])"
      ]
     },
     "execution_count": 22,
     "metadata": {},
     "output_type": "execute_result"
    }
   ],
   "source": [
    "results1"
   ]
  },
  {
   "cell_type": "markdown",
   "metadata": {},
   "source": [
    "Let's check our moments:"
   ]
  },
  {
   "cell_type": "code",
   "execution_count": 23,
   "metadata": {},
   "outputs": [
    {
     "name": "stdout",
     "output_type": "stream",
     "text": [
      "Data mean c_t = 6643985.1383 , Data mean k_t = 9281790.48567 , Data mean c_t/k_t = 0.420745434314 ,\n",
      "Data variance y_t = 2.83778250589e+13 , Data corr c_t c_t-1 = 0.941096816591 ,\n",
      "Data corr c_t k_t = 0.940803053798\n",
      "Model mean c_t = 9300488.52455 , Model mean k_t = 6636965.73538 , Model mean c_t/k_t = 0.582207050049 ,\n",
      "Model variance y_t = 2.83740059102e+13 , Model corr c_t c_t-1 = 0.93271224467 ,\n",
      "Model corr c_t k_t = 0.918628816083\n",
      "Error vector = [-0.0010565   0.00201449 -0.00701727 -0.00013458  0.03127867 -0.02356948]\n",
      "Criterion = [[ 0.00064195]]\n"
     ]
    }
   ],
   "source": [
    "(mean_ct_data, mean_kt_data, mean_ctyt_data, var_yt_data,\n",
    "    corr_ctct_data, corr_ctkt_data) = data_moments(k_t, c_t, y_t)   \n",
    "print('Data mean c_t =', mean_ct_data, ', Data mean k_t =', mean_kt_data,\n",
    "     ', Data mean c_t/k_t =', mean_ctyt_data, ',\\nData variance y_t =', var_yt_data,\n",
    "     ', Data corr c_t c_t-1 =', corr_ctct_data, ',\\nData corr c_t k_t =', corr_ctkt_data)\n",
    "eps_t_SMM = sts.norm.ppf(unif_vals, loc=0, scale=sigma_SMM)\n",
    "z_t, k_sim_t, w_sim_t, r_sim_t, c_sim_t, y_sim_t = generator(alpha_SMM, beta, rho_SMM, mu_SMM,\n",
    "                                                                 sigma_SMM, eps_t_SMM, T, S)\n",
    "(mean_ct_sim, mean_kt_sim, mean_ctyt_sim, var_yt_sim, corr_ctct_sim,\n",
    "corr_ctkt_sim) = data_moments(c_sim_t, k_sim_t, y_sim_t)\n",
    "mean_ct_mod = np.mean(mean_ct_sim)\n",
    "mean_kt_mod = np.mean(mean_kt_sim)\n",
    "mean_ctyt_mod = np.mean(mean_ctyt_sim)\n",
    "var_yt_mod = np.mean(var_yt_sim)\n",
    "corr_ctct_mod = np.mean(corr_ctct_sim)\n",
    "corr_ctkt_mod = np.mean(corr_ctkt_sim)\n",
    "print('Model mean c_t =', mean_ct_mod, ', Model mean k_t =', mean_kt_mod,\n",
    "     ', Model mean c_t/k_t =', mean_ctyt_mod, ',\\nModel variance y_t =', var_yt_mod,\n",
    "     ', Model corr c_t c_t-1 =', corr_ctct_mod, ',\\nModel corr c_t k_t =', corr_ctkt_mod)\n",
    "err_1 = err_vec(k_t, c_t, y_t, k_sim_t, c_sim_t, y_sim_t, False).reshape(6,)\n",
    "print('Error vector =', err_1)\n",
    "print('Criterion =', results1.fun)"
   ]
  },
  {
   "cell_type": "markdown",
   "metadata": {},
   "source": [
    "Let's see if we can do better:"
   ]
  },
  {
   "cell_type": "code",
   "execution_count": 24,
   "metadata": {},
   "outputs": [
    {
     "name": "stdout",
     "output_type": "stream",
     "text": [
      "[[  1.11620263e-08  -2.12831457e-08   7.41378033e-08   1.42186702e-09\n",
      "   -3.30460663e-07   2.49012702e-07]\n",
      " [ -2.12831457e-08   4.05815467e-08  -1.41361938e-07  -2.71113883e-09\n",
      "    6.30104451e-07  -4.74803901e-07]\n",
      " [  7.41378033e-08  -1.41361938e-07   4.92420799e-07   9.44399296e-09\n",
      "   -2.19490862e-06   1.65393400e-06]\n",
      " [  1.42186702e-09  -2.71113883e-09   9.44399296e-09   1.81123550e-10\n",
      "   -4.20955037e-08   3.17203113e-08]\n",
      " [ -3.30460663e-07   6.30104451e-07  -2.19490862e-06  -4.20955037e-08\n",
      "    9.78355071e-06  -7.37221905e-06]\n",
      " [  2.49012702e-07  -4.74803901e-07   1.65393400e-06   3.17203113e-08\n",
      "   -7.37221905e-06   5.55520335e-06]]\n",
      "[[  4.42458481e+01  -8.43655809e+01   2.93879436e+02   5.63622685e+00\n",
      "   -1.30993352e+03   9.87076891e+02]\n",
      " [ -8.43655809e+01   1.60863709e+02  -5.60353354e+02  -1.07468514e+01\n",
      "    2.49771011e+03  -1.88210463e+03]\n",
      " [  2.93879436e+02  -5.60353354e+02   1.95193734e+03   3.74356294e+01\n",
      "   -8.70053440e+03   6.55613155e+03]\n",
      " [  5.63622685e+00  -1.07468514e+01   3.74356294e+01   7.17966871e-01\n",
      "   -1.66864978e+02   1.25738109e+02]\n",
      " [ -1.30993352e+03   2.49771011e+03  -8.70053440e+03  -1.66864978e+02\n",
      "    3.87816234e+04  -2.92231963e+04]\n",
      " [  9.87076891e+02  -1.88210463e+03   6.55613155e+03   1.25738109e+02\n",
      "   -2.92231963e+04   2.20206151e+04]]\n"
     ]
    }
   ],
   "source": [
    "err_1 = err_vec(k_t, c_t, y_t, k_sim_t, c_sim_t, y_sim_t, False)\n",
    "VCV2 = np.dot(err_1, err_1.T) / 100\n",
    "print(VCV2)\n",
    "W_hat2 = lin.pinv(VCV2)  # Use the pseudo-inverse calculated by SVD because VCV2 is ill-conditioned\n",
    "print(W_hat2)"
   ]
  },
  {
   "cell_type": "code",
   "execution_count": 26,
   "metadata": {},
   "outputs": [
    {
     "name": "stdout",
     "output_type": "stream",
     "text": [
      "alpha_SMM= 0.421003315084 rho_SMM= 0.99 mu_SMM= 9.91199426198 sigma_SMM= 0.0499435019757\n",
      "alpha_SMM2= 0.406382490315 rho_SMM2= 0.988400177282 mu_SMM2= 10.0007535928 sigma_SMM2= 0.0782525250341\n"
     ]
    }
   ],
   "source": [
    "params_init = np.array([alpha_SMM, rho_SMM, mu_SMM, sigma_SMM])\n",
    "smm_args = (c_t, k_t, y_t, beta, unif_vals, W_hat2, S, T)\n",
    "results2 = opt.minimize(criterion, params_init, args=(smm_args),\n",
    "                          method='L-BFGS-B', bounds=((0.01, 1 - 0.01), (-1 + 0.01, 1 - 0.01),\n",
    "                                                    (5, 14), (0.01, 1 + 0.01)))\n",
    "alpha_SMM2, rho_SMM2, mu_SMM2, sigma_SMM2 = results2.x\n",
    "print('alpha_SMM=', alpha_SMM, 'rho_SMM=', rho_SMM, 'mu_SMM=', mu_SMM,\n",
    "      'sigma_SMM=', sigma_SMM)\n",
    "print('alpha_SMM2=', alpha_SMM2, 'rho_SMM2=', rho_SMM2, 'mu_SMM2=', mu_SMM2,\n",
    "      'sigma_SMM2=', sigma_SMM2)"
   ]
  },
  {
   "cell_type": "markdown",
   "metadata": {},
   "source": [
    "Estimates:"
   ]
  },
  {
   "cell_type": "code",
   "execution_count": 27,
   "metadata": {},
   "outputs": [
    {
     "data": {
      "text/plain": [
       "      fun: array([[  1.61286010e-12]])\n",
       " hess_inv: <4x4 LbfgsInvHessProduct with dtype=float64>\n",
       "      jac: array([ -2.71437613e-05,  -1.59081312e-04,  -4.57716524e-05,\n",
       "        -1.61298247e-04])\n",
       "  message: b'CONVERGENCE: REL_REDUCTION_OF_F_<=_FACTR*EPSMCH'\n",
       "     nfev: 55\n",
       "      nit: 6\n",
       "   status: 0\n",
       "  success: True\n",
       "        x: array([  0.40638249,   0.98840018,  10.00075359,   0.07825253])"
      ]
     },
     "execution_count": 27,
     "metadata": {},
     "output_type": "execute_result"
    }
   ],
   "source": [
    "results2"
   ]
  },
  {
   "cell_type": "code",
   "execution_count": 28,
   "metadata": {},
   "outputs": [
    {
     "name": "stdout",
     "output_type": "stream",
     "text": [
      "Data mean c_t = 6643985.1383 , Data mean k_t = 9281790.48567 , Data mean c_t/k_t = 0.420745434314 ,\n",
      "Data variance y_t = 2.83778250589e+13 , Data corr c_t c_t-1 = 0.941096816591 ,\n",
      "Data corr c_t k_t = 0.940803053798\n",
      "Model 2 mean c_t = 8331372.24548 , Model 2 mean k_t = 5609562.01039 , Model 2 mean c_t/k_t = 0.59456850544 ,\n",
      "Model 2 variance y_t = 6.77787320837e+13 , Model 2 corr c_t c_t-1 = 0.926398220096 ,\n",
      "Model 2 corr c_t k_t = 0.901374204429\n",
      "Error vector 2 = [-0.15569317 -0.102396   -0.03639716  1.38843999  0.02348743 -0.04190978]\n",
      "Criterion 2 = [[  1.61286010e-12]]\n",
      "Model 1 mean c_t = 9300488.52455 , Model 1 mean k_t = 6636965.73538 , Model 1 mean c_t/k_t = 0.582207050049 ,\n",
      "Model 1 variance y_t = 2.83740059102e+13 , Model 1 corr c_t c_t-1 = 0.93271224467 ,\n",
      "Model 1 corr c_t k_t = 0.918628816083\n",
      "Error vector 1 = [-0.0010565   0.00201449 -0.00701727 -0.00013458  0.03127867 -0.02356948]\n",
      "Criterion 1 = [[ 0.00064195]]\n"
     ]
    }
   ],
   "source": [
    "(mean_ct_data, mean_kt_data, mean_ctyt_data, var_yt_data,\n",
    "    corr_ctct_data, corr_ctkt_data) = data_moments(k_t, c_t, y_t)   \n",
    "print('Data mean c_t =', mean_ct_data, ', Data mean k_t =', mean_kt_data,\n",
    "     ', Data mean c_t/k_t =', mean_ctyt_data, ',\\nData variance y_t =', var_yt_data,\n",
    "     ', Data corr c_t c_t-1 =', corr_ctct_data, ',\\nData corr c_t k_t =', corr_ctkt_data)\n",
    "eps_t_SMM2 = sts.norm.ppf(unif_vals, loc=0, scale=sigma_SMM2)\n",
    "z2_t, k_sim2_t, w_sim2_t, r_sim2_t, c_sim2_t, y_sim2_t = generator(alpha_SMM2, beta, rho_SMM2,\n",
    "                                                                   mu_SMM2, sigma_SMM2,\n",
    "                                                                   eps_t_SMM2, T, S)\n",
    "(mean_ct_sim2, mean_kt_sim2, mean_ctyt_sim2, var_yt_sim2, corr_ctct_sim2,\n",
    "corr_ctkt_sim2) = data_moments(c_sim2_t, k_sim2_t, y_sim2_t)\n",
    "mean_ct_mod2 = np.mean(mean_ct_sim2)\n",
    "mean_kt_mod2 = np.mean(mean_kt_sim2)\n",
    "mean_ctyt_mod2 = np.mean(mean_ctyt_sim2)\n",
    "var_yt_mod2 = np.mean(var_yt_sim2)\n",
    "corr_ctct_mod2 = np.mean(corr_ctct_sim2)\n",
    "corr_ctkt_mod2 = np.mean(corr_ctkt_sim2)\n",
    "print('Model 2 mean c_t =', mean_ct_mod2, ', Model 2 mean k_t =', mean_kt_mod2,\n",
    "     ', Model 2 mean c_t/k_t =', mean_ctyt_mod2, ',\\nModel 2 variance y_t =', var_yt_mod2,\n",
    "     ', Model 2 corr c_t c_t-1 =', corr_ctct_mod2, ',\\nModel 2 corr c_t k_t =', corr_ctkt_mod2)\n",
    "err_2 = err_vec(k_t, c_t, y_t, k_sim2_t, c_sim2_t, y_sim2_t, False).reshape(6,)\n",
    "print('Error vector 2 =', err_2)\n",
    "print('Criterion 2 =', results2.fun)\n",
    "print('Model 1 mean c_t =', mean_ct_mod, ', Model 1 mean k_t =', mean_kt_mod,\n",
    "     ', Model 1 mean c_t/k_t =', mean_ctyt_mod, ',\\nModel 1 variance y_t =', var_yt_mod,\n",
    "     ', Model 1 corr c_t c_t-1 =', corr_ctct_mod, ',\\nModel 1 corr c_t k_t =', corr_ctkt_mod)\n",
    "err_1 = err_vec(k_t, c_t, y_t, k_sim_t, c_sim_t, y_sim_t, False).reshape(6,)\n",
    "print('Error vector 1 =', err_1)\n",
    "print('Criterion 1 =', results1.fun)"
   ]
  },
  {
   "cell_type": "markdown",
   "metadata": {},
   "source": [
    "Comparing Model 2 ($W_{two\\;step}$) with Model 1 ($W = I$), it seems that we did better on $c_t$, but at the expense of the other moments. As usual, since we've changed the weighting matrix, the criterion function values are not comparable."
   ]
  },
  {
   "cell_type": "markdown",
   "metadata": {},
   "source": [
    "We can also check non-estimated models:"
   ]
  },
  {
   "cell_type": "code",
   "execution_count": 29,
   "metadata": {},
   "outputs": [
    {
     "name": "stdout",
     "output_type": "stream",
     "text": [
      "Data mean w_t = 9215060.73552 , Model 1 mean w_t = 9227733.1825 , Model 2 mean w_t = 8275582.67565\n",
      "Data var. c_t = 9.68505769833e+12 , Model 1 var. c_t = 1.0121079561e+13 , Model 2 var. c_t = 2.55021400223e+13\n",
      "Data mean r_t = 1.00930722271 , Model 1 mean r_t = 1.01072497137 , Model 2 mean r_t = 1.01024289292\n"
     ]
    }
   ],
   "source": [
    "print('Data mean w_t =', np.mean(omega_t), ', Model 1 mean w_t =', np.mean(np.mean(w_sim_t, axis=0)),\n",
    "     ', Model 2 mean w_t =', np.mean(np.mean(w_sim2_t, axis=0)))\n",
    "print('Data var. c_t =', np.var(c_t), ', Model 1 var. c_t =', np.mean(np.var(c_sim_t, axis=0)),\n",
    "     ', Model 2 var. c_t =', np.mean(np.var(c_sim2_t, axis=0)))\n",
    "print('Data mean r_t =', np.mean(r_t), ', Model 1 mean r_t =', np.mean(np.mean(r_sim_t, axis=0)),\n",
    "     ', Model 2 mean r_t =', np.mean(np.mean(r_sim2_t, axis=0)))"
   ]
  },
  {
   "cell_type": "markdown",
   "metadata": {},
   "source": [
    "Model 1 ($W = I$) seems to be better."
   ]
  }
 ],
 "metadata": {
  "kernelspec": {
   "display_name": "Python 3",
   "language": "python",
   "name": "python3"
  },
  "language_info": {
   "codemirror_mode": {
    "name": "ipython",
    "version": 3
   },
   "file_extension": ".py",
   "mimetype": "text/x-python",
   "name": "python",
   "nbconvert_exporter": "python",
   "pygments_lexer": "ipython3",
   "version": "3.6.3"
  }
 },
 "nbformat": 4,
 "nbformat_minor": 2
}
