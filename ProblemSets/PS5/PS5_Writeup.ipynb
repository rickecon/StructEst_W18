{
 "cells": [
  {
   "cell_type": "markdown",
   "metadata": {},
   "source": [
    "# Problem Set 5\n",
    "## By Scott Behmer. February 11, 2018.\n",
    "In this problem set the parameters of the Brock and Murman model are estimated using simulated method of moments. The code requires the dataset \"NewMacroSeries.txt\". If that data is not in the same folder, the import command will have to be changed.\n",
    "\n",
    "The cell below imports the required packages and loads the data."
   ]
  },
  {
   "cell_type": "code",
   "execution_count": 2,
   "metadata": {
    "collapsed": true
   },
   "outputs": [],
   "source": [
    "# Import packages and load the data\n",
    "import numpy as np\n",
    "import numpy.random as rnd\n",
    "import numpy.linalg as lin\n",
    "import scipy.stats as sts\n",
    "import scipy.integrate as intgr\n",
    "import scipy.optimize as opt\n",
    "import matplotlib\n",
    "import matplotlib.pyplot as plt\n",
    "from mpl_toolkits.mplot3d import Axes3D\n",
    "from matplotlib import cm\n",
    "cmap1 = matplotlib.cm.get_cmap('summer')\n",
    "# This next command is specifically for Jupyter Notebook\n",
    "%matplotlib notebook\n",
    "\n",
    "pts = np.loadtxt('NewMacroSeries.txt', delimiter = \",\")"
   ]
  },
  {
   "cell_type": "markdown",
   "metadata": {},
   "source": [
    "The function \"drawnormal\" takes a matrix of values generated from a uniform(0, 1) distribution and outputs a matrix of normally distributed values with mean zero and variance sigma. Each uniform value is plugged into the inverse cdf function of the normal distribution, which will output the corresponding normal value."
   ]
  },
  {
   "cell_type": "code",
   "execution_count": 3,
   "metadata": {
    "collapsed": true
   },
   "outputs": [],
   "source": [
    "def drawnormal(unif_vals, sigma):\n",
    "    norm_draws = sts.norm.ppf(unif_vals, loc=0, scale=sigma)\n",
    "    return norm_draws"
   ]
  },
  {
   "cell_type": "markdown",
   "metadata": {},
   "source": [
    "Six moments are used to identify the four parameters of the model:\n",
    "$$mean(c_t)$$\n",
    "$$mean(k_t)$$\n",
    "$$mean\\left(\\frac{c_t}{y_t}\\right)$$\n",
    "$$var(y_t)$$\n",
    "$$corr(c_{t}, c{t-1})$$\n",
    "$$corr(c_{t}, k{t})$$\n",
    "\n",
    "Seven functions are defined in the cell below:\n",
    "1. The mom_data function takes in the macro dataset (which is a 100x4 array, corresponding to 100 time periods and 4 macro variables) and outputs the six moments. This function will be used for both the real dataset and the simulated datasets.\n",
    "2. The sim_z function takes in parameter values and a matrix of normally distributed values. It outputs the time series for z (total factor productivity).\n",
    "3. The sim_k function takes parameter values and the z-time series. It outputs the time series for k.\n",
    "4. The sim_c function takes in parameter values and time series for z, k, r, and w. It outputs the time series for c.\n",
    "5. The mom_model function takes in parameter values and our matrix of uniform values. It outputs the six simulated moments. To do this is first creates 1000 simulated datasets (each of 100 observations) by calling the drawnormal, sim_z, sim_k, and sim_c functions. Each of these simulated datasets are then fed into the mom_data function to calculate 1000 sets of moments. These are then averaged to find our six simulated moments.\n",
    "6. The error function takes in real data, a matrix of uniform values, and parameter values. It calls the mom_data and mom_model functions to calculate the two moment vectors. The relative difference between these is outputted as the error vector.\n",
    "7. The criterion function will be minimized to determine our parameter estimates. It takes in data, simulated values, and parameter values. It outputs the magnitude of the error vector."
   ]
  },
  {
   "cell_type": "code",
   "execution_count": 4,
   "metadata": {
    "collapsed": true
   },
   "outputs": [],
   "source": [
    "def mom_data(data):\n",
    "    moments = np.zeros(6)\n",
    "    moments[0] = np.mean(data[:, 0])\n",
    "    moments[1] = np.mean(data[:, 1])\n",
    "    moments[2] = np.mean(data[:, 0]/data[:, 4])\n",
    "    moments[3] = np.var(data[:, 4])\n",
    "    moments[5] = np.corrcoef(data[:, 0], data[:, 1])[0, 1]\n",
    "    lag = np.zeros(len(data)-1)\n",
    "    dummy = np.zeros(len(data)-1)\n",
    "    for i in range(0, len(data)-1):\n",
    "        lag[i]=data[i][0]\n",
    "        dummy[i]=data[i+1][0]\n",
    "    moments[4] = np.corrcoef(lag, dummy)[0, 1]\n",
    "    return moments\n",
    "\n",
    "def sim_z(eps, rho, mu, sigma):\n",
    "    z = np.zeros(np.shape(eps))\n",
    "    z[0, :] = mu + eps[0, :]\n",
    "    for i in range(1, len(eps)):\n",
    "        z[i, :] = rho*z[i-1, :] + (1-rho)*mu + eps[i, :]\n",
    "    return z\n",
    "\n",
    "def sim_k(z, k1, alpha):\n",
    "    k = np.zeros(np.shape(z))\n",
    "    #k1 is the initial k value\n",
    "    k[0, :] = k1\n",
    "    for i in range(1, len(k)):\n",
    "        k[i, :] = alpha*.99*np.exp(z[i, :])*(k[i-1, :]**alpha)\n",
    "    return k\n",
    "\n",
    "def sim_c(k, w, r, z, alpha):\n",
    "    c = np.zeros(np.shape(k))\n",
    "    for i in range(0, len(k)-1):\n",
    "        c[i, :]= w[i, :] + r[i, :]*k[i, :] - k[i+1, :]\n",
    "    f = len(k)-1\n",
    "    c[f, :] = w[f, :]+ r[f, :]*k[f, :] - alpha*.99*np.exp(z[f, :])*(k[f, :]**alpha)\n",
    "    return c\n",
    "        \n",
    "def mom_model(unif_values, alpha, rho, mu, sigma, k1):\n",
    "    eps = drawnormal(unif_values, sigma)\n",
    "    z = sim_z(eps, rho, mu, sigma)\n",
    "    k = sim_k(z, k1, alpha)\n",
    "    w = (1-alpha)*np.exp(z)*(k**alpha)\n",
    "    r = alpha*np.exp(z)*(k**(alpha-1))\n",
    "    c = sim_c(k, w, r, z, alpha)\n",
    "    y = np.exp(z)*(k**alpha)\n",
    "    moments = np.zeros(6)\n",
    "    tempdata = np.zeros((100, 5))\n",
    "    for i in range(0, np.shape(unif_values)[1]):\n",
    "        tempdata[:, 0], tempdata[:, 1], tempdata[:,2], tempdata[:,3], tempdata[:,4] = c[:,i], k[:,i], w[:,i], r[:,i], y[:,i]\n",
    "        moments += mom_data(tempdata)\n",
    "    return moments/1000\n",
    "\n",
    "def error(data, unif_values, alpha, rho, mu, sigma, k1):\n",
    "    datamoments = mom_data(data)\n",
    "    modelmoments = mom_model(unif_values, alpha, rho, mu, sigma, k1)\n",
    "    errorvec = (datamoments - modelmoments)/modelmoments\n",
    "    return errorvec\n",
    "    \n",
    "def crit(params, *args):\n",
    "    alpha, rho, mu, sigma = params\n",
    "    data, unif_values, W, k1 = args\n",
    "    err = error(data, unif_values, alpha, rho, mu, sigma, k1)\n",
    "    criterion = np.dot(np.dot(err.T, W), err)\n",
    "    #Use the below command for trouble-shooting\n",
    "    #print(alpha, rho, mu, sigma, criterion)\n",
    "    return criterion"
   ]
  },
  {
   "cell_type": "markdown",
   "metadata": {},
   "source": [
    "The cell below minimizes the criterion function and prints out the estimated parameter values. Note that the bounds for $\\alpha$ are slightly different than those given in the problem set. If the bounds are set to be (0.01, .99), the optimizer eventually tries $\\alpha = .99$, which leads to the investment series blowing up to infinity. To avoid this, the upper bound is set to .8. Because the resulting estimate is significantly lower than this upper bound anyway, it doesn't seem that this change in bounds is eliminating an important portion of the parameter space. \n",
    "\n",
    "Although the optimization takes about five minutes to run (perhaps this could be fixed by making the simulated moment code more efficient), it successfully finds a local minimum. The resulting parameter values seem to be robust to changes in initial conditions. The resulting criterion value is .0052. Notice that the rho value, representing the persistence of TFP shocks, is right up against its upper bound. This is why using an unconstrained optimization method would not yield proper results."
   ]
  },
  {
   "cell_type": "code",
   "execution_count": 8,
   "metadata": {},
   "outputs": [
    {
     "name": "stdout",
     "output_type": "stream",
     "text": [
      " alpha_gmm: 0.4206700577  rho_gmm: 0.99  mu_gmm: 9.91399686613  sigma_gmm: 0.0507436686869\n",
      "The resulting criterion value is:  0.0052044883753\n"
     ]
    },
    {
     "data": {
      "text/plain": [
       "      fun: 0.0052044883752979717\n",
       " hess_inv: <4x4 LbfgsInvHessProduct with dtype=float64>\n",
       "      jac: array([ -3.48235329e-05,  -2.26879340e-01,  -1.97246733e-06,\n",
       "        -8.85680418e-06])\n",
       "  message: b'CONVERGENCE: REL_REDUCTION_OF_F_<=_FACTR*EPSMCH'\n",
       "     nfev: 275\n",
       "      nit: 28\n",
       "   status: 0\n",
       "  success: True\n",
       "        x: array([ 0.42067006,  0.99      ,  9.91399687,  0.05074367])"
      ]
     },
     "execution_count": 8,
     "metadata": {},
     "output_type": "execute_result"
    }
   ],
   "source": [
    "#Defining Parameter Bounds\n",
    "bnds = ((0.01, .8), (-.99, .99), (5, 14), (.01, 1.1))\n",
    "#Definining initial parameter values\n",
    "alpha_init, rho_init, mu_init, sigma_init = 0.44, 0.72, 9.45, .09\n",
    "params_init = np.array([alpha_init, rho_init, mu_init, sigma_init])\n",
    "#Our weighting matrix is the identity matrix\n",
    "W_hat = np.eye(6)\n",
    "#The simulated initial investment is the mean of the actual data's investment time series.\n",
    "k1 = np.mean(pts[:,1])\n",
    "smm_args = (pts, unif_vals, W_hat, k1)\n",
    "#Minimizing the criterion function\n",
    "results = opt.minimize(crit, params_init, args=(smm_args), bounds = bnds)\n",
    "#Outputting parameter values\n",
    "alpha_gmm, rho_gmm, mu_gmm, sigma_gmm = results.x\n",
    "print(' alpha_gmm:', alpha_gmm, ' rho_gmm:', rho_gmm, ' mu_gmm:', mu_gmm, ' sigma_gmm:', sigma_gmm)\n",
    "#Outputting criterion values\n",
    "print('The resulting criterion value is: ', results.fun)\n",
    "results"
   ]
  }
 ],
 "metadata": {
  "kernelspec": {
   "display_name": "Python 3",
   "language": "python",
   "name": "python3"
  },
  "language_info": {
   "codemirror_mode": {
    "name": "ipython",
    "version": 3
   },
   "file_extension": ".py",
   "mimetype": "text/x-python",
   "name": "python",
   "nbconvert_exporter": "python",
   "pygments_lexer": "ipython3",
   "version": "3.6.3"
  }
 },
 "nbformat": 4,
 "nbformat_minor": 2
}
