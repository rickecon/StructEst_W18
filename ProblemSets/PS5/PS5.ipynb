{
 "cells": [
  {
   "cell_type": "markdown",
   "metadata": {},
   "source": [
    "## Data prep"
   ]
  },
  {
   "cell_type": "code",
   "execution_count": 4,
   "metadata": {
    "collapsed": true
   },
   "outputs": [],
   "source": [
    "# Import packages and load the data\n",
    "import numpy as np\n",
    "import scipy.special as spc\n",
    "import numpy.linalg as lin\n",
    "import scipy.stats as sts\n",
    "import scipy.integrate as intgr\n",
    "import scipy.optimize as opt\n",
    "import matplotlib\n",
    "import matplotlib.pyplot as plt\n",
    "from mpl_toolkits.mplot3d import Axes3D\n",
    "from matplotlib import cm\n",
    "%matplotlib notebook"
   ]
  },
  {
   "cell_type": "code",
   "execution_count": 6,
   "metadata": {},
   "outputs": [],
   "source": [
    "macro = np.loadtxt(\n",
    "    'C:/Users/Hrisi/Structural_estimation/StructEst_W18/ProblemSets/PS5/NewMacroSeries.txt', delimiter=\",\")"
   ]
  },
  {
   "cell_type": "code",
   "execution_count": 7,
   "metadata": {},
   "outputs": [],
   "source": [
    "c=macro[:,0]\n",
    "k=macro[:,1]\n",
    "w=macro[:,2]\n",
    "rate=macro[:,3]\n",
    "y=macro[:,4]"
   ]
  },
  {
   "cell_type": "code",
   "execution_count": 10,
   "metadata": {},
   "outputs": [
    {
     "name": "stdout",
     "output_type": "stream",
     "text": [
      "6643985.1383\n"
     ]
    }
   ],
   "source": [
    "b=0.99\n",
    "k_1=np.mean(k)\n",
    "print(k_1)"
   ]
  },
  {
   "cell_type": "code",
   "execution_count": 262,
   "metadata": {},
   "outputs": [
    {
     "name": "stdout",
     "output_type": "stream",
     "text": [
      "(100, 1000)\n"
     ]
    }
   ],
   "source": [
    "# simulate 100-dimensional unifirm vectors, 1000 times\n",
    "T = 100\n",
    "S = 1000\n",
    "unif_vals = sts.uniform.rvs(0, 1, size=(T, S))\n",
    "print(unif_vals.shape)\n"
   ]
  },
  {
   "cell_type": "code",
   "execution_count": 335,
   "metadata": {},
   "outputs": [],
   "source": [
    "def model_moments (unif_vals, alpha, rho, mu, sigma):\n",
    "    dim = np.shape(unif_vals)[1]\n",
    "    beta=0.99\n",
    "    e = sts.norm.ppf(unif_vals, loc=0, scale=sigma)\n",
    "    k_1=6643985.1383\n",
    "    z_0=mu\n",
    "    \n",
    "    z=[]\n",
    "    k=[]\n",
    "    w=[]\n",
    "    rate=[]\n",
    "    c=[]\n",
    "    y=[]\n",
    "    \n",
    "    # initialize all vectors for t=1\n",
    "    k.append(e[0]*0+k_1)\n",
    "    z.append(rho*z_0+(1-rho)*mu+e[0])\n",
    "    w.append((1-alpha) * np.exp(z[0]) * k[0]**alpha)\n",
    "    rate.append(alpha* np.exp(z[0])* k[0]**(alpha-1))\n",
    "    y.append(np.exp(z[0])*k[0]**alpha)\n",
    "    \n",
    "    \n",
    "    # calculate all values for t=2:100, for consumption they go t=1:99\n",
    "    for t in range(1, 100):\n",
    "        z.append(rho*z[t-1]+(1-rho)*mu+e[t])\n",
    "        k.append(alpha*beta*np.exp(z[t-1])*k[t-1]**alpha)\n",
    "        w.append((1-alpha) * np.exp(z[t]) * k[t]**alpha)\n",
    "        rate.append(alpha* np.exp(z[t])* k[t]**(alpha-1))\n",
    "        y.append(np.exp(z[t])*k[t]**alpha)\n",
    "        c.append(rate[t-1]*k[t-1]+w[t-1]-k[t])\n",
    "    \n",
    "    #Calculate k_101 and c_100\n",
    "    k.append(alpha*beta*np.exp(z[t-1])*k[t-1]**alpha)\n",
    "    c.append(rate[t-1]*k[t-1]+w[t-1]-k[t])\n",
    "    \n",
    "    # Calculate moments\n",
    "    m1 = np.mean(np.array(c))\n",
    "    m2 = np.mean(np.array(k[0:100]))\n",
    "    m3 = np.mean(np.array(c)/np.array(y))\n",
    "    m4 = np.mean(np.std(np.array(y), axis=0)**2)\n",
    "    m5 = np.trace((np.corrcoef(np.array(c[0:99]).T,np.array(c[1:100]).T))[0:dim,dim:dim*2])/dim\n",
    "    m6 = np.trace(np.corrcoef(np.array(c[0:100]).T,np.array(k[0:100]).T)[0:dim,dim:dim*2])/dim\n",
    "    \n",
    "    m=np.array([m1, m2, m3, m4, m5, m6])\n",
    "   \n",
    "    return m"
   ]
  },
  {
   "cell_type": "code",
   "execution_count": 336,
   "metadata": {},
   "outputs": [
    {
     "data": {
      "text/plain": [
       "array([  5.37161932e+06,   4.33894123e+06,   5.54512890e-01,\n",
       "         2.81393470e+12,   9.33988204e-01,   9.18555235e-01])"
      ]
     },
     "execution_count": 336,
     "metadata": {},
     "output_type": "execute_result"
    }
   ],
   "source": [
    "model_moments(unif_vals, 0.45,  0.9 ,  9.2 ,  0.05)"
   ]
  },
  {
   "cell_type": "code",
   "execution_count": 337,
   "metadata": {
    "collapsed": true
   },
   "outputs": [],
   "source": [
    "def data_moments(data):\n",
    "    c=macro[:,0]\n",
    "    k=macro[:,1]\n",
    "    w=macro[:,2]\n",
    "    rate=macro[:,3]\n",
    "    y=macro[:,4]\n",
    "    \n",
    "    m1 = np.mean(np.array(c))\n",
    "    m2 = np.mean(np.array(k))\n",
    "    m3 = np.mean(np.array(c)/np.array(y))\n",
    "    m4 = np.std(np.array(y))**2\n",
    "    m5 = np.corrcoef(np.array(c[0:99]),np.array(c[1:100]))[0,1]\n",
    "    m6 = np.corrcoef(np.array(c[0:100]), np.array(k[0:100]))[0,1]\n",
    "    \n",
    "    m=np.array([m1, m2, m3, m4, m5, m6])    \n",
    "    \n",
    "    return m    "
   ]
  },
  {
   "cell_type": "code",
   "execution_count": 338,
   "metadata": {},
   "outputs": [
    {
     "data": {
      "text/plain": [
       "array([  9.28179049e+06,   6.64398514e+06,   5.84200000e-01,\n",
       "         2.83778251e+13,   9.40559181e-01,   9.40803054e-01])"
      ]
     },
     "execution_count": 338,
     "metadata": {},
     "output_type": "execute_result"
    }
   ],
   "source": [
    "data_moments(macro)"
   ]
  },
  {
   "cell_type": "code",
   "execution_count": 366,
   "metadata": {
    "collapsed": true
   },
   "outputs": [],
   "source": [
    "def criterion(params, *args):\n",
    "    alpha, rho, mu, sigma = params\n",
    "    xvals, unif_vals, W = args\n",
    "    err = (model_moments(unif_vals,alpha, rho, mu, sigma)-data_moments(xvals))/data_moments(xvals)\n",
    "    crit_val = np.dot(np.dot(err.T, W), err)\n",
    "    \n",
    "    return crit_val"
   ]
  },
  {
   "cell_type": "code",
   "execution_count": 367,
   "metadata": {},
   "outputs": [
    {
     "data": {
      "text/plain": [
       "1.8521499313374798"
      ]
     },
     "execution_count": 367,
     "metadata": {},
     "output_type": "execute_result"
    }
   ],
   "source": [
    "params = np.array([ 0.43,  0.9 ,  9.2 ,  0.02])\n",
    "W = np.eye(6)\n",
    "smm_args = (macro, unif_vals, W)\n",
    "criterion(params,macro, unif_vals, W)"
   ]
  },
  {
   "cell_type": "code",
   "execution_count": 371,
   "metadata": {},
   "outputs": [
    {
     "name": "stdout",
     "output_type": "stream",
     "text": [
      "alpha_SMM= 0.421058336986  rho_SMM= 0.924230727468  mu_SMM= 9.93169889444  sigma_SMM= 0.0885010843182\n"
     ]
    }
   ],
   "source": [
    "alpha_init = 0.47\n",
    "rho_init = 0.9\n",
    "mu_init = 9.2\n",
    "sigma_init = 0.1\n",
    "\n",
    "params_init = np.array([alpha_init, rho_init, mu_init, sigma_init])\n",
    "W = np.eye(6)\n",
    "smm_args = (macro, unif_vals, W)\n",
    "results = opt.minimize(criterion, params_init, args=(smm_args),\n",
    "                       method='SLSQP', \n",
    "                       bounds=((0.01, 0.99), (-0.99,0.99), (5,14), (0.01, 1.1)))\n",
    "alpha_SMM, rho_SMM, mu_SMM, sigma_SMM = results.x\n",
    "print('alpha_SMM=', alpha_SMM, ' rho_SMM=', rho_SMM, ' mu_SMM=', mu_SMM, ' sigma_SMM=', sigma_SMM)"
   ]
  },
  {
   "cell_type": "markdown",
   "metadata": {},
   "source": [
    "### Estimated coefficints"
   ]
  },
  {
   "cell_type": "code",
   "execution_count": 375,
   "metadata": {},
   "outputs": [
    {
     "name": "stdout",
     "output_type": "stream",
     "text": [
      "alpha_SMM= 0.421058336986  rho_SMM= 0.924230727468  mu_SMM= 9.93169889444  sigma_SMM= 0.0885010843182\n"
     ]
    }
   ],
   "source": [
    "print('alpha_SMM=', alpha_SMM, ' rho_SMM=', rho_SMM, ' mu_SMM=', mu_SMM, ' sigma_SMM=', sigma_SMM)"
   ]
  },
  {
   "cell_type": "markdown",
   "metadata": {},
   "source": [
    "### Optimal criterion value"
   ]
  },
  {
   "cell_type": "code",
   "execution_count": 374,
   "metadata": {},
   "outputs": [
    {
     "data": {
      "text/plain": [
       "     fun: 4.272609070082227e-06\n",
       "     jac: array([ 0.00773056, -0.00125722,  0.00047585, -0.00250992])\n",
       " message: 'Optimization terminated successfully.'\n",
       "    nfev: 141\n",
       "     nit: 21\n",
       "    njev: 21\n",
       "  status: 0\n",
       " success: True\n",
       "       x: array([ 0.42105834,  0.92423073,  9.93169889,  0.08850108])"
      ]
     },
     "execution_count": 374,
     "metadata": {},
     "output_type": "execute_result"
    }
   ],
   "source": [
    "results"
   ]
  },
  {
   "cell_type": "markdown",
   "metadata": {},
   "source": [
    "### Compare data moments and model moments"
   ]
  },
  {
   "cell_type": "code",
   "execution_count": 376,
   "metadata": {},
   "outputs": [
    {
     "name": "stdout",
     "output_type": "stream",
     "text": [
      "Data moments= [  9.28179049e+06   6.64398514e+06   5.84200000e-01   2.83778251e+13\n",
      "   9.40559181e-01   9.40803054e-01]\n",
      "Simulated moments= [  9.28972122e+06   6.64000131e+06   5.83186924e-01   2.83761068e+13\n",
      "   9.40702379e-01   9.40439938e-01]\n"
     ]
    }
   ],
   "source": [
    "print('Data moments=', data_moments(macro))\n",
    "print('Simulated moments=', model_moments(unif_vals, alpha_SMM, rho_SMM, mu_SMM, sigma_SMM))"
   ]
  }
 ],
 "metadata": {
  "kernelspec": {
   "display_name": "Python 3",
   "language": "python",
   "name": "python3"
  },
  "language_info": {
   "codemirror_mode": {
    "name": "ipython",
    "version": 3
   },
   "file_extension": ".py",
   "mimetype": "text/x-python",
   "name": "python",
   "nbconvert_exporter": "python",
   "pygments_lexer": "ipython3",
   "version": "3.6.3"
  }
 },
 "nbformat": 4,
 "nbformat_minor": 2
}
